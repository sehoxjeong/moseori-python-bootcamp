{
 "cells": [
  {
   "cell_type": "markdown",
   "id": "b494e213",
   "metadata": {},
   "source": [
    "<div class=\"alert alert-block alert-warning\">\n",
    "    <b>Warning:</b> The content of the note may contain copyrighted material. Do not distribute.\n",
    "</div>"
   ]
  },
  {
   "cell_type": "markdown",
   "id": "00d3c1b9",
   "metadata": {},
   "source": [
    "# Applications: Effect of Bond Issuance on Firms' Performance\n",
    "\n",
    "Seho Jeong, Sogang University\n",
    "\n",
    "**References**\n",
    "- **Darmouni, Olivier, and Kerry Y. Siani. 2025.** \"Bond Market Stimulus: Firm-Level Evidence.\" Journal of Monetary Economics, 151: 103728. https://www.sciencedirect.com/science/article/pii/S0304393224001818.\n",
    "- **Princeton LibGuides. n.d.** \"Event Study with Stata: A Step-by-Step Guide.\" Princeton University Library. https://libguides.princeton.edu/eventstudy.\n",
    "- **Miller, Douglas L. 2023.** \"An Introductory Guide to Event Study Models.\" Journal of Economic Perspectives, 37(2): 203-230. \n",
    "- **Nguyen, Mike. 2020.** \"A Guide on Data Analysis.\" Bookdown. https://bookdown.org/mike/data_analysis/"
   ]
  },
  {
   "cell_type": "markdown",
   "id": "df573b9e",
   "metadata": {},
   "source": [
    "A financial event study is a method used to examine how the market reacts to a significant event of interest (e.g., regulatory changes, mergers and acquisitions, product launches, natural disasters, political events, bankruptcies, corporate scandals, technological breakthroughs, trade wars, tariffs, etc.). The event study methodology is widely used in finance, marketing, and management. A basic financial event study typically involves the following steps: (1) data preparation, (2) cleaning the data and calculating the event window, (3) estimating normal performance, (4) calculating abnormal and cumulative abnormal returns, (6) testing for significance, and (6) testing across all companies.\n",
    "\n",
    "In this note I show you show you how to conduct an event study using Python. The example uses data from the Open Data Portal, which is serviced by Ministry of the Interior and Safety, Republic of Korea. In particular, we will use financial market data of Korean firms provided by Financial Servicies Commision. \n",
    "\n",
    "Let's begin by importing essential Python libraries that will be used in this notebook."
   ]
  },
  {
   "cell_type": "code",
   "execution_count": 298,
   "id": "06eb1eb9",
   "metadata": {},
   "outputs": [],
   "source": [
    "# Import libraries.\n",
    "import numpy as np\n",
    "import pandas as pd\n",
    "import statsmodels.api as sm\n",
    "import linearmodels as lm\n",
    "from sklearn.preprocessing import OneHotEncoder\n",
    "\n",
    "import matplotlib.pyplot as plt\n",
    "import seaborn as sns\n",
    "\n",
    "from tqdm.auto import tqdm\n",
    "\n",
    "import requests\n",
    "import FinanceDataReader as fdr"
   ]
  },
  {
   "cell_type": "code",
   "execution_count": 2,
   "id": "3e1f6de0",
   "metadata": {},
   "outputs": [],
   "source": [
    "bg = '#F9F9F9'"
   ]
  },
  {
   "cell_type": "markdown",
   "id": "6909af8e",
   "metadata": {},
   "source": [
    "## A Naive Introduction to Event Study"
   ]
  },
  {
   "cell_type": "markdown",
   "id": "31471adc",
   "metadata": {},
   "source": [
    "An event study typically tries to examine return behavior for a sample of firms experiencing a common type of event (e.g., a stock split). The event might take place at different points in calendar time or it might be clustered at a particular date (e.g., a regulatory event affecting an industry or a subset of the population of firms).\n",
    "\n",
    "Let $t=0$ represent the time of the event. For each sample stock $i$, the stock return for time period $t$ relative to the event, $R_{it}$, is $$R_{it} = K_{it} + e_{it}$$ where $K_{it}$ is the normal (i.e., expected or predicted return given the model of expected returns), and $e_{it}$ is the component of returns which is abnormal or unexpected. A model of normal returns must be specified before an abnormal return can be defined.\n",
    "\n",
    "Given this return decomposition, the abnormal return, $e_{it}$ , is the difference between the observed return and the predicted return $$e_{it} = R_{it} - K_{it}.$$ Thus the abnormal return is a direct measure of the (unexpected) change in securityholder wealth associated with the event. "
   ]
  },
  {
   "cell_type": "markdown",
   "id": "c05b66e8",
   "metadata": {},
   "source": [
    "### Key Assumptions"
   ]
  },
  {
   "cell_type": "markdown",
   "id": "55984e50",
   "metadata": {},
   "source": [
    "Event study requires some assumptions to be correctly conducted:\n",
    "\n",
    "- **efficient market hypothesis (EMH)**: Stock prices fully reflect available information (Fama, 1970);\n",
    "- **stock market as a proxy for firm value**: Shareholders are the primary stakeholders;\n",
    "- **sharp event effect**: The event must cause an immediate stock price reaction;\n",
    "- **proper calculation of expected stock returns**: Event study requires an appropriate benchmark model."
   ]
  },
  {
   "cell_type": "markdown",
   "id": "75f22a2d",
   "metadata": {},
   "source": [
    "### Applications Across Disciplines"
   ]
  },
  {
   "cell_type": "markdown",
   "id": "f582b0d4",
   "metadata": {},
   "source": [
    "Event studies have been applied extensively in management, marketing, and finance to assess how different corporate and external events influence shareholder value.\n",
    "\n"
   ]
  },
  {
   "cell_type": "markdown",
   "id": "92fbdfa4",
   "metadata": {},
   "source": [
    "## Data Preparation"
   ]
  },
  {
   "cell_type": "markdown",
   "id": "1e707aa1",
   "metadata": {},
   "source": [
    "You may have downloaded datasets for an event study, or created ones by entering data into spreadsheets. Usually, people have two files, one for stock returns, and other for your event of interest. In this example, we start with two datasets, one called `eventdates` and the other called `stockdata`. In the `eventdates` data, we have company id (`company_id`) and the date of event (`event_date`) as variables. In the stock data, we have matching company id (`company_id`), stock return date (`date`), stock return (`ret`), and market return value (`market_return`).\n",
    "\n",
    "If a set of observations for each company can be matched to a single event date, the study will be much simpler. In some situations, one may wish to examine more than one event date for each company. In multiple observations per company, it is necessary to create a duplicate set of observations for each (event date, company) combination. You need a full set of stock observations to examine each event.\n",
    "\n",
    "If you already know that you have only one event for each company, you may skip subsections \"\" and \"\" below, merge your own `eventdate` and `stockdata` data files, and go to next section for the step-by-step procedure to conduct the event study."
   ]
  },
  {
   "cell_type": "markdown",
   "id": "88128cb4",
   "metadata": {},
   "source": [
    "### Downloading the Data"
   ]
  },
  {
   "cell_type": "markdown",
   "id": "0d522f73",
   "metadata": {},
   "source": [
    "You can enhance the code performance by parallelization. Here we do not consider high performance computing."
   ]
  },
  {
   "cell_type": "code",
   "execution_count": 3,
   "id": "2541b412",
   "metadata": {},
   "outputs": [],
   "source": [
    "# Load the API key.\n",
    "with open('../keys.txt', 'r') as f:\n",
    "    line = f.readlines()[0]\n",
    "    api_key = line.split(': ')[1].replace('\\n', '')"
   ]
  },
  {
   "cell_type": "code",
   "execution_count": 4,
   "id": "bc735166",
   "metadata": {},
   "outputs": [],
   "source": [
    "def get_total_count(url, params):\n",
    "    response = requests.get(url, params=params)\n",
    "    total_count = response.json()['response']['body']['totalCount']\n",
    "    return total_count\n",
    "\n",
    "def download_data(url, params_list, print_status=True):\n",
    "    # Download the data.\n",
    "    data = []\n",
    "    if print_status:\n",
    "        for params in tqdm(params_list):\n",
    "            response = requests.get(url, params=params)\n",
    "            data += response.json()['response']['body']['items']['item']\n",
    "    else:\n",
    "        for params in params_list:\n",
    "            response = requests.get(url, params=params)\n",
    "            data += response.json()['response']['body']['items']['item']\n",
    "\n",
    "    # Return data as a DataFrame.\n",
    "    df = pd.DataFrame(data)\n",
    "    return df"
   ]
  },
  {
   "cell_type": "code",
   "execution_count": 5,
   "id": "6b4c39b0",
   "metadata": {},
   "outputs": [],
   "source": [
    "def winsorize(series):\n",
    "\n",
    "    q_min = series.quantile(q=0.01)\n",
    "    q_max = series.quantile(q=0.99)\n",
    "\n",
    "    series[series < q_min] = q_min\n",
    "    series[series > q_max] = q_max\n",
    "\n",
    "    return series"
   ]
  },
  {
   "cell_type": "markdown",
   "id": "878ebf99",
   "metadata": {},
   "source": [
    "#### Basic Information"
   ]
  },
  {
   "cell_type": "code",
   "execution_count": 6,
   "id": "9ec09d1d",
   "metadata": {},
   "outputs": [
    {
     "data": {
      "application/vnd.jupyter.widget-view+json": {
       "model_id": "f1a5419d321949948ffa58bf684cc34c",
       "version_major": 2,
       "version_minor": 0
      },
      "text/plain": [
       "  0%|          | 0/110 [00:00<?, ?it/s]"
      ]
     },
     "metadata": {},
     "output_type": "display_data"
    }
   ],
   "source": [
    "# Collect corporate basic info data. (10 min.)\n",
    "url = 'http://apis.data.go.kr/1160100/service/GetCorpBasicInfoService_V2/getCorpOutline_V2'\n",
    "params_list = [{'ServiceKey': api_key,\n",
    "                'pageNo': i+1,\n",
    "                'numOfRows': 10000,\n",
    "                'resultType': 'json'} for i in range(110)]\n",
    "\n",
    "static_info = download_data(url, params_list)"
   ]
  },
  {
   "cell_type": "code",
   "execution_count": 7,
   "id": "7b5a3a22",
   "metadata": {},
   "outputs": [],
   "source": [
    "# Clean the corporate registration number.\n",
    "static_info.replace(['0000000000000', '9999999999999'], np.nan, inplace=True)"
   ]
  },
  {
   "cell_type": "code",
   "execution_count": 8,
   "id": "eaa2de31",
   "metadata": {},
   "outputs": [],
   "source": [
    "# Save the static firm information into csv.\n",
    "static_info.to_csv('../data/day5/static_info.csv', index=None)"
   ]
  },
  {
   "cell_type": "markdown",
   "id": "d5e08cd4",
   "metadata": {},
   "source": [
    "#### Equity Issuance Information"
   ]
  },
  {
   "cell_type": "code",
   "execution_count": null,
   "id": "f355e06b",
   "metadata": {},
   "outputs": [],
   "source": [
    "# Collect corporate equity issuance data.\n",
    "url = 'http://apis.data.go.kr/1160100/service/GetStocIssuInfoService_V2/getStocIssuInfo_V2'\n",
    "params_list = [{'ServiceKey': api_key,\n",
    "                'pageNo': 1,\n",
    "                'numOfRows': 1,\n",
    "                'resultType': 'json',\n",
    "                'basDt': date.strftime('%Y%m%d')} for date in pd.date_range('2020-01-01', '2025-07-26')]\n",
    "\n",
    "counts = 0\n",
    "equity_issue = pd.DataFrame()\n",
    "for params in tqdm(params_list):\n",
    "    # Get number of total counts.\n",
    "    total_count = get_total_count(url, params)\n",
    "    counts += total_count\n",
    "\n",
    "    # Create a temporary params list.\n",
    "    bas_dt = params['basDt']\n",
    "    params_list_temp = [{'ServiceKey': api_key,\n",
    "                         'pageNo': i+1,\n",
    "                         'numOfRows': 10000,\n",
    "                         'resultType': 'json',\n",
    "                         'basDt': bas_dt} for i in range((total_count // 10000) + 1)]\n",
    "    \n",
    "    # Download the data.\n",
    "    df = download_data(url, params_list_temp, print_status=False)\n",
    "    equity_issue = pd.concat([equity_issue, df], ignore_index=True)\n",
    "    \n",
    "print(f'Total number of issuances: {counts}')"
   ]
  },
  {
   "cell_type": "code",
   "execution_count": 19,
   "id": "e0f553dd",
   "metadata": {},
   "outputs": [],
   "source": [
    "# Load the equity issuance data.\n",
    "equity_issue = pd.read_csv('../data/day5/equity_issue.csv', dtype=str)\n",
    "\n",
    "# Cleaning process if loaded\n",
    "equity_issue['lstgDt'] = pd.to_datetime(equity_issue['lstgDt'])\n",
    "equity_issue['stckIssuDt'] = pd.to_datetime(equity_issue['stckIssuDt'], errors='coerce')"
   ]
  },
  {
   "cell_type": "code",
   "execution_count": null,
   "id": "93e79e7e",
   "metadata": {},
   "outputs": [],
   "source": [
    "# Clean dates with errors.\n",
    "equity_issue.replace(['', '00000101', '99981230', '99991230'], np.nan, inplace=True)\n",
    "equity_issue['lstgDt'] = pd.to_datetime(equity_issue['lstgDt'], format='%Y%m%d')\n",
    "equity_issue['stckIssuDt'] = pd.to_datetime(equity_issue['stckIssuDt'], format='%Y%m%d', errors='coerce')\n",
    "\n",
    "# Clean the corporate registration number.\n",
    "equity_issue.replace(['0000000000000', '9999999999999'], np.nan, inplace=True)"
   ]
  },
  {
   "cell_type": "code",
   "execution_count": null,
   "id": "a9c962fe",
   "metadata": {},
   "outputs": [],
   "source": [
    "# Save the equity issuance data into csv.\n",
    "equity_issue.to_csv('../data/day5/equity_issue.csv', index=None)"
   ]
  },
  {
   "cell_type": "markdown",
   "id": "87b54167",
   "metadata": {},
   "source": [
    "#### Bond Issuance Information"
   ]
  },
  {
   "cell_type": "code",
   "execution_count": 21,
   "id": "11779d75",
   "metadata": {},
   "outputs": [
    {
     "data": {
      "application/vnd.jupyter.widget-view+json": {
       "model_id": "e06c32750ba542afbe66c4910b47693d",
       "version_major": 2,
       "version_minor": 0
      },
      "text/plain": [
       "  0%|          | 0/1 [00:00<?, ?it/s]"
      ]
     },
     "metadata": {},
     "output_type": "display_data"
    }
   ],
   "source": [
    "# Collect corporate bond issuance data.\n",
    "url = 'http://apis.data.go.kr/1160100/service/GetBondTradInfoService/getIssuIssuItemStat'\n",
    "params_list = [{'serviceKey': api_key,\n",
    "                'pageNo': 1,\n",
    "                'numOfRows': 1,\n",
    "                'resultType': 'json'}]\n",
    "params_list[0]['numOfRows'] = get_total_count(url, params_list[0])\n",
    "bond_issue = download_data(url, params_list)"
   ]
  },
  {
   "cell_type": "code",
   "execution_count": 22,
   "id": "28aaab1c",
   "metadata": {},
   "outputs": [],
   "source": [
    "# Clean dates with errors.\n",
    "bond_issue.replace(['', '00000101', '99981230', '99991230'], np.nan, inplace=True)\n",
    "bond_issue['bondIssuDt'] = pd.to_datetime(bond_issue['bondIssuDt'], format='%Y%m%d', errors='coerce')\n",
    "bond_issue['bondExprDt'] = pd.to_datetime(bond_issue['bondExprDt'], format='%Y%m%d', errors='coerce')\n",
    "\n",
    "# Clean the corporate registration number.\n",
    "bond_issue.replace(['0000000000000', '9999999999999'], np.nan, inplace=True)"
   ]
  },
  {
   "cell_type": "code",
   "execution_count": 23,
   "id": "dda5cebd",
   "metadata": {},
   "outputs": [],
   "source": [
    "# Save the bond issuance data into csv.\n",
    "bond_issue.to_csv('../data/day5/bond_issue.csv', index=None)"
   ]
  },
  {
   "cell_type": "markdown",
   "id": "6e6afd76",
   "metadata": {},
   "source": [
    "#### Stock Data"
   ]
  },
  {
   "cell_type": "code",
   "execution_count": 27,
   "id": "298b223f",
   "metadata": {},
   "outputs": [
    {
     "data": {
      "application/vnd.jupyter.widget-view+json": {
       "model_id": "6af9906ea1f24fbc85f4de19583ba653",
       "version_major": 2,
       "version_minor": 0
      },
      "text/plain": [
       "  0%|          | 0/15944 [00:00<?, ?it/s]"
      ]
     },
     "metadata": {},
     "output_type": "display_data"
    },
    {
     "name": "stdout",
     "output_type": "stream",
     "text": [
      "Total number of stock price observations: 3637359\n"
     ]
    }
   ],
   "source": [
    "# Collect stock price data.\n",
    "url = 'http://apis.data.go.kr/1160100/service/GetStockSecuritiesInfoService/getStockPriceInfo'\n",
    "params_list = [{'serviceKey': api_key,\n",
    "                'numOfRows': 1,\n",
    "                'pageNo': 1,\n",
    "                'resultType': 'json',\n",
    "                'isinCd': isin} for isin in equity_issue.isinCd.dropna().unique()]\n",
    "\n",
    "counts = 0\n",
    "stock_price = pd.DataFrame()\n",
    "for params in tqdm(params_list):\n",
    "    # Get number of total counts.\n",
    "    total_count = get_total_count(url, params)\n",
    "    counts += total_count\n",
    "\n",
    "    # Create a temporary params list.\n",
    "    isin_cd = params['isinCd']\n",
    "    params_list_temp = [{'serviceKey': api_key,\n",
    "                         'numOfRows': 10000,\n",
    "                         'pageNo': i+1,\n",
    "                         'resultType': 'json',\n",
    "                         'isinCd': isin_cd} for i in range((total_count // 10000) + 1)]\n",
    "    \n",
    "    # Download the data.\n",
    "    df = download_data(url, params_list_temp, print_status=False)\n",
    "    stock_price = pd.concat([stock_price, df], ignore_index=True)\n",
    "\n",
    "print(f'Total number of stock price observations: {counts}')"
   ]
  },
  {
   "cell_type": "code",
   "execution_count": 242,
   "id": "81c60ef4",
   "metadata": {},
   "outputs": [],
   "source": [
    "# stock_price.to_csv('../data/day5/stock_price.csv', index=None)\n",
    "stock_price = pd.read_csv('../data/day5/stock_price.csv', dtype=str)"
   ]
  },
  {
   "cell_type": "code",
   "execution_count": 243,
   "id": "50377fb7",
   "metadata": {},
   "outputs": [],
   "source": [
    "# Clean dates with errors.\n",
    "stock_price['basDt'] = pd.to_datetime(stock_price['basDt'], format='%Y-%m-%d', errors='coerce')\n",
    "\n",
    "# Change numbers into float type.\n",
    "num_col = ['clpr', 'vs', 'fltRt', 'mkp', 'hipr', 'lopr', 'trqu', 'trPrc', 'lstgStCnt', 'mrktTotAmt']\n",
    "stock_price[num_col] = stock_price[num_col].astype(float)\n",
    "\n",
    "# Sort values.\n",
    "stock_price = stock_price.sort_values(by=['isinCd', 'basDt'], ignore_index=True)"
   ]
  },
  {
   "cell_type": "code",
   "execution_count": 244,
   "id": "a8ec7a30",
   "metadata": {},
   "outputs": [],
   "source": [
    "# Drop firms with no stock price data from equity issuance information data.\n",
    "equity_issue = equity_issue.loc[equity_issue.isinCd.isin(stock_price.isinCd.dropna().unique()), :]"
   ]
  },
  {
   "cell_type": "code",
   "execution_count": 245,
   "id": "01ec20e0",
   "metadata": {},
   "outputs": [],
   "source": [
    "# Compute daily returns.\n",
    "stock_price.sort_values(['isinCd', 'basDt'], inplace=True)\n",
    "stock_price['daily_return'] = stock_price.groupby('isinCd')['clpr'].transform(lambda x: x.pct_change())"
   ]
  },
  {
   "cell_type": "code",
   "execution_count": 246,
   "id": "9200b9f4",
   "metadata": {},
   "outputs": [],
   "source": [
    "# Drop rows with NA values for daily return.\n",
    "stock_price.dropna(subset=['daily_return'], inplace=True, ignore_index=True)"
   ]
  },
  {
   "cell_type": "code",
   "execution_count": 247,
   "id": "893f2be7",
   "metadata": {},
   "outputs": [
    {
     "data": {
      "image/png": "[encoded data removed]",
      "text/plain": [
       "<Figure size 640x480 with 1 Axes>"
      ]
     },
     "metadata": {},
     "output_type": "display_data"
    }
   ],
   "source": [
    "# Draw a plot of distriubtion of stock returns.\n",
    "fig, ax = plt.subplots()\n",
    "\n",
    "wret = stock_price.copy()\n",
    "wret.loc[wret.mrktCtg == 'KOSPI', 'daily_return'] = winsorize(wret.loc[wret.mrktCtg == 'KOSPI', 'daily_return'])\n",
    "wret.loc[wret.mrktCtg == 'KOSDAQ', 'daily_return'] = winsorize(wret.loc[wret.mrktCtg == 'KOSDAQ', 'daily_return'])\n",
    "wret.loc[wret.mrktCtg == 'KONEX', 'daily_return'] = winsorize(wret.loc[wret.mrktCtg == 'KONEX', 'daily_return'])\n",
    "\n",
    "sns.histplot(x='daily_return', data=wret, hue='mrktCtg', alpha=0.3, ax=ax, fill=True, bins=40)\n",
    "\n",
    "ax.set_facecolor(bg)\n",
    "ax.set_title('Daily Stock Returns by Markets')\n",
    "ax.set_xlabel('Return (%)')\n",
    "\n",
    "plt.show()"
   ]
  },
  {
   "cell_type": "markdown",
   "id": "99da7be9",
   "metadata": {},
   "source": [
    "#### Market Return Data"
   ]
  },
  {
   "cell_type": "code",
   "execution_count": 248,
   "id": "8c30a329",
   "metadata": {},
   "outputs": [],
   "source": [
    "# Download stock market index data.\n",
    "kospi = fdr.DataReader('KS11', '2020-01-01', '2025-07-25')\n",
    "kosdaq = fdr.DataReader('KQ11', '2020-01-01', '2025-07-25')\n",
    "\n",
    "# Compute daily market returns.\n",
    "ret_kospi = kospi.Close.pct_change().rename('ks_daily_return').dropna()\n",
    "ret_kosdaq = kosdaq.Close.pct_change().rename('kq_daily_return').dropna()\n",
    "\n",
    "# Concatenate two returns data.\n",
    "mkt_returns = pd.concat([\n",
    "    pd.DataFrame({'basDt': ret_kospi.index, 'mrktCtg': 'KOSPI', 'mkt_return': ret_kospi.values}),\n",
    "    pd.DataFrame({'basDt': ret_kosdaq.index, 'mrktCtg': 'KOSDAQ', 'mkt_return': ret_kosdaq.values})\n",
    "])"
   ]
  },
  {
   "cell_type": "code",
   "execution_count": 249,
   "id": "d7be0342",
   "metadata": {},
   "outputs": [],
   "source": [
    "# Merge market return with individual stock price data.\n",
    "stock_price = stock_price.merge(mkt_returns, on=['basDt', 'mrktCtg'], how='left')"
   ]
  },
  {
   "cell_type": "code",
   "execution_count": 401,
   "id": "136aac45",
   "metadata": {},
   "outputs": [],
   "source": [
    "ret = stock_price.loc[:, ['isinCd', 'basDt', 'daily_return', 'mkt_return']]"
   ]
  },
  {
   "cell_type": "code",
   "execution_count": 402,
   "id": "565644e5",
   "metadata": {},
   "outputs": [
    {
     "data": {
      "text/html": [
       "<div>\n",
       "<style scoped>\n",
       "    .dataframe tbody tr th:only-of-type {\n",
       "        vertical-align: middle;\n",
       "    }\n",
       "\n",
       "    .dataframe tbody tr th {\n",
       "        vertical-align: top;\n",
       "    }\n",
       "\n",
       "    .dataframe thead th {\n",
       "        text-align: right;\n",
       "    }\n",
       "</style>\n",
       "<table border=\"1\" class=\"dataframe\">\n",
       "  <thead>\n",
       "    <tr style=\"text-align: right;\">\n",
       "      <th></th>\n",
       "      <th>isinCd</th>\n",
       "      <th>basDt</th>\n",
       "      <th>daily_return</th>\n",
       "      <th>mkt_return</th>\n",
       "    </tr>\n",
       "  </thead>\n",
       "  <tbody>\n",
       "    <tr>\n",
       "      <th>0</th>\n",
       "      <td>HK0000214814</td>\n",
       "      <td>2020-01-03</td>\n",
       "      <td>0.004630</td>\n",
       "      <td>-0.006068</td>\n",
       "    </tr>\n",
       "    <tr>\n",
       "      <th>1</th>\n",
       "      <td>HK0000214814</td>\n",
       "      <td>2020-01-06</td>\n",
       "      <td>-0.027650</td>\n",
       "      <td>-0.021823</td>\n",
       "    </tr>\n",
       "    <tr>\n",
       "      <th>2</th>\n",
       "      <td>HK0000214814</td>\n",
       "      <td>2020-01-07</td>\n",
       "      <td>0.033175</td>\n",
       "      <td>0.012406</td>\n",
       "    </tr>\n",
       "    <tr>\n",
       "      <th>3</th>\n",
       "      <td>HK0000214814</td>\n",
       "      <td>2020-01-08</td>\n",
       "      <td>-0.068807</td>\n",
       "      <td>-0.033914</td>\n",
       "    </tr>\n",
       "    <tr>\n",
       "      <th>4</th>\n",
       "      <td>HK0000214814</td>\n",
       "      <td>2020-01-09</td>\n",
       "      <td>0.049261</td>\n",
       "      <td>0.039239</td>\n",
       "    </tr>\n",
       "    <tr>\n",
       "      <th>...</th>\n",
       "      <td>...</td>\n",
       "      <td>...</td>\n",
       "      <td>...</td>\n",
       "      <td>...</td>\n",
       "    </tr>\n",
       "    <tr>\n",
       "      <th>3634175</th>\n",
       "      <td>KYG2115T1076</td>\n",
       "      <td>2025-07-18</td>\n",
       "      <td>0.007692</td>\n",
       "      <td>0.002933</td>\n",
       "    </tr>\n",
       "    <tr>\n",
       "      <th>3634176</th>\n",
       "      <td>KYG2115T1076</td>\n",
       "      <td>2025-07-21</td>\n",
       "      <td>-0.010905</td>\n",
       "      <td>0.001243</td>\n",
       "    </tr>\n",
       "    <tr>\n",
       "      <th>3634177</th>\n",
       "      <td>KYG2115T1076</td>\n",
       "      <td>2025-07-22</td>\n",
       "      <td>0.008820</td>\n",
       "      <td>-0.010612</td>\n",
       "    </tr>\n",
       "    <tr>\n",
       "      <th>3634178</th>\n",
       "      <td>KYG2115T1076</td>\n",
       "      <td>2025-07-23</td>\n",
       "      <td>-0.008743</td>\n",
       "      <td>0.000726</td>\n",
       "    </tr>\n",
       "    <tr>\n",
       "      <th>3634179</th>\n",
       "      <td>KYG2115T1076</td>\n",
       "      <td>2025-07-24</td>\n",
       "      <td>-0.011025</td>\n",
       "      <td>-0.004511</td>\n",
       "    </tr>\n",
       "  </tbody>\n",
       "</table>\n",
       "<p>3634180 rows × 4 columns</p>\n",
       "</div>"
      ],
      "text/plain": [
       "               isinCd      basDt  daily_return  mkt_return\n",
       "0        HK0000214814 2020-01-03      0.004630   -0.006068\n",
       "1        HK0000214814 2020-01-06     -0.027650   -0.021823\n",
       "2        HK0000214814 2020-01-07      0.033175    0.012406\n",
       "3        HK0000214814 2020-01-08     -0.068807   -0.033914\n",
       "4        HK0000214814 2020-01-09      0.049261    0.039239\n",
       "...               ...        ...           ...         ...\n",
       "3634175  KYG2115T1076 2025-07-18      0.007692    0.002933\n",
       "3634176  KYG2115T1076 2025-07-21     -0.010905    0.001243\n",
       "3634177  KYG2115T1076 2025-07-22      0.008820   -0.010612\n",
       "3634178  KYG2115T1076 2025-07-23     -0.008743    0.000726\n",
       "3634179  KYG2115T1076 2025-07-24     -0.011025   -0.004511\n",
       "\n",
       "[3634180 rows x 4 columns]"
      ]
     },
     "execution_count": 402,
     "metadata": {},
     "output_type": "execute_result"
    }
   ],
   "source": [
    "ret"
   ]
  },
  {
   "cell_type": "markdown",
   "id": "98ea8e2c",
   "metadata": {},
   "source": [
    "#### Accounting Data"
   ]
  },
  {
   "cell_type": "code",
   "execution_count": null,
   "id": "72c089d6",
   "metadata": {},
   "outputs": [],
   "source": []
  },
  {
   "cell_type": "markdown",
   "id": "7c16d33c",
   "metadata": {},
   "source": [
    "#### Choice of Sample Firms"
   ]
  },
  {
   "cell_type": "code",
   "execution_count": 252,
   "id": "98651338",
   "metadata": {},
   "outputs": [
    {
     "name": "stdout",
     "output_type": "stream",
     "text": [
      "Number of sample firms: 1728\n"
     ]
    }
   ],
   "source": [
    "firm_id = list(set(equity_issue.crno.dropna()) & set(static_info.crno.dropna()) & set(bond_issue.crno.dropna()))\n",
    "print(f'Number of sample firms: {len(firm_id)}')"
   ]
  },
  {
   "cell_type": "code",
   "execution_count": 253,
   "id": "76ad2513",
   "metadata": {},
   "outputs": [],
   "source": [
    "si = static_info.loc[static_info.crno.isin(firm_id), :].sort_values(by='crno').reset_index(drop=True)\n",
    "ei = equity_issue.loc[equity_issue.crno.isin(firm_id), :].sort_values(by='crno').reset_index(drop=True)\n",
    "bi = bond_issue.loc[bond_issue.crno.isin(firm_id), :].sort_values(by='crno').reset_index(drop=True)"
   ]
  },
  {
   "cell_type": "markdown",
   "id": "cd8f1b54",
   "metadata": {},
   "source": [
    "We have a stock price data from year 2020. Thus we restrict event date that is after the January 1st, 2020."
   ]
  },
  {
   "cell_type": "code",
   "execution_count": 254,
   "id": "979ee335",
   "metadata": {},
   "outputs": [],
   "source": [
    "ei = ei.loc[ei.stckIssuDt > '2020-01-01', :].reset_index(drop=True)\n",
    "bi = bi.loc[bi.bondIssuDt > '2020-01-01', :].reset_index(drop=True)"
   ]
  },
  {
   "cell_type": "markdown",
   "id": "257b3024",
   "metadata": {},
   "source": [
    "## Step 1: Event Identification"
   ]
  },
  {
   "cell_type": "markdown",
   "id": "5a26798a",
   "metadata": {},
   "source": [
    "An event study examines how a particular event affects a firm's stock price, assuming that stock markets incorporate new information efficiently. The event must influence either the firm's expected cash flows or dicount rate."
   ]
  },
  {
   "cell_type": "markdown",
   "id": "a83976be",
   "metadata": {},
   "source": [
    "First, we need to find out how many event dates there are for each company. Use the datasets of event dates and generate a variable that counts the number of event dates per company."
   ]
  },
  {
   "cell_type": "code",
   "execution_count": 255,
   "id": "cdbc4474",
   "metadata": {},
   "outputs": [
    {
     "name": "stdout",
     "output_type": "stream",
     "text": [
      "[01] Number of issuances: Equity =   25357, Bond =    9475\n",
      "[02] Number of firms:     Equity =    1469, Bond =    1493\n",
      "[03] Mean:                Equity =    17.3, Bond =     6.3\n",
      "[04] Std. dev.:           Equity =    31.5, Bond =    34.9\n",
      "[05] Min.:                Equity =     1.0, Bond =     1.0\n",
      "[06] 25%:                 Equity =     3.0, Bond =     1.0\n",
      "[07] 50%:                 Equity =     8.0, Bond =     2.0\n",
      "[08] 75%:                 Equity =    20.0, Bond =     5.0\n",
      "[09] Max.:                Equity =   518.0, Bond =  1011.0\n"
     ]
    }
   ],
   "source": [
    "# Count number of equity issuance by crno.\n",
    "equity_count = ei.groupby('crno').count()\n",
    "equity_count = equity_count['basDt']\n",
    "equity_count.name = 'equity_count'\n",
    "\n",
    "# Count number of bond issuance by crno.\n",
    "bond_count = bi.groupby('crno').count()\n",
    "bond_count = bond_count['basDt']\n",
    "bond_count.name = 'bond_count'\n",
    "\n",
    "# Print the summary statistics of issuances.\n",
    "equity_summary = equity_count.describe()\n",
    "bond_summary = bond_count.describe()\n",
    "print(f'[01] Number of issuances: Equity = {equity_count.sum():7d}, Bond = {bond_count.sum():7d}')\n",
    "print(f'[02] Number of firms:     Equity = {int(equity_summary['count']):7d}, Bond = {int(bond_summary['count']):7d}')\n",
    "print(f'[03] Mean:                Equity = {equity_summary['mean']:7.1f}, Bond = {bond_summary['mean']:7.1f}')\n",
    "print(f'[04] Std. dev.:           Equity = {equity_summary['std']:7.1f}, Bond = {bond_summary['std']:7.1f}')\n",
    "print(f'[05] Min.:                Equity = {equity_summary['min']:7.1f}, Bond = {bond_summary['min']:7.1f}')\n",
    "print(f'[06] 25%:                 Equity = {equity_summary['25%']:7.1f}, Bond = {bond_summary['25%']:7.1f}')\n",
    "print(f'[07] 50%:                 Equity = {equity_summary['50%']:7.1f}, Bond = {bond_summary['50%']:7.1f}')\n",
    "print(f'[08] 75%:                 Equity = {equity_summary['75%']:7.1f}, Bond = {bond_summary['75%']:7.1f}')\n",
    "print(f'[09] Max.:                Equity = {equity_summary['max']:7.1f}, Bond = {bond_summary['max']:7.1f}')"
   ]
  },
  {
   "cell_type": "code",
   "execution_count": 314,
   "id": "b5e977dc",
   "metadata": {},
   "outputs": [
    {
     "data": {
      "text/html": [
       "<div>\n",
       "<style scoped>\n",
       "    .dataframe tbody tr th:only-of-type {\n",
       "        vertical-align: middle;\n",
       "    }\n",
       "\n",
       "    .dataframe tbody tr th {\n",
       "        vertical-align: top;\n",
       "    }\n",
       "\n",
       "    .dataframe thead th {\n",
       "        text-align: right;\n",
       "    }\n",
       "</style>\n",
       "<table border=\"1\" class=\"dataframe\">\n",
       "  <thead>\n",
       "    <tr style=\"text-align: right;\">\n",
       "      <th></th>\n",
       "      <th>basDt</th>\n",
       "      <th>crno</th>\n",
       "      <th>isinCd</th>\n",
       "      <th>stckIssuCmpyNm</th>\n",
       "      <th>isinCdNm</th>\n",
       "      <th>scrsItmsKcd</th>\n",
       "      <th>scrsItmsKcdNm</th>\n",
       "      <th>issuStckCnt</th>\n",
       "      <th>lstgDt</th>\n",
       "      <th>stckIssuDt</th>\n",
       "      <th>stckIssuDcnt</th>\n",
       "      <th>stckIssuRcd</th>\n",
       "      <th>stckIssuRcdNm</th>\n",
       "      <th>scrsDcd</th>\n",
       "      <th>stckIssuSqno</th>\n",
       "    </tr>\n",
       "  </thead>\n",
       "  <tbody>\n",
       "    <tr>\n",
       "      <th>0</th>\n",
       "      <td>20250725</td>\n",
       "      <td>1101110002694</td>\n",
       "      <td>KR7006360002</td>\n",
       "      <td>지에스건설</td>\n",
       "      <td>지에스건설</td>\n",
       "      <td>0101</td>\n",
       "      <td>보통주</td>\n",
       "      <td>324438</td>\n",
       "      <td>2021-02-19</td>\n",
       "      <td>2021-01-28</td>\n",
       "      <td>18</td>\n",
       "      <td>901</td>\n",
       "      <td>국내CB행사</td>\n",
       "      <td>21</td>\n",
       "      <td>74</td>\n",
       "    </tr>\n",
       "    <tr>\n",
       "      <th>1</th>\n",
       "      <td>20250725</td>\n",
       "      <td>1101110002694</td>\n",
       "      <td>KR7006360002</td>\n",
       "      <td>지에스건설</td>\n",
       "      <td>지에스건설</td>\n",
       "      <td>0101</td>\n",
       "      <td>보통주</td>\n",
       "      <td>202773</td>\n",
       "      <td>2021-03-19</td>\n",
       "      <td>2021-02-02</td>\n",
       "      <td>18</td>\n",
       "      <td>901</td>\n",
       "      <td>국내CB행사</td>\n",
       "      <td>21</td>\n",
       "      <td>75</td>\n",
       "    </tr>\n",
       "    <tr>\n",
       "      <th>2</th>\n",
       "      <td>20210512</td>\n",
       "      <td>1101110002694</td>\n",
       "      <td>KR7006360002</td>\n",
       "      <td>지에스건설</td>\n",
       "      <td>지에스건설</td>\n",
       "      <td>0101</td>\n",
       "      <td>보통주</td>\n",
       "      <td>90622</td>\n",
       "      <td>NaT</td>\n",
       "      <td>2021-02-24</td>\n",
       "      <td>19</td>\n",
       "      <td>903</td>\n",
       "      <td>해외CB행사</td>\n",
       "      <td>21</td>\n",
       "      <td>14</td>\n",
       "    </tr>\n",
       "    <tr>\n",
       "      <th>3</th>\n",
       "      <td>20250725</td>\n",
       "      <td>1101110002694</td>\n",
       "      <td>KR7006360002</td>\n",
       "      <td>지에스건설</td>\n",
       "      <td>지에스건설</td>\n",
       "      <td>0101</td>\n",
       "      <td>보통주</td>\n",
       "      <td>191401</td>\n",
       "      <td>2021-01-04</td>\n",
       "      <td>2020-12-11</td>\n",
       "      <td>19</td>\n",
       "      <td>903</td>\n",
       "      <td>해외CB행사</td>\n",
       "      <td>21</td>\n",
       "      <td>4</td>\n",
       "    </tr>\n",
       "    <tr>\n",
       "      <th>4</th>\n",
       "      <td>20250725</td>\n",
       "      <td>1101110002694</td>\n",
       "      <td>KR7006360002</td>\n",
       "      <td>지에스건설</td>\n",
       "      <td>지에스건설</td>\n",
       "      <td>0101</td>\n",
       "      <td>보통주</td>\n",
       "      <td>114841</td>\n",
       "      <td>2021-01-20</td>\n",
       "      <td>2020-12-30</td>\n",
       "      <td>19</td>\n",
       "      <td>903</td>\n",
       "      <td>해외CB행사</td>\n",
       "      <td>21</td>\n",
       "      <td>5</td>\n",
       "    </tr>\n",
       "    <tr>\n",
       "      <th>...</th>\n",
       "      <td>...</td>\n",
       "      <td>...</td>\n",
       "      <td>...</td>\n",
       "      <td>...</td>\n",
       "      <td>...</td>\n",
       "      <td>...</td>\n",
       "      <td>...</td>\n",
       "      <td>...</td>\n",
       "      <td>...</td>\n",
       "      <td>...</td>\n",
       "      <td>...</td>\n",
       "      <td>...</td>\n",
       "      <td>...</td>\n",
       "      <td>...</td>\n",
       "      <td>...</td>\n",
       "    </tr>\n",
       "    <tr>\n",
       "      <th>25352</th>\n",
       "      <td>20250725</td>\n",
       "      <td>2850110287959</td>\n",
       "      <td>KR7263050007</td>\n",
       "      <td>유틸렉스</td>\n",
       "      <td>유틸렉스</td>\n",
       "      <td>0101</td>\n",
       "      <td>보통주</td>\n",
       "      <td>71998</td>\n",
       "      <td>2022-08-18</td>\n",
       "      <td>2022-08-01</td>\n",
       "      <td>32</td>\n",
       "      <td>301</td>\n",
       "      <td>주식전환</td>\n",
       "      <td>21</td>\n",
       "      <td>4</td>\n",
       "    </tr>\n",
       "    <tr>\n",
       "      <th>25353</th>\n",
       "      <td>20250725</td>\n",
       "      <td>2850110287959</td>\n",
       "      <td>KR7263050007</td>\n",
       "      <td>유틸렉스</td>\n",
       "      <td>유틸렉스</td>\n",
       "      <td>0101</td>\n",
       "      <td>보통주</td>\n",
       "      <td>467986</td>\n",
       "      <td>2022-08-18</td>\n",
       "      <td>2022-08-02</td>\n",
       "      <td>32</td>\n",
       "      <td>301</td>\n",
       "      <td>주식전환</td>\n",
       "      <td>21</td>\n",
       "      <td>5</td>\n",
       "    </tr>\n",
       "    <tr>\n",
       "      <th>25354</th>\n",
       "      <td>20250725</td>\n",
       "      <td>2850110287959</td>\n",
       "      <td>KR7263050007</td>\n",
       "      <td>유틸렉스</td>\n",
       "      <td>유틸렉스</td>\n",
       "      <td>0101</td>\n",
       "      <td>보통주</td>\n",
       "      <td>179998</td>\n",
       "      <td>2022-08-25</td>\n",
       "      <td>2022-08-09</td>\n",
       "      <td>32</td>\n",
       "      <td>301</td>\n",
       "      <td>주식전환</td>\n",
       "      <td>21</td>\n",
       "      <td>6</td>\n",
       "    </tr>\n",
       "    <tr>\n",
       "      <th>25355</th>\n",
       "      <td>20250725</td>\n",
       "      <td>2850110287959</td>\n",
       "      <td>KR7263050007</td>\n",
       "      <td>유틸렉스</td>\n",
       "      <td>유틸렉스</td>\n",
       "      <td>0101</td>\n",
       "      <td>보통주</td>\n",
       "      <td>6672</td>\n",
       "      <td>2021-05-03</td>\n",
       "      <td>2021-04-05</td>\n",
       "      <td>24</td>\n",
       "      <td>905</td>\n",
       "      <td>STOCKOPTION행사</td>\n",
       "      <td>21</td>\n",
       "      <td>1</td>\n",
       "    </tr>\n",
       "    <tr>\n",
       "      <th>25356</th>\n",
       "      <td>20250725</td>\n",
       "      <td>2850110287959</td>\n",
       "      <td>KR7263050007</td>\n",
       "      <td>유틸렉스</td>\n",
       "      <td>유틸렉스</td>\n",
       "      <td>0101</td>\n",
       "      <td>보통주</td>\n",
       "      <td>13060</td>\n",
       "      <td>2020-11-13</td>\n",
       "      <td>2020-10-16</td>\n",
       "      <td>15</td>\n",
       "      <td>905</td>\n",
       "      <td>STOCKOPTION행사</td>\n",
       "      <td>21</td>\n",
       "      <td>1</td>\n",
       "    </tr>\n",
       "  </tbody>\n",
       "</table>\n",
       "<p>25357 rows × 15 columns</p>\n",
       "</div>"
      ],
      "text/plain": [
       "          basDt           crno        isinCd stckIssuCmpyNm isinCdNm  \\\n",
       "0      20250725  1101110002694  KR7006360002          지에스건설    지에스건설   \n",
       "1      20250725  1101110002694  KR7006360002          지에스건설    지에스건설   \n",
       "2      20210512  1101110002694  KR7006360002          지에스건설    지에스건설   \n",
       "3      20250725  1101110002694  KR7006360002          지에스건설    지에스건설   \n",
       "4      20250725  1101110002694  KR7006360002          지에스건설    지에스건설   \n",
       "...         ...            ...           ...            ...      ...   \n",
       "25352  20250725  2850110287959  KR7263050007           유틸렉스     유틸렉스   \n",
       "25353  20250725  2850110287959  KR7263050007           유틸렉스     유틸렉스   \n",
       "25354  20250725  2850110287959  KR7263050007           유틸렉스     유틸렉스   \n",
       "25355  20250725  2850110287959  KR7263050007           유틸렉스     유틸렉스   \n",
       "25356  20250725  2850110287959  KR7263050007           유틸렉스     유틸렉스   \n",
       "\n",
       "      scrsItmsKcd scrsItmsKcdNm issuStckCnt     lstgDt stckIssuDt  \\\n",
       "0            0101           보통주      324438 2021-02-19 2021-01-28   \n",
       "1            0101           보통주      202773 2021-03-19 2021-02-02   \n",
       "2            0101           보통주       90622        NaT 2021-02-24   \n",
       "3            0101           보통주      191401 2021-01-04 2020-12-11   \n",
       "4            0101           보통주      114841 2021-01-20 2020-12-30   \n",
       "...           ...           ...         ...        ...        ...   \n",
       "25352        0101           보통주       71998 2022-08-18 2022-08-01   \n",
       "25353        0101           보통주      467986 2022-08-18 2022-08-02   \n",
       "25354        0101           보통주      179998 2022-08-25 2022-08-09   \n",
       "25355        0101           보통주        6672 2021-05-03 2021-04-05   \n",
       "25356        0101           보통주       13060 2020-11-13 2020-10-16   \n",
       "\n",
       "      stckIssuDcnt stckIssuRcd  stckIssuRcdNm scrsDcd stckIssuSqno  \n",
       "0               18         901         국내CB행사      21           74  \n",
       "1               18         901         국내CB행사      21           75  \n",
       "2               19         903         해외CB행사      21           14  \n",
       "3               19         903         해외CB행사      21            4  \n",
       "4               19         903         해외CB행사      21            5  \n",
       "...            ...         ...            ...     ...          ...  \n",
       "25352           32         301           주식전환      21            4  \n",
       "25353           32         301           주식전환      21            5  \n",
       "25354           32         301           주식전환      21            6  \n",
       "25355           24         905  STOCKOPTION행사      21            1  \n",
       "25356           15         905  STOCKOPTION행사      21            1  \n",
       "\n",
       "[25357 rows x 15 columns]"
      ]
     },
     "execution_count": 314,
     "metadata": {},
     "output_type": "execute_result"
    }
   ],
   "source": [
    "ei"
   ]
  },
  {
   "cell_type": "code",
   "execution_count": 398,
   "id": "831349f0",
   "metadata": {},
   "outputs": [],
   "source": [
    "event = ei.loc[ei.stckIssuRcdNm == '액면분할', ['isinCd', 'stckIssuDt']]\n",
    "event.columns = ['isinCd', 'eventDt']\n",
    "event = event.sort_values(by=['isinCd', 'eventDt']).reset_index(drop=True)\n",
    "event.drop_duplicates(inplace=True)"
   ]
  },
  {
   "cell_type": "code",
   "execution_count": 399,
   "id": "faa5e070",
   "metadata": {},
   "outputs": [
    {
     "data": {
      "text/plain": [
       "array(['국내CB행사', '해외CB행사', '이익소각', '무상소각', '주식교환', '무상증자', '액면분할', '합병',\n",
       "       '자본감소', '유상증자', '회사분할', '국내BW행사', '상호변경', '배당/분배', '주식전환', '분할합병',\n",
       "       '액면병합', 'STOCKOPTION행사', '사무인수'], dtype=object)"
      ]
     },
     "execution_count": 399,
     "metadata": {},
     "output_type": "execute_result"
    }
   ],
   "source": [
    "ei.stckIssuRcdNm.unique()"
   ]
  },
  {
   "cell_type": "code",
   "execution_count": 400,
   "id": "59dd1502",
   "metadata": {},
   "outputs": [
    {
     "data": {
      "text/html": [
       "<div>\n",
       "<style scoped>\n",
       "    .dataframe tbody tr th:only-of-type {\n",
       "        vertical-align: middle;\n",
       "    }\n",
       "\n",
       "    .dataframe tbody tr th {\n",
       "        vertical-align: top;\n",
       "    }\n",
       "\n",
       "    .dataframe thead th {\n",
       "        text-align: right;\n",
       "    }\n",
       "</style>\n",
       "<table border=\"1\" class=\"dataframe\">\n",
       "  <thead>\n",
       "    <tr style=\"text-align: right;\">\n",
       "      <th></th>\n",
       "      <th>isinCd</th>\n",
       "      <th>eventDt</th>\n",
       "    </tr>\n",
       "  </thead>\n",
       "  <tbody>\n",
       "    <tr>\n",
       "      <th>0</th>\n",
       "      <td>KR7000480004</td>\n",
       "      <td>2023-04-08</td>\n",
       "    </tr>\n",
       "    <tr>\n",
       "      <th>1</th>\n",
       "      <td>KR7000520007</td>\n",
       "      <td>2021-04-09</td>\n",
       "    </tr>\n",
       "    <tr>\n",
       "      <th>2</th>\n",
       "      <td>KR7001390004</td>\n",
       "      <td>2023-08-24</td>\n",
       "    </tr>\n",
       "    <tr>\n",
       "      <th>3</th>\n",
       "      <td>KR7001790005</td>\n",
       "      <td>2021-04-13</td>\n",
       "    </tr>\n",
       "    <tr>\n",
       "      <th>4</th>\n",
       "      <td>KR7001791003</td>\n",
       "      <td>2021-04-13</td>\n",
       "    </tr>\n",
       "    <tr>\n",
       "      <th>...</th>\n",
       "      <td>...</td>\n",
       "      <td>...</td>\n",
       "    </tr>\n",
       "    <tr>\n",
       "      <th>91</th>\n",
       "      <td>KR7378340004</td>\n",
       "      <td>2022-04-12</td>\n",
       "    </tr>\n",
       "    <tr>\n",
       "      <th>92</th>\n",
       "      <td>KR7403550007</td>\n",
       "      <td>2021-12-04</td>\n",
       "    </tr>\n",
       "    <tr>\n",
       "      <th>93</th>\n",
       "      <td>KR7406820001</td>\n",
       "      <td>2022-06-03</td>\n",
       "    </tr>\n",
       "    <tr>\n",
       "      <th>94</th>\n",
       "      <td>KR7417180007</td>\n",
       "      <td>2022-04-12</td>\n",
       "    </tr>\n",
       "    <tr>\n",
       "      <th>95</th>\n",
       "      <td>KR7457190007</td>\n",
       "      <td>2024-04-25</td>\n",
       "    </tr>\n",
       "  </tbody>\n",
       "</table>\n",
       "<p>91 rows × 2 columns</p>\n",
       "</div>"
      ],
      "text/plain": [
       "          isinCd    eventDt\n",
       "0   KR7000480004 2023-04-08\n",
       "1   KR7000520007 2021-04-09\n",
       "2   KR7001390004 2023-08-24\n",
       "3   KR7001790005 2021-04-13\n",
       "4   KR7001791003 2021-04-13\n",
       "..           ...        ...\n",
       "91  KR7378340004 2022-04-12\n",
       "92  KR7403550007 2021-12-04\n",
       "93  KR7406820001 2022-06-03\n",
       "94  KR7417180007 2022-04-12\n",
       "95  KR7457190007 2024-04-25\n",
       "\n",
       "[91 rows x 2 columns]"
      ]
     },
     "execution_count": 400,
     "metadata": {},
     "output_type": "execute_result"
    }
   ],
   "source": [
    "event"
   ]
  },
  {
   "cell_type": "markdown",
   "id": "308acb4f",
   "metadata": {},
   "source": [
    "Cut the dataset down to just one observation for each company. Each company observation is associated with the count of event dates for that company. Save this as a new dataset &mdash; don't overwrite your dataset of event dates!"
   ]
  },
  {
   "cell_type": "code",
   "execution_count": null,
   "id": "5f0f0bdd",
   "metadata": {},
   "outputs": [],
   "source": []
  },
  {
   "cell_type": "markdown",
   "id": "432dea17",
   "metadata": {},
   "source": [
    "The next step is to merge the new `eventcount` datset with your dataset of stock data."
   ]
  },
  {
   "cell_type": "code",
   "execution_count": null,
   "id": "97e86efd",
   "metadata": {},
   "outputs": [],
   "source": []
  },
  {
   "cell_type": "markdown",
   "id": "eb3ea06f",
   "metadata": {},
   "source": [
    "Now use Python's `expand` method to create the duplicate observations. The `eventcount` variable has been merged on to each stock observation, and tells computer how many copies of that observation are needed. This is where your dataset can get very big, as we are "
   ]
  },
  {
   "cell_type": "code",
   "execution_count": null,
   "id": "3db34382",
   "metadata": {},
   "outputs": [],
   "source": []
  },
  {
   "cell_type": "markdown",
   "id": "2a2895d7",
   "metadata": {},
   "source": [
    "## Step 2: Define the Event and Estimation Windows"
   ]
  },
  {
   "cell_type": "markdown",
   "id": "5eee106b",
   "metadata": {},
   "source": [
    "It's likely that you have more observations for each company than you need. It's also possible that you do not have enough for some. Before you continue, you must make sure that you will be conducting your analyses on the correct observations. To do this, you will need to create a variable ,`dif`, that will count the number of days from the observation to the event date. This can be either calendar days or trading days."
   ]
  },
  {
   "cell_type": "markdown",
   "id": "e11edea1",
   "metadata": {},
   "source": [
    "### Estimation Window"
   ]
  },
  {
   "cell_type": "markdown",
   "id": "472c6972",
   "metadata": {},
   "source": [
    "The estimation window is used to compute normal (expected) returns before the event. Johnston (2007) used 250 days before the event, with a 45-day gap before the event window. Wiles, Morgan, and Rego (2012) set 90-trading-day estimation window ending 6 days before the event. A. Sorescu, Warren, and Ertekin (2017) used 100 days before the event. To avoid biases from information leaking before the event, researchers should check broad news sources for pre-event rumors.\n",
    "\n",
    "Here we set estimation window as 100 days before the event."
   ]
  },
  {
   "cell_type": "code",
   "execution_count": 403,
   "id": "94047d98",
   "metadata": {},
   "outputs": [],
   "source": [
    "estimation_size = 100 # size of estimation window"
   ]
  },
  {
   "cell_type": "code",
   "execution_count": 404,
   "id": "8a10219d",
   "metadata": {},
   "outputs": [],
   "source": [
    "event['estimateDt'] = event['eventDt'] - pd.Timedelta(days=100)"
   ]
  },
  {
   "cell_type": "code",
   "execution_count": 405,
   "id": "688d5e12",
   "metadata": {},
   "outputs": [],
   "source": [
    "# Drop events with missing estimation dates.\n",
    "event = event.loc[event.estimateDt > '2020-01-01', :].reset_index(drop=True)"
   ]
  },
  {
   "cell_type": "markdown",
   "id": "36db5484",
   "metadata": {},
   "source": [
    "Now we are at the point where we can actually start an analysis. First we need a way to estimate *normal performance*. To do this, we will run a separate regression for each company using the data within the estimation window and save the alphas (the intercept) and betas (the coefficient of the independent variable). We will later use these saved regression equations to predict normal performance during the event window.\n",
    "\n",
    "Note that return, the dependent variable in our regression, is simply a given stock's return, while the independent variable `vretd` that we use to predict `ret` is the value-weighted return of an index whatever exchange the stock trades on."
   ]
  },
  {
   "cell_type": "code",
   "execution_count": null,
   "id": "d4c81956",
   "metadata": {},
   "outputs": [],
   "source": []
  },
  {
   "cell_type": "markdown",
   "id": "6d66b223",
   "metadata": {},
   "source": [
    "Here, we created a variable `id` that numbers the companies from 1 to however many there are. The `N` is the number of company-event combinations that have complete data. This process iterates over the companies, runs a regression in the estimation window for each, and then uses that regression to predict a normal return in the event window."
   ]
  },
  {
   "cell_type": "code",
   "execution_count": 377,
   "id": "ebcababd",
   "metadata": {},
   "outputs": [
    {
     "data": {
      "text/html": [
       "<div>\n",
       "<style scoped>\n",
       "    .dataframe tbody tr th:only-of-type {\n",
       "        vertical-align: middle;\n",
       "    }\n",
       "\n",
       "    .dataframe tbody tr th {\n",
       "        vertical-align: top;\n",
       "    }\n",
       "\n",
       "    .dataframe thead th {\n",
       "        text-align: right;\n",
       "    }\n",
       "</style>\n",
       "<table border=\"1\" class=\"dataframe\">\n",
       "  <thead>\n",
       "    <tr style=\"text-align: right;\">\n",
       "      <th></th>\n",
       "      <th>isinCd</th>\n",
       "      <th>eventDt</th>\n",
       "      <th>estimateDt</th>\n",
       "    </tr>\n",
       "  </thead>\n",
       "  <tbody>\n",
       "    <tr>\n",
       "      <th>0</th>\n",
       "      <td>KR7000040006</td>\n",
       "      <td>2020-05-12</td>\n",
       "      <td>2020-02-02</td>\n",
       "    </tr>\n",
       "    <tr>\n",
       "      <th>1</th>\n",
       "      <td>KR7000040006</td>\n",
       "      <td>2024-04-27</td>\n",
       "      <td>2024-01-18</td>\n",
       "    </tr>\n",
       "    <tr>\n",
       "      <th>2</th>\n",
       "      <td>KR7000040006</td>\n",
       "      <td>2024-05-01</td>\n",
       "      <td>2024-01-22</td>\n",
       "    </tr>\n",
       "    <tr>\n",
       "      <th>3</th>\n",
       "      <td>KR7000040006</td>\n",
       "      <td>2024-05-11</td>\n",
       "      <td>2024-02-01</td>\n",
       "    </tr>\n",
       "    <tr>\n",
       "      <th>4</th>\n",
       "      <td>KR7000060004</td>\n",
       "      <td>2020-11-14</td>\n",
       "      <td>2020-08-06</td>\n",
       "    </tr>\n",
       "    <tr>\n",
       "      <th>...</th>\n",
       "      <td>...</td>\n",
       "      <td>...</td>\n",
       "      <td>...</td>\n",
       "    </tr>\n",
       "    <tr>\n",
       "      <th>2370</th>\n",
       "      <td>KR7489730002</td>\n",
       "      <td>2024-11-22</td>\n",
       "      <td>2024-08-14</td>\n",
       "    </tr>\n",
       "    <tr>\n",
       "      <th>2371</th>\n",
       "      <td>KR7492220009</td>\n",
       "      <td>2024-12-06</td>\n",
       "      <td>2024-08-28</td>\n",
       "    </tr>\n",
       "    <tr>\n",
       "      <th>2372</th>\n",
       "      <td>KR7493790000</td>\n",
       "      <td>2025-01-17</td>\n",
       "      <td>2024-10-09</td>\n",
       "    </tr>\n",
       "    <tr>\n",
       "      <th>2373</th>\n",
       "      <td>KR7496070004</td>\n",
       "      <td>2025-05-23</td>\n",
       "      <td>2025-02-12</td>\n",
       "    </tr>\n",
       "    <tr>\n",
       "      <th>2374</th>\n",
       "      <td>KR7498390004</td>\n",
       "      <td>2025-03-15</td>\n",
       "      <td>2024-12-05</td>\n",
       "    </tr>\n",
       "  </tbody>\n",
       "</table>\n",
       "<p>2375 rows × 3 columns</p>\n",
       "</div>"
      ],
      "text/plain": [
       "            isinCd    eventDt estimateDt\n",
       "0     KR7000040006 2020-05-12 2020-02-02\n",
       "1     KR7000040006 2024-04-27 2024-01-18\n",
       "2     KR7000040006 2024-05-01 2024-01-22\n",
       "3     KR7000040006 2024-05-11 2024-02-01\n",
       "4     KR7000060004 2020-11-14 2020-08-06\n",
       "...            ...        ...        ...\n",
       "2370  KR7489730002 2024-11-22 2024-08-14\n",
       "2371  KR7492220009 2024-12-06 2024-08-28\n",
       "2372  KR7493790000 2025-01-17 2024-10-09\n",
       "2373  KR7496070004 2025-05-23 2025-02-12\n",
       "2374  KR7498390004 2025-03-15 2024-12-05\n",
       "\n",
       "[2375 rows x 3 columns]"
      ]
     },
     "execution_count": 377,
     "metadata": {},
     "output_type": "execute_result"
    }
   ],
   "source": [
    "event"
   ]
  },
  {
   "cell_type": "markdown",
   "id": "90fdc4e2",
   "metadata": {},
   "source": [
    "### Event Window"
   ]
  },
  {
   "cell_type": "markdown",
   "id": "419c97ff",
   "metadata": {},
   "source": [
    "The event window captures the market's reaction to the event. The selection of an appropriate window lengths depends on event type and information speed. For instance, Balasubramaniann, Marthur, and Thakur (2005), Boyd, Chandy, and Cunha Jr. (2010), and Fornell et al. (2006) used 1-day window, Raassens, Wuyts, and Geyskens (2012) and Sood and Tellis (2009) defined it as 2-day window, and Cornwell, Pruitt, and Clark (2005) and A.B. Sorescu, Chandy, and Prabhu (2007) used up to 10 days."
   ]
  },
  {
   "cell_type": "code",
   "execution_count": 406,
   "id": "c9313aa2",
   "metadata": {},
   "outputs": [],
   "source": [
    "event_window = (-5, 10)"
   ]
  },
  {
   "cell_type": "code",
   "execution_count": 407,
   "id": "27c57494",
   "metadata": {},
   "outputs": [],
   "source": [
    "# Expand event with all event windows.\n",
    "expanded = event.loc[event.index.repeat(event_window[1] - event_window[0] + 1)].copy()\n",
    "expanded['event_day'] = np.tile(np.arange(event_window[0], event_window[1] + 1), len(event))\n",
    "\n",
    "# Calculate the event date.\n",
    "expanded['basDt'] = expanded['eventDt'] + pd.to_timedelta(expanded['event_day'], unit='D')\n",
    "\n",
    "# Merge with return data.\n",
    "ret = ret.merge(\n",
    "    expanded[['isinCd', 'basDt', 'event_day']],\n",
    "    on=['isinCd', 'basDt'],\n",
    "    how='left'\n",
    ")"
   ]
  },
  {
   "cell_type": "code",
   "execution_count": 408,
   "id": "a3de579e",
   "metadata": {},
   "outputs": [],
   "source": [
    "# Count number of overlaps per (isinCd, basDt)\n",
    "overlap_counts = expanded.groupby(['isinCd', 'basDt']).size().reset_index(name='count')\n",
    "\n",
    "# Filter for overlapping cases\n",
    "overlaps = overlap_counts[overlap_counts['count'] > 1]\n",
    "\n",
    "# Identify event dates causing overlap.\n",
    "conflict_events = expanded.merge(overlaps, on=['isinCd', 'basDt'], how='inner')\n",
    "conflict_set = conflict_events[['isinCd', 'eventDt']].drop_duplicates()\n",
    "\n",
    "# Drop from original event list.\n",
    "event_clean = event.merge(conflict_set, on=['isinCd', 'eventDt'], how='left', indicator=True)\n",
    "event_clean = event_clean[event_clean['_merge'] == 'left_only'].drop(columns=['_merge'])"
   ]
  },
  {
   "cell_type": "code",
   "execution_count": 409,
   "id": "efa4847c",
   "metadata": {},
   "outputs": [
    {
     "data": {
      "text/html": [
       "<div>\n",
       "<style scoped>\n",
       "    .dataframe tbody tr th:only-of-type {\n",
       "        vertical-align: middle;\n",
       "    }\n",
       "\n",
       "    .dataframe tbody tr th {\n",
       "        vertical-align: top;\n",
       "    }\n",
       "\n",
       "    .dataframe thead th {\n",
       "        text-align: right;\n",
       "    }\n",
       "</style>\n",
       "<table border=\"1\" class=\"dataframe\">\n",
       "  <thead>\n",
       "    <tr style=\"text-align: right;\">\n",
       "      <th></th>\n",
       "      <th>isinCd</th>\n",
       "      <th>eventDt</th>\n",
       "      <th>estimateDt</th>\n",
       "    </tr>\n",
       "  </thead>\n",
       "  <tbody>\n",
       "    <tr>\n",
       "      <th>0</th>\n",
       "      <td>KR7000480004</td>\n",
       "      <td>2023-04-08</td>\n",
       "      <td>2022-12-29</td>\n",
       "    </tr>\n",
       "    <tr>\n",
       "      <th>1</th>\n",
       "      <td>KR7000520007</td>\n",
       "      <td>2021-04-09</td>\n",
       "      <td>2020-12-30</td>\n",
       "    </tr>\n",
       "    <tr>\n",
       "      <th>2</th>\n",
       "      <td>KR7001390004</td>\n",
       "      <td>2023-08-24</td>\n",
       "      <td>2023-05-16</td>\n",
       "    </tr>\n",
       "    <tr>\n",
       "      <th>3</th>\n",
       "      <td>KR7001790005</td>\n",
       "      <td>2021-04-13</td>\n",
       "      <td>2021-01-03</td>\n",
       "    </tr>\n",
       "    <tr>\n",
       "      <th>4</th>\n",
       "      <td>KR7001791003</td>\n",
       "      <td>2021-04-13</td>\n",
       "      <td>2021-01-03</td>\n",
       "    </tr>\n",
       "    <tr>\n",
       "      <th>...</th>\n",
       "      <td>...</td>\n",
       "      <td>...</td>\n",
       "      <td>...</td>\n",
       "    </tr>\n",
       "    <tr>\n",
       "      <th>83</th>\n",
       "      <td>KR7378340004</td>\n",
       "      <td>2022-04-12</td>\n",
       "      <td>2022-01-02</td>\n",
       "    </tr>\n",
       "    <tr>\n",
       "      <th>84</th>\n",
       "      <td>KR7403550007</td>\n",
       "      <td>2021-12-04</td>\n",
       "      <td>2021-08-26</td>\n",
       "    </tr>\n",
       "    <tr>\n",
       "      <th>85</th>\n",
       "      <td>KR7406820001</td>\n",
       "      <td>2022-06-03</td>\n",
       "      <td>2022-02-23</td>\n",
       "    </tr>\n",
       "    <tr>\n",
       "      <th>86</th>\n",
       "      <td>KR7417180007</td>\n",
       "      <td>2022-04-12</td>\n",
       "      <td>2022-01-02</td>\n",
       "    </tr>\n",
       "    <tr>\n",
       "      <th>87</th>\n",
       "      <td>KR7457190007</td>\n",
       "      <td>2024-04-25</td>\n",
       "      <td>2024-01-16</td>\n",
       "    </tr>\n",
       "  </tbody>\n",
       "</table>\n",
       "<p>77 rows × 3 columns</p>\n",
       "</div>"
      ],
      "text/plain": [
       "          isinCd    eventDt estimateDt\n",
       "0   KR7000480004 2023-04-08 2022-12-29\n",
       "1   KR7000520007 2021-04-09 2020-12-30\n",
       "2   KR7001390004 2023-08-24 2023-05-16\n",
       "3   KR7001790005 2021-04-13 2021-01-03\n",
       "4   KR7001791003 2021-04-13 2021-01-03\n",
       "..           ...        ...        ...\n",
       "83  KR7378340004 2022-04-12 2022-01-02\n",
       "84  KR7403550007 2021-12-04 2021-08-26\n",
       "85  KR7406820001 2022-06-03 2022-02-23\n",
       "86  KR7417180007 2022-04-12 2022-01-02\n",
       "87  KR7457190007 2024-04-25 2024-01-16\n",
       "\n",
       "[77 rows x 3 columns]"
      ]
     },
     "execution_count": 409,
     "metadata": {},
     "output_type": "execute_result"
    }
   ],
   "source": [
    "event_clean"
   ]
  },
  {
   "cell_type": "code",
   "execution_count": 410,
   "id": "aaced9ff",
   "metadata": {},
   "outputs": [],
   "source": [
    "# Mark the event days in the return panel.\n",
    "ret['event'] = np.nan\n",
    "event_key = set(zip(event_clean['isinCd'], event_clean['eventDt']))\n",
    "mask = ret[['isinCd', 'basDt']].apply(tuple, axis=1).isin(event_key)\n",
    "ret.loc[mask, 'event'] = 0"
   ]
  },
  {
   "cell_type": "code",
   "execution_count": 411,
   "id": "47aa7a5f",
   "metadata": {},
   "outputs": [
    {
     "data": {
      "text/html": [
       "<div>\n",
       "<style scoped>\n",
       "    .dataframe tbody tr th:only-of-type {\n",
       "        vertical-align: middle;\n",
       "    }\n",
       "\n",
       "    .dataframe tbody tr th {\n",
       "        vertical-align: top;\n",
       "    }\n",
       "\n",
       "    .dataframe thead th {\n",
       "        text-align: right;\n",
       "    }\n",
       "</style>\n",
       "<table border=\"1\" class=\"dataframe\">\n",
       "  <thead>\n",
       "    <tr style=\"text-align: right;\">\n",
       "      <th></th>\n",
       "      <th>isinCd</th>\n",
       "      <th>basDt</th>\n",
       "      <th>daily_return</th>\n",
       "      <th>mkt_return</th>\n",
       "      <th>event_day</th>\n",
       "      <th>event</th>\n",
       "    </tr>\n",
       "  </thead>\n",
       "  <tbody>\n",
       "    <tr>\n",
       "      <th>0</th>\n",
       "      <td>HK0000214814</td>\n",
       "      <td>2020-01-03</td>\n",
       "      <td>0.004630</td>\n",
       "      <td>-0.006068</td>\n",
       "      <td>NaN</td>\n",
       "      <td>NaN</td>\n",
       "    </tr>\n",
       "    <tr>\n",
       "      <th>1</th>\n",
       "      <td>HK0000214814</td>\n",
       "      <td>2020-01-06</td>\n",
       "      <td>-0.027650</td>\n",
       "      <td>-0.021823</td>\n",
       "      <td>NaN</td>\n",
       "      <td>NaN</td>\n",
       "    </tr>\n",
       "    <tr>\n",
       "      <th>2</th>\n",
       "      <td>HK0000214814</td>\n",
       "      <td>2020-01-07</td>\n",
       "      <td>0.033175</td>\n",
       "      <td>0.012406</td>\n",
       "      <td>NaN</td>\n",
       "      <td>NaN</td>\n",
       "    </tr>\n",
       "    <tr>\n",
       "      <th>3</th>\n",
       "      <td>HK0000214814</td>\n",
       "      <td>2020-01-08</td>\n",
       "      <td>-0.068807</td>\n",
       "      <td>-0.033914</td>\n",
       "      <td>NaN</td>\n",
       "      <td>NaN</td>\n",
       "    </tr>\n",
       "    <tr>\n",
       "      <th>4</th>\n",
       "      <td>HK0000214814</td>\n",
       "      <td>2020-01-09</td>\n",
       "      <td>0.049261</td>\n",
       "      <td>0.039239</td>\n",
       "      <td>NaN</td>\n",
       "      <td>NaN</td>\n",
       "    </tr>\n",
       "    <tr>\n",
       "      <th>...</th>\n",
       "      <td>...</td>\n",
       "      <td>...</td>\n",
       "      <td>...</td>\n",
       "      <td>...</td>\n",
       "      <td>...</td>\n",
       "      <td>...</td>\n",
       "    </tr>\n",
       "    <tr>\n",
       "      <th>3634218</th>\n",
       "      <td>KYG2115T1076</td>\n",
       "      <td>2025-07-18</td>\n",
       "      <td>0.007692</td>\n",
       "      <td>0.002933</td>\n",
       "      <td>NaN</td>\n",
       "      <td>NaN</td>\n",
       "    </tr>\n",
       "    <tr>\n",
       "      <th>3634219</th>\n",
       "      <td>KYG2115T1076</td>\n",
       "      <td>2025-07-21</td>\n",
       "      <td>-0.010905</td>\n",
       "      <td>0.001243</td>\n",
       "      <td>NaN</td>\n",
       "      <td>NaN</td>\n",
       "    </tr>\n",
       "    <tr>\n",
       "      <th>3634220</th>\n",
       "      <td>KYG2115T1076</td>\n",
       "      <td>2025-07-22</td>\n",
       "      <td>0.008820</td>\n",
       "      <td>-0.010612</td>\n",
       "      <td>NaN</td>\n",
       "      <td>NaN</td>\n",
       "    </tr>\n",
       "    <tr>\n",
       "      <th>3634221</th>\n",
       "      <td>KYG2115T1076</td>\n",
       "      <td>2025-07-23</td>\n",
       "      <td>-0.008743</td>\n",
       "      <td>0.000726</td>\n",
       "      <td>NaN</td>\n",
       "      <td>NaN</td>\n",
       "    </tr>\n",
       "    <tr>\n",
       "      <th>3634222</th>\n",
       "      <td>KYG2115T1076</td>\n",
       "      <td>2025-07-24</td>\n",
       "      <td>-0.011025</td>\n",
       "      <td>-0.004511</td>\n",
       "      <td>NaN</td>\n",
       "      <td>NaN</td>\n",
       "    </tr>\n",
       "  </tbody>\n",
       "</table>\n",
       "<p>3634223 rows × 6 columns</p>\n",
       "</div>"
      ],
      "text/plain": [
       "               isinCd      basDt  daily_return  mkt_return  event_day  event\n",
       "0        HK0000214814 2020-01-03      0.004630   -0.006068        NaN    NaN\n",
       "1        HK0000214814 2020-01-06     -0.027650   -0.021823        NaN    NaN\n",
       "2        HK0000214814 2020-01-07      0.033175    0.012406        NaN    NaN\n",
       "3        HK0000214814 2020-01-08     -0.068807   -0.033914        NaN    NaN\n",
       "4        HK0000214814 2020-01-09      0.049261    0.039239        NaN    NaN\n",
       "...               ...        ...           ...         ...        ...    ...\n",
       "3634218  KYG2115T1076 2025-07-18      0.007692    0.002933        NaN    NaN\n",
       "3634219  KYG2115T1076 2025-07-21     -0.010905    0.001243        NaN    NaN\n",
       "3634220  KYG2115T1076 2025-07-22      0.008820   -0.010612        NaN    NaN\n",
       "3634221  KYG2115T1076 2025-07-23     -0.008743    0.000726        NaN    NaN\n",
       "3634222  KYG2115T1076 2025-07-24     -0.011025   -0.004511        NaN    NaN\n",
       "\n",
       "[3634223 rows x 6 columns]"
      ]
     },
     "execution_count": 411,
     "metadata": {},
     "output_type": "execute_result"
    }
   ],
   "source": [
    "ret"
   ]
  },
  {
   "cell_type": "code",
   "execution_count": 412,
   "id": "9d789a4c",
   "metadata": {},
   "outputs": [
    {
     "data": {
      "application/vnd.jupyter.widget-view+json": {
       "model_id": "aec7ba356c274c479428b4c1c0254327",
       "version_major": 2,
       "version_minor": 0
      },
      "text/plain": [
       "  0%|          | 0/3178 [00:00<?, ?it/s]"
      ]
     },
     "metadata": {},
     "output_type": "display_data"
    }
   ],
   "source": [
    "# For each firm, propagate window numbers around the event.\n",
    "ret = ret.sort_values(['isinCd', 'basDt']).reset_index(drop=True)\n",
    "for firm, df in tqdm(ret.groupby('isinCd', sort=False)):\n",
    "    df = df.reset_index()\n",
    "    event_indicies = df[df.event == 0].index.tolist()\n",
    "    for idx in event_indicies:\n",
    "        for offset in range(event_window[0], event_window[1] + 1):\n",
    "            target_idx = idx + offset\n",
    "            if 0 <= target_idx < len(df):\n",
    "                ret.loc[df.loc[target_idx, 'index'], 'event'] = offset"
   ]
  },
  {
   "cell_type": "markdown",
   "id": "c2dc756d",
   "metadata": {},
   "source": [
    "### Post Event Window"
   ]
  },
  {
   "cell_type": "markdown",
   "id": "b94581d3",
   "metadata": {},
   "source": [
    "Post event window is used to assess long-term effects on stock prices."
   ]
  },
  {
   "cell_type": "code",
   "execution_count": 413,
   "id": "89147f30",
   "metadata": {},
   "outputs": [],
   "source": [
    "post_event_window = (11, 30)"
   ]
  },
  {
   "cell_type": "markdown",
   "id": "c0b77cf1",
   "metadata": {},
   "source": [
    "## Step 3: Normal Returns"
   ]
  },
  {
   "cell_type": "markdown",
   "id": "06882c37",
   "metadata": {},
   "source": [
    "The abnormal return measures how much the stock price deviates from its expected return: $$e_{it} == \\frac{P_{it} - \\mathbb E[P_{it}]}{P_{it-1}} = R_{it} - \\mathbb E[R_{it}\\vert X_t]$$ where $e_{it}$ is an abnormal return, $R_{it}$ is a realized return, $P_{it}$ is a dividend adjusted stock price, and $\\mathbb E[R_{it} \\vert X_t]$ is an expected return for firm $i$ at time $t$, respectively."
   ]
  },
  {
   "cell_type": "markdown",
   "id": "8446b717",
   "metadata": {},
   "source": [
    "### Statistical Models for Expected Returns"
   ]
  },
  {
   "cell_type": "markdown",
   "id": "8fd38361",
   "metadata": {},
   "source": [
    "These models assume jointly normal and independently distributed returns.\n",
    "\n",
    "1. Constant mean return model $$\\mathbb E[R_{it}] = \\frac{1}{T} \\sum^{T_1}_{T_0} R_{it}$$\n",
    "2. Market model $$R_{it} = \\alpha_i + \\beta_i R_{mt} + \\epsilon_{it}$$\n",
    "3. Adjusted market return model $$\\mathbb E [R_{it}] = R_{mt}$$"
   ]
  },
  {
   "cell_type": "markdown",
   "id": "4c540276",
   "metadata": {},
   "source": [
    "### Economic Models for Expected Returns"
   ]
  },
  {
   "cell_type": "markdown",
   "id": "a20a23e8",
   "metadata": {},
   "source": [
    "1. Capital Asset Pricing Model (CAPM) $$\\mathbb E[R_{it}] = R_{ft} + \\beta_i (R_{mt} - R_{ft})$$\n",
    "2. Arbitrage pricing theory (APT) $$R_{it} = \\lambda_{0i} + \\lambda_{1i} F_{1t} + \\lambda_{2i} F_{2t} + \\cdots + \\lambda_{ni} F_{nt} + \\epsilon_{it}$$"
   ]
  },
  {
   "cell_type": "markdown",
   "id": "76e201c2",
   "metadata": {},
   "source": [
    "### Compute Normal Returns"
   ]
  },
  {
   "cell_type": "code",
   "execution_count": 414,
   "id": "2f3ad1c3",
   "metadata": {},
   "outputs": [
    {
     "data": {
      "application/vnd.jupyter.widget-view+json": {
       "model_id": "6fd7236b99934c2d93dcdb0129f08828",
       "version_major": 2,
       "version_minor": 0
      },
      "text/plain": [
       "  0%|          | 0/3178 [00:00<?, ?it/s]"
      ]
     },
     "metadata": {},
     "output_type": "display_data"
    }
   ],
   "source": [
    "# Add a new column for normal returns.\n",
    "ret['norm_return'] = np.nan\n",
    "ret['abn_return'] = np.nan\n",
    "\n",
    "# Ensure sorting.\n",
    "ret = ret.sort_values(['isinCd', 'basDt'])\n",
    "\n",
    "# Loop by firm.\n",
    "for firm, df in tqdm(ret.groupby('isinCd', sort=False)):\n",
    "    df = df.reset_index()\n",
    "\n",
    "    # Find all events for this firm.\n",
    "    event_rows = df[df.event == 0].index.tolist()\n",
    "\n",
    "    for idx in event_rows:\n",
    "        # Define estimation window.\n",
    "        est_start = idx - 100\n",
    "        est_end = idx - 1\n",
    "        if est_start < 0:\n",
    "            continue # skip if not enough history\n",
    "\n",
    "        est_df = df.loc[est_start:est_end]\n",
    "\n",
    "        # Make sure no NaNs.\n",
    "        est_df = est_df.dropna(subset=['daily_return', 'mkt_return'])\n",
    "        if len(est_df) < 50: # arbitrary threshold\n",
    "            continue\n",
    "\n",
    "        # Estimate alpha and beta.\n",
    "        X = sm.add_constant(est_df['mkt_return'])\n",
    "        y = est_df['daily_return']\n",
    "        model = sm.OLS(y, X).fit()\n",
    "        alpha, beta = model.params\n",
    "\n",
    "        # Compute AR in event window.\n",
    "        for offset in range(event_window[0], event_window[1] + 1):\n",
    "            target_idx = idx + offset\n",
    "            if 0 <= target_idx < len(df):\n",
    "                row = df.loc[target_idx]\n",
    "                expected = alpha + beta * row['mkt_return']\n",
    "                actual = row['daily_return']\n",
    "                ar = actual - expected\n",
    "                ret.loc[df.loc[target_idx, 'index'], 'norm_return'] = expected\n",
    "                ret.loc[df.loc[target_idx, 'index'], 'abn_return'] = ar"
   ]
  },
  {
   "cell_type": "code",
   "execution_count": 415,
   "id": "7a3ca637",
   "metadata": {},
   "outputs": [
    {
     "data": {
      "text/html": [
       "<div>\n",
       "<style scoped>\n",
       "    .dataframe tbody tr th:only-of-type {\n",
       "        vertical-align: middle;\n",
       "    }\n",
       "\n",
       "    .dataframe tbody tr th {\n",
       "        vertical-align: top;\n",
       "    }\n",
       "\n",
       "    .dataframe thead th {\n",
       "        text-align: right;\n",
       "    }\n",
       "</style>\n",
       "<table border=\"1\" class=\"dataframe\">\n",
       "  <thead>\n",
       "    <tr style=\"text-align: right;\">\n",
       "      <th></th>\n",
       "      <th>isinCd</th>\n",
       "      <th>basDt</th>\n",
       "      <th>daily_return</th>\n",
       "      <th>mkt_return</th>\n",
       "      <th>event_day</th>\n",
       "      <th>event</th>\n",
       "      <th>norm_return</th>\n",
       "      <th>abn_return</th>\n",
       "    </tr>\n",
       "  </thead>\n",
       "  <tbody>\n",
       "    <tr>\n",
       "      <th>52994</th>\n",
       "      <td>KR7000520007</td>\n",
       "      <td>2021-04-05</td>\n",
       "      <td>-0.002488</td>\n",
       "      <td>0.002580</td>\n",
       "      <td>-4.0</td>\n",
       "      <td>-4.0</td>\n",
       "      <td>-0.000475</td>\n",
       "      <td>-0.002012</td>\n",
       "    </tr>\n",
       "    <tr>\n",
       "      <th>52995</th>\n",
       "      <td>KR7000520007</td>\n",
       "      <td>2021-04-06</td>\n",
       "      <td>-0.007481</td>\n",
       "      <td>0.002003</td>\n",
       "      <td>-3.0</td>\n",
       "      <td>-3.0</td>\n",
       "      <td>-0.000626</td>\n",
       "      <td>-0.006856</td>\n",
       "    </tr>\n",
       "    <tr>\n",
       "      <th>52996</th>\n",
       "      <td>KR7000520007</td>\n",
       "      <td>2021-04-07</td>\n",
       "      <td>0.000000</td>\n",
       "      <td>0.003303</td>\n",
       "      <td>-2.0</td>\n",
       "      <td>-2.0</td>\n",
       "      <td>-0.000287</td>\n",
       "      <td>0.000287</td>\n",
       "    </tr>\n",
       "    <tr>\n",
       "      <th>52997</th>\n",
       "      <td>KR7000520007</td>\n",
       "      <td>2021-04-08</td>\n",
       "      <td>0.000000</td>\n",
       "      <td>0.001865</td>\n",
       "      <td>-1.0</td>\n",
       "      <td>-1.0</td>\n",
       "      <td>-0.000661</td>\n",
       "      <td>0.000661</td>\n",
       "    </tr>\n",
       "    <tr>\n",
       "      <th>52998</th>\n",
       "      <td>KR7000520007</td>\n",
       "      <td>2021-04-09</td>\n",
       "      <td>0.000000</td>\n",
       "      <td>-0.003620</td>\n",
       "      <td>0.0</td>\n",
       "      <td>0.0</td>\n",
       "      <td>-0.002088</td>\n",
       "      <td>0.002088</td>\n",
       "    </tr>\n",
       "    <tr>\n",
       "      <th>...</th>\n",
       "      <td>...</td>\n",
       "      <td>...</td>\n",
       "      <td>...</td>\n",
       "      <td>...</td>\n",
       "      <td>...</td>\n",
       "      <td>...</td>\n",
       "      <td>...</td>\n",
       "      <td>...</td>\n",
       "    </tr>\n",
       "    <tr>\n",
       "      <th>3592217</th>\n",
       "      <td>KR7457190007</td>\n",
       "      <td>2024-04-26</td>\n",
       "      <td>0.000000</td>\n",
       "      <td>0.010542</td>\n",
       "      <td>1.0</td>\n",
       "      <td>1.0</td>\n",
       "      <td>0.009902</td>\n",
       "      <td>-0.009902</td>\n",
       "    </tr>\n",
       "    <tr>\n",
       "      <th>3592218</th>\n",
       "      <td>KR7457190007</td>\n",
       "      <td>2024-04-29</td>\n",
       "      <td>0.000000</td>\n",
       "      <td>0.011712</td>\n",
       "      <td>4.0</td>\n",
       "      <td>2.0</td>\n",
       "      <td>0.009883</td>\n",
       "      <td>-0.009883</td>\n",
       "    </tr>\n",
       "    <tr>\n",
       "      <th>3592219</th>\n",
       "      <td>KR7457190007</td>\n",
       "      <td>2024-04-30</td>\n",
       "      <td>0.000000</td>\n",
       "      <td>0.001719</td>\n",
       "      <td>5.0</td>\n",
       "      <td>3.0</td>\n",
       "      <td>0.010046</td>\n",
       "      <td>-0.010046</td>\n",
       "    </tr>\n",
       "    <tr>\n",
       "      <th>3592220</th>\n",
       "      <td>KR7457190007</td>\n",
       "      <td>2024-05-02</td>\n",
       "      <td>-0.820324</td>\n",
       "      <td>-0.003124</td>\n",
       "      <td>7.0</td>\n",
       "      <td>4.0</td>\n",
       "      <td>0.010125</td>\n",
       "      <td>-0.830449</td>\n",
       "    </tr>\n",
       "    <tr>\n",
       "      <th>3592221</th>\n",
       "      <td>KR7457190007</td>\n",
       "      <td>2024-05-03</td>\n",
       "      <td>-0.088525</td>\n",
       "      <td>-0.002616</td>\n",
       "      <td>8.0</td>\n",
       "      <td>5.0</td>\n",
       "      <td>0.010117</td>\n",
       "      <td>-0.098641</td>\n",
       "    </tr>\n",
       "  </tbody>\n",
       "</table>\n",
       "<p>485 rows × 8 columns</p>\n",
       "</div>"
      ],
      "text/plain": [
       "               isinCd      basDt  daily_return  mkt_return  event_day  event  \\\n",
       "52994    KR7000520007 2021-04-05     -0.002488    0.002580       -4.0   -4.0   \n",
       "52995    KR7000520007 2021-04-06     -0.007481    0.002003       -3.0   -3.0   \n",
       "52996    KR7000520007 2021-04-07      0.000000    0.003303       -2.0   -2.0   \n",
       "52997    KR7000520007 2021-04-08      0.000000    0.001865       -1.0   -1.0   \n",
       "52998    KR7000520007 2021-04-09      0.000000   -0.003620        0.0    0.0   \n",
       "...               ...        ...           ...         ...        ...    ...   \n",
       "3592217  KR7457190007 2024-04-26      0.000000    0.010542        1.0    1.0   \n",
       "3592218  KR7457190007 2024-04-29      0.000000    0.011712        4.0    2.0   \n",
       "3592219  KR7457190007 2024-04-30      0.000000    0.001719        5.0    3.0   \n",
       "3592220  KR7457190007 2024-05-02     -0.820324   -0.003124        7.0    4.0   \n",
       "3592221  KR7457190007 2024-05-03     -0.088525   -0.002616        8.0    5.0   \n",
       "\n",
       "         norm_return  abn_return  \n",
       "52994      -0.000475   -0.002012  \n",
       "52995      -0.000626   -0.006856  \n",
       "52996      -0.000287    0.000287  \n",
       "52997      -0.000661    0.000661  \n",
       "52998      -0.002088    0.002088  \n",
       "...              ...         ...  \n",
       "3592217     0.009902   -0.009902  \n",
       "3592218     0.009883   -0.009883  \n",
       "3592219     0.010046   -0.010046  \n",
       "3592220     0.010125   -0.830449  \n",
       "3592221     0.010117   -0.098641  \n",
       "\n",
       "[485 rows x 8 columns]"
      ]
     },
     "execution_count": 415,
     "metadata": {},
     "output_type": "execute_result"
    }
   ],
   "source": [
    "ret.dropna()"
   ]
  },
  {
   "cell_type": "markdown",
   "id": "1f843553",
   "metadata": {},
   "source": [
    "### Fixed Effects"
   ]
  },
  {
   "cell_type": "markdown",
   "id": "1214c14d",
   "metadata": {},
   "source": [
    "Include visualization of fixed effects!"
   ]
  },
  {
   "cell_type": "markdown",
   "id": "500da5ec",
   "metadata": {},
   "source": [
    "## Step 4: Abnormal Returns and Cumulative Abnormal Returns"
   ]
  },
  {
   "cell_type": "markdown",
   "id": "e9708cd0",
   "metadata": {},
   "source": [
    "Once abnormal returns are computed, we (time-series) aggregate them over the event window: $$\\text{CAR}_i = \\sum^{T}_{t=0} \\text{AR}_{it}.$$ For multiple firms, compute the average cumulative abnormal return (ACAR) (a cross-sectional aggregation of CARs): $$\\text{ACAR} = \\frac{1}{N} \\sum^N_{i=1} \\text{CAR}_i.$$"
   ]
  },
  {
   "cell_type": "code",
   "execution_count": 416,
   "id": "d2304238",
   "metadata": {},
   "outputs": [],
   "source": [
    "# Define CAR window.\n",
    "car_start, car_end = -1, 1\n",
    "\n",
    "# Drop rows outside window of with missing AR.\n",
    "car_df = ret[(ret['event'].between(car_start, car_end)) & (ret['abn_return'].notnull())]\n",
    "\n",
    "# Sum ARs within each event\n",
    "car_by_event = car_df.groupby(['isinCd', 'basDt']).agg(CAR=('abn_return', 'sum')).reset_index()"
   ]
  },
  {
   "cell_type": "markdown",
   "id": "0a53d63a",
   "metadata": {},
   "source": [
    "## Step 5: Testing for Significance"
   ]
  },
  {
   "cell_type": "markdown",
   "id": "bd3c53d1",
   "metadata": {},
   "source": [
    "This type of empirical design is called a difference-in-difference (DID) event study, or a dynamic DID model. It is a useful tool in evaluating treatment effects of the pre- and post- treatment periods in your respective study. However, since treatment can be staggered &mdash; where the treatment group are treated at different time periods &mdash; it might be challenging to create a clean event study. "
   ]
  },
  {
   "cell_type": "markdown",
   "id": "6ef8073c",
   "metadata": {},
   "source": [
    "Here we run panel data regression: $$\\text{CAR}_{it} = \\alpha + \\alpha_i + \\alpha_t + \\beta X_{i,t} + \\epsilon_{i,t}$$"
   ]
  },
  {
   "cell_type": "markdown",
   "id": "946edd46",
   "metadata": {},
   "source": [
    "To determine if abnormal returns are statistically significant, use:\n",
    "1. T-test for abnormal returns $$t = \\frac{\\widehat{\\text{CAR}}}{\\sigma(\\widehat{\\text{CAR}})}$$\n",
    "2. Bootstrap and Monte Carlo simulations: Used when returns are non-normally distributed."
   ]
  },
  {
   "cell_type": "code",
   "execution_count": 417,
   "id": "c6540b9a",
   "metadata": {},
   "outputs": [],
   "source": [
    "# Drop NaNs.\n",
    "df = ret.dropna(subset=['event', 'abn_return'])\n",
    "\n",
    "# Create dummies for event time.\n",
    "encoder = OneHotEncoder(drop=None, sparse_output=False)\n",
    "event_dummies = encoder.fit_transform(df[['event']])\n",
    "event_dummies = pd.DataFrame(event_dummies, columns=encoder.get_feature_names_out(['event']))\n",
    "\n",
    "# Combine\n",
    "X = sm.add_constant(event_dummies)\n",
    "X.drop('event_-1.0', axis=1, inplace=True)\n",
    "y = df['abn_return'].values"
   ]
  },
  {
   "cell_type": "code",
   "execution_count": 418,
   "id": "c1e762f6",
   "metadata": {},
   "outputs": [],
   "source": [
    "# Run OLS regressions.\n",
    "model = sm.OLS(y, X).fit(cov_type='HC1')"
   ]
  },
  {
   "cell_type": "code",
   "execution_count": 419,
   "id": "94732b30",
   "metadata": {},
   "outputs": [
    {
     "data": {
      "image/png": "[encoded data removed]",
      "text/plain": [
       "<Figure size 1000x500 with 1 Axes>"
      ]
     },
     "metadata": {},
     "output_type": "display_data"
    }
   ],
   "source": [
    "# Strip to coefficients only.\n",
    "coef = model.params.drop('const', errors='ignore')\n",
    "stderr = model.bse.drop('const', errors='ignore')\n",
    "\n",
    "event_days = [int(col.split('_')[1].replace('.0', '')) for col in coef.index]\n",
    "coef_df = pd.DataFrame({\n",
    "    'event_day': event_days,\n",
    "    'coef': coef.values,\n",
    "    'stderr': stderr.values\n",
    "}).sort_values('event_day')\n",
    "\n",
    "# Plot\n",
    "import matplotlib.pyplot as plt\n",
    "\n",
    "fig, ax = plt.subplots(figsize=(10, 5))\n",
    "ax.errorbar(coef_df['event_day'], coef_df['coef'], yerr=1.96 * coef_df['stderr'],\n",
    "            fmt='o', capsize=4, label='AAR ± 95% CI')\n",
    "\n",
    "ax.axhline(0, color='gray', linestyle='--')\n",
    "ax.axvline(0, color='red', linestyle='--', label='Event Day')\n",
    "ax.set_xlabel('Event Time (Days)')\n",
    "ax.set_ylabel('Abnormal Return')\n",
    "ax.set_title('Event Study Coefficients')\n",
    "ax.legend()\n",
    "plt.grid(True)\n",
    "plt.show()\n"
   ]
  },
  {
   "cell_type": "markdown",
   "id": "93815931",
   "metadata": {},
   "source": [
    "## Testing Across All Companies"
   ]
  },
  {
   "cell_type": "code",
   "execution_count": null,
   "id": "510de66a",
   "metadata": {},
   "outputs": [],
   "source": []
  }
 ],
 "metadata": {
  "kernelspec": {
   "display_name": "base",
   "language": "python",
   "name": "python3"
  },
  "language_info": {
   "codemirror_mode": {
    "name": "ipython",
    "version": 3
   },
   "file_extension": ".py",
   "mimetype": "text/x-python",
   "name": "python",
   "nbconvert_exporter": "python",
   "pygments_lexer": "ipython3",
   "version": "3.12.7"
  }
 },
 "nbformat": 4,
 "nbformat_minor": 5
}
