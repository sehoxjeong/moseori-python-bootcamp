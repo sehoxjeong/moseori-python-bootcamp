{
 "cells": [
  {
   "cell_type": "markdown",
   "id": "ff40c290",
   "metadata": {},
   "source": [
    "<div class=\"alert alert-block alert-warning\">\n",
    "    <b>Warning:</b> The content of the note may contain copyrighted material. Do not distribute.\n",
    "</div>"
   ]
  },
  {
   "cell_type": "markdown",
   "id": "049b2835",
   "metadata": {},
   "source": [
    "# Functions and Object Oriented Programming\n",
    "\n",
    "Seho Jeong, Sogang University\n",
    "\n",
    "**References**\n",
    "- **Coleman, Chase, Spencer Lyon, and Jesse Perla. n.d.** \"Introduction to Economic Modeling and Data Science.\" QuantEcon. https://datascience.quantecon.org/.\n",
    "- **Sargent, Thomas J., and John Stachurski. n.d.** \"Python Programming for Economics and Finance.\" QuantEcon. https://python-programming.quantecon.org/intro.html.\n",
    "- **2025.** \"Decorators in Python.\" Geeks for Geeks. http://geeksforgeeks.org/python/decorators-in-python/.\n",
    "- **2025.** \"Python Exception Handling.\" Geeks for Geeks. https://www.geeksforgeeks.org/python/python-exception-handling/.\n",
    "- **W3 Schools. n.d.** \"Python Functions.\" W3 School Python Tutorial. https://www.w3schools.com/python/python_functions.asp.\n",
    "- **W3 Schools. n.d.** \"Python Lambda.\" W3 School Python Tutorial. https://www.w3schools.com/python/python_lambda.asp.\n",
    "\n",
    "### Contents\n",
    "\n",
    "1. [Functions](#functions)\n",
    "2. [Object Oriented Programming](#object-oriented-programming)\n",
    "3. [Exception Handling](#exception-handling)"
   ]
  },
  {
   "cell_type": "markdown",
   "id": "bb3bc3f6",
   "metadata": {},
   "source": [
    "## Functions"
   ]
  },
  {
   "cell_type": "markdown",
   "id": "1d7e2954",
   "metadata": {},
   "source": [
    "### Application: Production Functions"
   ]
  },
  {
   "cell_type": "markdown",
   "id": "d61f9703",
   "metadata": {},
   "source": [
    "Production functions are useful when modeling the economics of firms producing goods or the aggregate output in an economy. Though the term 'function' is used in a mathematical sense here, we will be making tight connections between the programming of mathematical functions and Python functions."
   ]
  },
  {
   "cell_type": "markdown",
   "id": "ea777024",
   "metadata": {},
   "source": [
    "#### Factors of Production"
   ]
  },
  {
   "cell_type": "markdown",
   "id": "a5ffc6e8",
   "metadata": {},
   "source": [
    "The factors of production are `the inputs used in the production of some sort of output`. Some example factors of production include :\n",
    "- physical capital, e.g. machines, buildings, computers, and power stations.\n",
    "- labor, e.g. all of the hours of work from different types of employees of a firm.\n",
    "- human capital, e.g. the knowledge of employees within a firm.\n",
    "\n",
    "A production function maps a set of inputs to the output, e.g. the amount of wheat produced by a farm, or widgets produced in a factory. \n",
    "\n",
    "As an example of the notation, we denote the total units of labor and physical capital used in a factory as well as $L$ and $K$ respectively. If we denote the physical output of the factory as $Y$, then a production function $F$ that transforms labor and capital into output might have the form :\n",
    "$$ Y = F(K, L) $$"
   ]
  },
  {
   "cell_type": "markdown",
   "id": "0b98ce5d",
   "metadata": {},
   "source": [
    "#### An Example of Production Function"
   ]
  },
  {
   "cell_type": "markdown",
   "id": "4c35025b",
   "metadata": {},
   "source": [
    "Throughout this note, we will use `Cobb-Douglas` production function to help us understand how to create Python functions and why they are useful. The Cobb-Douglas production function has appealing statistical properties when brought to data. This function is displayed below.\n",
    "$$ Y = zK^{\\alpha}L^{1 - \\alpha} $$\n",
    "\n",
    "The function is parameterized by :\n",
    "- A parameter $\\alpha \\in [0, 1]$, called `the output elasticity of capital`.\n",
    "- A value $z$ called the `Total Factor Productivity (TFP)`."
   ]
  },
  {
   "cell_type": "markdown",
   "id": "a19ede58",
   "metadata": {},
   "source": [
    "### What are Functions of Python?"
   ]
  },
  {
   "cell_type": "markdown",
   "id": "38c4a00d",
   "metadata": {},
   "source": [
    "We like to think of a function as a production line in a manufacturing plant : we pass zero or more things to it, operations take place in a set linear sequence, and zero or more things come out. We use functions for the following purposes :\n",
    "- **Re-usability** : Writing code to do a specific task just once, and reuse the code by calling the function.\n",
    "- **Organization** : Keep the code for distinct operations separated and organized.\n",
    "- **Sharing/Collaboration** : Sharing code across multiple projects or sharing pieces of code with collaborators."
   ]
  },
  {
   "cell_type": "markdown",
   "id": "cf37d01d",
   "metadata": {},
   "source": [
    "### How to Define Functions (in Python)?"
   ]
  },
  {
   "cell_type": "markdown",
   "id": "5cf80c48",
   "metadata": {},
   "source": [
    "The basic syntax to create our own function is as follows:\n",
    "```python\n",
    "def function_name(inputs):\n",
    "    '''\n",
    "    steps of operations\n",
    "    '''\n",
    "    return outputs\n",
    "```\n",
    "\n",
    "Here we see two new keywords : `def` and `return`.\n",
    "- `def` is used to tell Python we would like to define a new function.\n",
    "- `return` is used to tell Python what we would like to return from a function."
   ]
  },
  {
   "cell_type": "code",
   "execution_count": 1,
   "id": "f3174687",
   "metadata": {},
   "outputs": [],
   "source": [
    "def mean(numbers):\n",
    "    total = sum(numbers)\n",
    "    N = len(numbers)\n",
    "    answer = total / N\n",
    "\n",
    "    return answer"
   ]
  },
  {
   "cell_type": "code",
   "execution_count": 2,
   "id": "aea4d6a8",
   "metadata": {},
   "outputs": [
    {
     "data": {
      "text/plain": [
       "2.5"
      ]
     },
     "execution_count": 2,
     "metadata": {},
     "output_type": "execute_result"
    }
   ],
   "source": [
    "x = [1, 2, 3, 4]\n",
    "the_mean = mean(x)\n",
    "the_mean"
   ]
  },
  {
   "cell_type": "markdown",
   "id": "81dfc1be",
   "metadata": {},
   "source": [
    "Indentation controls blocks of code (along with the `scope` rules)."
   ]
  },
  {
   "cell_type": "code",
   "execution_count": 3,
   "id": "4d9dd0b3",
   "metadata": {},
   "outputs": [
    {
     "name": "stdout",
     "output_type": "stream",
     "text": [
      "1\n",
      "2\n"
     ]
    }
   ],
   "source": [
    "def f():\n",
    "    print(1)\n",
    "    print(2)\n",
    "f()"
   ]
  },
  {
   "cell_type": "code",
   "execution_count": 4,
   "id": "66aecaa5",
   "metadata": {},
   "outputs": [
    {
     "name": "stdout",
     "output_type": "stream",
     "text": [
      "2\n",
      "1\n"
     ]
    }
   ],
   "source": [
    "def g():\n",
    "    print(1)\n",
    "print(2)\n",
    "g()"
   ]
  },
  {
   "cell_type": "markdown",
   "id": "72d3f9e1",
   "metadata": {},
   "source": [
    "#### Parameters or Arguments?"
   ]
  },
  {
   "cell_type": "markdown",
   "id": "9993cf62",
   "metadata": {},
   "source": [
    "The terms parameter and argument can be used for the same thing: information that are passed into a function. From a function's perspective:\n",
    "- A **parameter** is the variable listed inside the parentheses in the function definition.\n",
    "- An **argument** is the value that is sent to the function when it is called."
   ]
  },
  {
   "cell_type": "markdown",
   "id": "6aed60a2",
   "metadata": {},
   "source": [
    "#### Scope"
   ]
  },
  {
   "cell_type": "markdown",
   "id": "afa9952d",
   "metadata": {},
   "source": [
    "In Python, functions define their own scope for variables. This is a programming concept called **variable scope**. This means that regardless of what name we give an input variable, the input will always referred to as the name inside the body of the function. It also means that regardless of what name we give an output inside of the function, that this variable name was only valid inside of our function.\n",
    "\n",
    "Another point to make here is that the intermediate variables we defined inside the function are only defined inside of the function - we cannot access them from outside. This point can be taken even further : the same name can be bound to variables inside of blocks of code and in the outer scope."
   ]
  },
  {
   "cell_type": "code",
   "execution_count": 5,
   "id": "cf4022f6",
   "metadata": {},
   "outputs": [
    {
     "name": "stdout",
     "output_type": "stream",
     "text": [
      "x = 4\n",
      "x = 5\n",
      "x = 4\n"
     ]
    }
   ],
   "source": [
    "x = 4\n",
    "print(f\"x = {x}\")\n",
    "\n",
    "def f():\n",
    "    x = 5 # A different \"x\"\n",
    "    print(f\"x = {x}\")\n",
    "\n",
    "f() # calls function\n",
    "print(f\"x = {x}\")"
   ]
  },
  {
   "cell_type": "markdown",
   "id": "8392fb05",
   "metadata": {},
   "source": [
    "The final point we want to make about scope is that function inputs and output don't have to be given a name outside the function."
   ]
  },
  {
   "cell_type": "code",
   "execution_count": 6,
   "id": "47ff7e97",
   "metadata": {},
   "outputs": [
    {
     "data": {
      "text/plain": [
       "20.0"
      ]
     },
     "execution_count": 6,
     "metadata": {},
     "output_type": "execute_result"
    }
   ],
   "source": [
    "mean([10, 20, 30])"
   ]
  },
  {
   "cell_type": "markdown",
   "id": "a0803aca",
   "metadata": {},
   "source": [
    "Note that we didn't name the input or the output, but the function was called successfully.\n",
    "\n",
    "Now, let's define a Cobb-Douglas production function where parameter $z = 1$ and $\\alpha = 0.33$ and takes inputs $K$ and $L$."
   ]
  },
  {
   "cell_type": "code",
   "execution_count": 7,
   "id": "657d4756",
   "metadata": {},
   "outputs": [],
   "source": [
    "def cobb_douglas(K, L):\n",
    "    z = 1\n",
    "    alpha = 0.33\n",
    "\n",
    "    return z * (K ** alpha) * (L ** (1 - alpha))"
   ]
  },
  {
   "cell_type": "code",
   "execution_count": 8,
   "id": "42cf7ee2",
   "metadata": {},
   "outputs": [
    {
     "data": {
      "text/plain": [
       "0.6285066872609142"
      ]
     },
     "execution_count": 8,
     "metadata": {},
     "output_type": "execute_result"
    }
   ],
   "source": [
    "cobb_douglas(1.0, 0.5)"
   ]
  },
  {
   "cell_type": "markdown",
   "id": "3355978e",
   "metadata": {},
   "source": [
    "#### Re-Using Functions"
   ]
  },
  {
   "cell_type": "markdown",
   "id": "dd3ccb8a",
   "metadata": {},
   "source": [
    "Economists are often intereested in this question : how much does output change if we modify our inputs? For example, take a production function $Y_1 = F(K_1, L_1)$ which produces $Y_1$ units of the goods.\n",
    "- If we then multiply the inputs each by $\\gamma$, so that $K_2 = \\gamma K_1$ and $L_2 = \\gamma L_1$, then the output is $Y_2 = F(K_2, L_2) = F(\\gamma K, \\gamma L_2)$.\n",
    "- How does $Y_1$ compare to $Y_2$?\n",
    "\n",
    "Answering this question involves something called **returns to scale**. Retruns to scale tells us whether our inputs are more or less productive as we have more of them. If, for any $K$, $L$, we multiply $K$, $L$ by a value $\\gamma$ then\n",
    "- If $ \\frac{Y_2}{Y_1} < \\gamma $ then we say the production function has **decreasing returns to scale**.\n",
    "- If $ \\frac{Y_2}{Y_1} = \\gamma $ then we say the production function has **constant returns to scale**.\n",
    "- If $ \\frac{Y_2}{Y_1} > \\gamma $ then we say the production function has **increasing returns to scale**."
   ]
  },
  {
   "cell_type": "code",
   "execution_count": 9,
   "id": "45592b5f",
   "metadata": {},
   "outputs": [
    {
     "name": "stdout",
     "output_type": "stream",
     "text": [
      "0.6285066872609142\n",
      "1.2570133745218284\n"
     ]
    }
   ],
   "source": [
    "y1 = cobb_douglas(1.0, 0.5)\n",
    "print(y1)\n",
    "\n",
    "y2 = cobb_douglas(2 * 1.0, 2 * 0.5)\n",
    "print(y2)"
   ]
  },
  {
   "cell_type": "code",
   "execution_count": 10,
   "id": "9735e82c",
   "metadata": {},
   "outputs": [
    {
     "data": {
      "text/plain": [
       "2.0"
      ]
     },
     "execution_count": 10,
     "metadata": {},
     "output_type": "execute_result"
    }
   ],
   "source": [
    "y2 / y1"
   ]
  },
  {
   "cell_type": "markdown",
   "id": "3510d062",
   "metadata": {},
   "source": [
    "The production function has constant returns to scale.\n",
    "\n",
    "The following is an example of how writing functions can allow us to re-use code in ways we might not originally anticipate."
   ]
  },
  {
   "cell_type": "code",
   "execution_count": 11,
   "id": "6aa4d394",
   "metadata": {},
   "outputs": [],
   "source": [
    "def returns_to_scale(K, L, gamma):\n",
    "    y1 = cobb_douglas(K, L)\n",
    "    y2 = cobb_douglas(gamma * K, gamma * L)\n",
    "\n",
    "    y_ratio = y2 / y1\n",
    "\n",
    "    return y_ratio / gamma"
   ]
  },
  {
   "cell_type": "code",
   "execution_count": 12,
   "id": "8afc7cab",
   "metadata": {},
   "outputs": [
    {
     "data": {
      "text/plain": [
       "1.0"
      ]
     },
     "execution_count": 12,
     "metadata": {},
     "output_type": "execute_result"
    }
   ],
   "source": [
    "returns_to_scale(1.0, 0.5, 2.0)"
   ]
  },
  {
   "cell_type": "markdown",
   "id": "f8bd8065",
   "metadata": {},
   "source": [
    "What happens if we try different inputs in our Cobb-Douglas production function?"
   ]
  },
  {
   "cell_type": "code",
   "execution_count": 13,
   "id": "72413160",
   "metadata": {},
   "outputs": [],
   "source": [
    "# Your answers here."
   ]
  },
  {
   "cell_type": "markdown",
   "id": "87143df6",
   "metadata": {},
   "source": [
    "It turns out that with a little bit of algebra, we can check that this will always hold for our Cobb-Douglas example above. To show this, take an arbitrary $K$, $L$ and multiply the inputs by an arbitrary $\\gamma$\n",
    "\n",
    "$$ F(\\gamma K, \\gamma L) = z(\\gamma K)^{\\alpha} (\\gamma L)^{1 - \\alpha} = z\\gamma^{\\alpha} K^{\\alpha} \\gamma^{1 - \\alpha} L^{1 - \\alpha} = \\gamma z K^{\\alpha} L^{1 - \\alpha} = \\gamma F(K, L)$$\n",
    "\n",
    "For an example of a production function that is not CRS, look at a generalization of the Cobb-Douglas production function that has different output elasticities for the 2 inputs.\n",
    "$$ Y = zK^{\\alpha_1}L^{\\alpha_2} $$\n",
    "\n",
    "Note that if $ \\alpha_2 = 1 - \\alpha_1 $, this is our Cobb-Douglas production function."
   ]
  },
  {
   "cell_type": "markdown",
   "id": "5e12b77b",
   "metadata": {},
   "source": [
    "Define a function named `var` that takes a list (call it `x`) and computes the variance. This function should use the mean function that we defined earlier."
   ]
  },
  {
   "cell_type": "code",
   "execution_count": 14,
   "id": "d5f138c6",
   "metadata": {},
   "outputs": [],
   "source": [
    "# Your answers here."
   ]
  },
  {
   "cell_type": "markdown",
   "id": "571c688e",
   "metadata": {},
   "source": [
    "#### Multiple Returns"
   ]
  },
  {
   "cell_type": "markdown",
   "id": "dae7a117",
   "metadata": {},
   "source": [
    "Another valuable element to analyze on production functions is how output changes as we change only one of the inputs. We will call this the **marginal product**. For example, compare the output using $K$, $L$ units of input to that with and $\\epsilon$ units of labor. Then the marginal product of labor (MPL) is defined as :\n",
    "$$ \\frac{F(K, L+\\epsilon) - F(K, L)}{\\epsilon} $$\n",
    "\n",
    "This tells us how much additional output is created relative to the additional input. If the input can be divided into small units, then we can use calculus to take this limit, using the partial derivative of the production function relative to that input. In this case, we define the marginal product of labor (MPL) and marginal product of capital (MPK) as :\n",
    "\n",
    "$$ MPL(K, L) = \\frac{\\partial F(K, L)}{\\partial L} $$\n",
    "\n",
    "$$ MPL(K, L) = \\frac{\\partial F(K, L)}{\\partial K} $$\n",
    "\n",
    "In the Cobb-Douglas example above, this becomes :\n",
    "\n",
    "$$ MPK(K, L) = z \\alpha \\left( \\frac{K}{L} \\right)^{\\alpha - 1} $$\n",
    "\n",
    "$$ MPK(K, L) = z (1 - \\alpha) \\left( \\frac{K}{L} \\right)^{\\alpha} $$\n",
    "\n",
    "Let's test it out with Python. The syntax for a return statement with multiple items is `return item1, item2, ..., itemN`."
   ]
  },
  {
   "cell_type": "code",
   "execution_count": 15,
   "id": "aeaace81",
   "metadata": {},
   "outputs": [],
   "source": [
    "def marginal_products(K, L, epsilon):\n",
    "    mpl = (cobb_douglas(K, L + epsilon) - cobb_douglas(K, L)) / epsilon\n",
    "    mpk = (cobb_douglas(K + epsilon, L) - cobb_douglas(K, L)) / epsilon\n",
    "\n",
    "    return mpl, mpk"
   ]
  },
  {
   "cell_type": "code",
   "execution_count": 16,
   "id": "e2c04c99",
   "metadata": {},
   "outputs": [
    {
     "name": "stdout",
     "output_type": "stream",
     "text": [
      "(0.8421711708284096, 0.20740025904131265)\n"
     ]
    }
   ],
   "source": [
    "tup = marginal_products(1.0, 0.5, 1e-4)\n",
    "print(tup)"
   ]
  },
  {
   "cell_type": "markdown",
   "id": "40ee285b",
   "metadata": {},
   "source": [
    "Instead of using the tuple, these can be directly unpacked to variables."
   ]
  },
  {
   "cell_type": "code",
   "execution_count": 17,
   "id": "7885ba9f",
   "metadata": {},
   "outputs": [
    {
     "name": "stdout",
     "output_type": "stream",
     "text": [
      "mpl = 0.8421711708284096, mpk = 0.20740025904131265\n"
     ]
    }
   ],
   "source": [
    "mpl, mpk = marginal_products(1.0, 0.5, 1e-4)\n",
    "print(f\"mpl = {mpl}, mpk = {mpk}\")"
   ]
  },
  {
   "cell_type": "markdown",
   "id": "036ac4a3",
   "metadata": {},
   "source": [
    "We can use this to calculate the marginal products for different `K`, fixing `L` using a comprehension."
   ]
  },
  {
   "cell_type": "code",
   "execution_count": 18,
   "id": "aa2c55dc",
   "metadata": {},
   "outputs": [
    {
     "data": {
      "text/plain": [
       "[(0.8421711708284096, 0.20740025904131265),\n",
       " (1.058620425367085, 0.13035463304111872),\n",
       " (1.2101811517950534, 0.09934539767386674)]"
      ]
     },
     "execution_count": 18,
     "metadata": {},
     "output_type": "execute_result"
    }
   ],
   "source": [
    "Ks = [1.0, 2.0, 3.0]\n",
    "[marginal_products(K, 0.5, 1e-4) for K in Ks]"
   ]
  },
  {
   "cell_type": "markdown",
   "id": "e34f2e00",
   "metadata": {},
   "source": [
    "#### Documentation"
   ]
  },
  {
   "cell_type": "markdown",
   "id": "ca2f4afa",
   "metadata": {},
   "source": [
    "To provide useful information of function to users, we need to add whta Python programmers call a `docstring` to our functions. This is done by putting a string (not assigned to any variable name) as the first line of the body of the function (after the line with `def`).\n",
    "\n",
    "```python\n",
    "def function_name(inputs):\n",
    "    \"\"\"\n",
    "    docstring\n",
    "    \"\"\"\n",
    "    # operations\n",
    "    return outputs\n",
    "```\n",
    "\n",
    "Let's re-define our `cobb_douglas` function to include a docstring."
   ]
  },
  {
   "cell_type": "code",
   "execution_count": 19,
   "id": "0aa21b7c",
   "metadata": {},
   "outputs": [],
   "source": [
    "def cobb_douglas(K, L):\n",
    "    \"\"\"\n",
    "    Computes the production F(K, L) for a Cobb-Douglas production function\n",
    "    Takes the form F(K, L) = z K^{alpha} L^{1 - alpha}\n",
    "    We restrict z = 1 and alpha = 0.33\n",
    "    \"\"\"\n",
    "    return 1.0 * K**(0.33) * L**(1.0 - 0.33)"
   ]
  },
  {
   "cell_type": "markdown",
   "id": "5269b28f",
   "metadata": {},
   "source": [
    "Now when we have Jupyter evaluate `cobb_douglas?`, our message is displayed (or use the Contextual Help window with Jupyterlab and `Ctrl-I` or `Cmd-I`)."
   ]
  },
  {
   "cell_type": "code",
   "execution_count": 20,
   "id": "9de96213",
   "metadata": {},
   "outputs": [
    {
     "name": "stdout",
     "output_type": "stream",
     "text": [
      "\u001b[0;31mSignature:\u001b[0m \u001b[0mcobb_douglas\u001b[0m\u001b[0;34m(\u001b[0m\u001b[0mK\u001b[0m\u001b[0;34m,\u001b[0m \u001b[0mL\u001b[0m\u001b[0;34m)\u001b[0m\u001b[0;34m\u001b[0m\u001b[0;34m\u001b[0m\u001b[0m\n",
      "\u001b[0;31mDocstring:\u001b[0m\n",
      "Computes the production F(K, L) for a Cobb-Douglas production function\n",
      "Takes the form F(K, L) = z K^{alpha} L^{1 - alpha}\n",
      "We restrict z = 1 and alpha = 0.33\n",
      "\u001b[0;31mFile:\u001b[0m      /var/folders/n5/bkphn15s0kzc1lsr8x64v8y00000gn/T/ipykernel_2009/2876703028.py\n",
      "\u001b[0;31mType:\u001b[0m      function"
     ]
    }
   ],
   "source": [
    "cobb_douglas?"
   ]
  },
  {
   "cell_type": "markdown",
   "id": "442dcafb",
   "metadata": {},
   "source": [
    "We recommend that you always include at least a very simple docstring for nontrivial functions."
   ]
  },
  {
   "cell_type": "markdown",
   "id": "0d843e18",
   "metadata": {},
   "source": [
    " Redefine the returns_to_scale function and add a docstring. Confirm that it works by running the cell containing returns_to_scale? below. Note that you do not need to change the actual code in the function — just copy/paste and add a docstring in the correct line."
   ]
  },
  {
   "cell_type": "code",
   "execution_count": 21,
   "id": "456a1e3b",
   "metadata": {},
   "outputs": [],
   "source": [
    "# Your answers here."
   ]
  },
  {
   "cell_type": "markdown",
   "id": "91eba772",
   "metadata": {},
   "source": [
    "### Positional Arguments and Keyword Arguments"
   ]
  },
  {
   "cell_type": "markdown",
   "id": "b2f4e5bb",
   "metadata": {},
   "source": [
    "Functions can have optional arguments. To accomplish this, these arguments must have a default value by saying `name=default_value` instead of just `name` as we list the arguments."
   ]
  },
  {
   "cell_type": "code",
   "execution_count": 23,
   "id": "d930c314",
   "metadata": {},
   "outputs": [],
   "source": [
    "def cobb_douglas(K, L, alpha=0.33, z=1):\n",
    "    \"\"\"\n",
    "    Computes the production F(K, L) for a Cobb-Douglas production function\n",
    "\n",
    "    Takes the form F(K, L) = z K^{\\alpha} L^{1 - \\alpha}\n",
    "    \"\"\"\n",
    "    return z * K**(alpha) * L**(1.0 - alpha)"
   ]
  },
  {
   "cell_type": "markdown",
   "id": "a5fef88c",
   "metadata": {},
   "source": [
    "We can now call this function by passing in just `K` and `L`."
   ]
  },
  {
   "cell_type": "code",
   "execution_count": 24,
   "id": "536258dd",
   "metadata": {},
   "outputs": [
    {
     "data": {
      "text/plain": [
       "0.6285066872609142"
      ]
     },
     "execution_count": 24,
     "metadata": {},
     "output_type": "execute_result"
    }
   ],
   "source": [
    "cobb_douglas(1.0, 0.5)"
   ]
  },
  {
   "cell_type": "markdown",
   "id": "37d0c985",
   "metadata": {},
   "source": [
    "However, we can also set the other arguments of the function by passing more than just K and L."
   ]
  },
  {
   "cell_type": "code",
   "execution_count": 25,
   "id": "c2cddbdf",
   "metadata": {},
   "outputs": [
    {
     "data": {
      "text/plain": [
       "1.0196485018554098"
      ]
     },
     "execution_count": 25,
     "metadata": {},
     "output_type": "execute_result"
    }
   ],
   "source": [
    "cobb_douglas(1.0, 0.5, 0.35, 1.6)"
   ]
  },
  {
   "cell_type": "markdown",
   "id": "d053e0c2",
   "metadata": {},
   "source": [
    "In the example above, we used `alpha = 0.35, z = 1.6`.\n",
    "\n",
    "We can also refer to function arguments by their name, instead of ontly their position (order). To do this, we would write `func_name(arg=value)` for as many of the arguments as we want."
   ]
  },
  {
   "cell_type": "code",
   "execution_count": 26,
   "id": "0b991a4e",
   "metadata": {},
   "outputs": [
    {
     "data": {
      "text/plain": [
       "0.9427600308913713"
      ]
     },
     "execution_count": 26,
     "metadata": {},
     "output_type": "execute_result"
    }
   ],
   "source": [
    "cobb_douglas(1.0, 0.5, z=1.5)"
   ]
  },
  {
   "cell_type": "markdown",
   "id": "79fcc0a5",
   "metadata": {},
   "source": [
    "Experiment with the `sep` and `end` arguments to the `print` function. These can only be set by name."
   ]
  },
  {
   "cell_type": "code",
   "execution_count": 27,
   "id": "79487861",
   "metadata": {},
   "outputs": [
    {
     "name": "stdout",
     "output_type": "stream",
     "text": [
      "Hello@World."
     ]
    }
   ],
   "source": [
    "print(\"Hello\", \"World\", sep=\"@\", end=\".\")"
   ]
  },
  {
   "cell_type": "markdown",
   "id": "b5d94727",
   "metadata": {},
   "source": [
    "In terms of variable scope, the `z` name within the function is different from any other `z` in the outer space."
   ]
  },
  {
   "cell_type": "code",
   "execution_count": 29,
   "id": "976bd922",
   "metadata": {},
   "outputs": [
    {
     "data": {
      "text/plain": [
       "5"
      ]
     },
     "execution_count": 29,
     "metadata": {},
     "output_type": "execute_result"
    }
   ],
   "source": [
    "x = 5\n",
    "\n",
    "def f(x):\n",
    "    return x\n",
    "\n",
    "f(x) # coincidence it has the same name."
   ]
  },
  {
   "cell_type": "code",
   "execution_count": 30,
   "id": "8e05a645",
   "metadata": {},
   "outputs": [
    {
     "data": {
      "text/plain": [
       "0.9427600308913713"
      ]
     },
     "execution_count": 30,
     "metadata": {},
     "output_type": "execute_result"
    }
   ],
   "source": [
    "z = 1.5\n",
    "cobb_douglas(1.0, 0.5, z=z) # no problem"
   ]
  },
  {
   "cell_type": "markdown",
   "id": "f396f87f",
   "metadata": {},
   "source": [
    "In that example, the `z` on the left hand side of `z = z` refers to the local variable name in the function whereas the `z` on the right hand side refers to the `z` in the outer scope."
   ]
  },
  {
   "cell_type": "markdown",
   "id": "9563648f",
   "metadata": {},
   "source": [
    "### Arbitrary Arguments"
   ]
  },
  {
   "cell_type": "markdown",
   "id": "84962ad1",
   "metadata": {},
   "source": [
    "If you do not know how many arguments that will be passed into your function, add a `*` before the parameter name in the function definition. This way the function will receive a tuple of arguments, and can access the items accordingly:"
   ]
  },
  {
   "cell_type": "code",
   "execution_count": 54,
   "id": "adc0db97",
   "metadata": {},
   "outputs": [
    {
     "name": "stdout",
     "output_type": "stream",
     "text": [
      "The youngest child is Linus\n"
     ]
    }
   ],
   "source": [
    "def my_function(*kids):\n",
    "    print(\"The youngest child is \" + kids[2])\n",
    "\n",
    "my_function(\"Emil\", \"Tobias\", \"Linus\")"
   ]
  },
  {
   "cell_type": "code",
   "execution_count": 55,
   "id": "73feeb91",
   "metadata": {},
   "outputs": [
    {
     "name": "stdout",
     "output_type": "stream",
     "text": [
      "The youngest child is 4\n"
     ]
    }
   ],
   "source": [
    "my_function(*('1', '2', '4'))"
   ]
  },
  {
   "cell_type": "markdown",
   "id": "41d9e3df",
   "metadata": {},
   "source": [
    "f you do not know how many keyword arguments that will be passed into your function, add two asterisk: `**` before the parameter name in the function definition. This way the function will receive a dictionary of arguments, and can access the items accordingly:"
   ]
  },
  {
   "cell_type": "code",
   "execution_count": 56,
   "id": "1df62cd0",
   "metadata": {},
   "outputs": [
    {
     "name": "stdout",
     "output_type": "stream",
     "text": [
      "His last name is Refsnes\n"
     ]
    }
   ],
   "source": [
    "def my_function(**kid):\n",
    "  print(\"His last name is \" + kid[\"lname\"])\n",
    "\n",
    "my_function(fname = \"Tobias\", lname = \"Refsnes\")"
   ]
  },
  {
   "cell_type": "code",
   "execution_count": 59,
   "id": "5d55fb3d",
   "metadata": {},
   "outputs": [
    {
     "name": "stdout",
     "output_type": "stream",
     "text": [
      "His last name is Refsnes\n"
     ]
    }
   ],
   "source": [
    "my_function(**{'fname': 'Tobias', \n",
    "               'lname': 'Refsnes'})"
   ]
  },
  {
   "cell_type": "markdown",
   "id": "1a7a924b",
   "metadata": {},
   "source": [
    "### Positional-Only and Keyword-Only Arguments"
   ]
  },
  {
   "cell_type": "markdown",
   "id": "841758bb",
   "metadata": {},
   "source": [
    "You can specify that a function can have ONLY positional arguments, or ONLY keyword arguments. To specify that a function can have only positional arguments, add `, /` after the arguments:"
   ]
  },
  {
   "cell_type": "code",
   "execution_count": null,
   "id": "bc973436",
   "metadata": {},
   "outputs": [
    {
     "name": "stdout",
     "output_type": "stream",
     "text": [
      "3\n"
     ]
    }
   ],
   "source": [
    "def my_function(x, /):\n",
    "    print(x)\n",
    "\n",
    "my_function(3)"
   ]
  },
  {
   "cell_type": "code",
   "execution_count": null,
   "id": "c61b7d94",
   "metadata": {},
   "outputs": [
    {
     "name": "stdout",
     "output_type": "stream",
     "text": [
      "3\n"
     ]
    }
   ],
   "source": [
    "def my_function(x):\n",
    "    print(x)\n",
    "\n",
    "my_function(x=3)\n"
   ]
  },
  {
   "cell_type": "code",
   "execution_count": 65,
   "id": "e612f543",
   "metadata": {},
   "outputs": [
    {
     "ename": "TypeError",
     "evalue": "my_function() got some positional-only arguments passed as keyword arguments: 'x'",
     "output_type": "error",
     "traceback": [
      "\u001b[0;31m---------------------------------------------------------------------------\u001b[0m",
      "\u001b[0;31mTypeError\u001b[0m                                 Traceback (most recent call last)",
      "Cell \u001b[0;32mIn[65], line 4\u001b[0m\n\u001b[1;32m      1\u001b[0m \u001b[38;5;28;01mdef\u001b[39;00m \u001b[38;5;21mmy_function\u001b[39m(x, \u001b[38;5;241m/\u001b[39m):\n\u001b[1;32m      2\u001b[0m     \u001b[38;5;28mprint\u001b[39m(x)\n\u001b[0;32m----> 4\u001b[0m my_function(x \u001b[38;5;241m=\u001b[39m \u001b[38;5;241m3\u001b[39m)\n",
      "\u001b[0;31mTypeError\u001b[0m: my_function() got some positional-only arguments passed as keyword arguments: 'x'"
     ]
    }
   ],
   "source": [
    "def my_function(x, /):\n",
    "    print(x)\n",
    "\n",
    "my_function(x = 3)"
   ]
  },
  {
   "cell_type": "markdown",
   "id": "73e8a86e",
   "metadata": {},
   "source": [
    "To specify that a function can have only keyword arguments, add `*,` before the arguments:"
   ]
  },
  {
   "cell_type": "code",
   "execution_count": 67,
   "id": "1ac1e228",
   "metadata": {},
   "outputs": [
    {
     "name": "stdout",
     "output_type": "stream",
     "text": [
      "3\n"
     ]
    }
   ],
   "source": [
    "def my_function(*, x):\n",
    "    print(x)\n",
    "\n",
    "my_function(x = 3)"
   ]
  },
  {
   "cell_type": "markdown",
   "id": "e0ba8c2d",
   "metadata": {},
   "source": [
    "Without the `*`, you are allowed to use positional arguments even if the function expects keyword arguments:"
   ]
  },
  {
   "cell_type": "code",
   "execution_count": 68,
   "id": "61107514",
   "metadata": {},
   "outputs": [
    {
     "name": "stdout",
     "output_type": "stream",
     "text": [
      "3\n"
     ]
    }
   ],
   "source": [
    "def my_function(x):\n",
    "    print(x)\n",
    "\n",
    "my_function(3)"
   ]
  },
  {
   "cell_type": "markdown",
   "id": "3355c217",
   "metadata": {},
   "source": [
    "But with the `*`, you will get an error if you try to send a positional argument:"
   ]
  },
  {
   "cell_type": "code",
   "execution_count": 69,
   "id": "e3dceb86",
   "metadata": {},
   "outputs": [
    {
     "ename": "TypeError",
     "evalue": "my_function() takes 0 positional arguments but 1 was given",
     "output_type": "error",
     "traceback": [
      "\u001b[0;31m---------------------------------------------------------------------------\u001b[0m",
      "\u001b[0;31mTypeError\u001b[0m                                 Traceback (most recent call last)",
      "Cell \u001b[0;32mIn[69], line 4\u001b[0m\n\u001b[1;32m      1\u001b[0m \u001b[38;5;28;01mdef\u001b[39;00m \u001b[38;5;21mmy_function\u001b[39m(\u001b[38;5;241m*\u001b[39m, x):\n\u001b[1;32m      2\u001b[0m   \u001b[38;5;28mprint\u001b[39m(x)\n\u001b[0;32m----> 4\u001b[0m my_function(\u001b[38;5;241m3\u001b[39m)\n",
      "\u001b[0;31mTypeError\u001b[0m: my_function() takes 0 positional arguments but 1 was given"
     ]
    }
   ],
   "source": [
    "def my_function(*, x):\n",
    "  print(x)\n",
    "\n",
    "my_function(3)"
   ]
  },
  {
   "cell_type": "markdown",
   "id": "8fb4aca7",
   "metadata": {},
   "source": [
    "You can combine the two argument types in the same function. Any argument before the `/ ,` are positional-only, and any argument after the `*,` are keyword-only."
   ]
  },
  {
   "cell_type": "code",
   "execution_count": 71,
   "id": "a3eeef59",
   "metadata": {},
   "outputs": [
    {
     "name": "stdout",
     "output_type": "stream",
     "text": [
      "26\n"
     ]
    }
   ],
   "source": [
    "def my_function(a, b, /, *, c, d):\n",
    "    print(a + b + c + d)\n",
    "\n",
    "my_function(5, 6, c = 7, d = 8)"
   ]
  },
  {
   "cell_type": "markdown",
   "id": "e583e498",
   "metadata": {},
   "source": [
    "### The `pass` Statement"
   ]
  },
  {
   "cell_type": "markdown",
   "id": "de8946cf",
   "metadata": {},
   "source": [
    "`function` definitions cannot be empty, but if you for some reason have a `function` definition with no content, put in the `pass` statement to avoid getting an error."
   ]
  },
  {
   "cell_type": "code",
   "execution_count": 60,
   "id": "deb0b882",
   "metadata": {},
   "outputs": [],
   "source": [
    "def myfunction():\n",
    "    pass"
   ]
  },
  {
   "cell_type": "markdown",
   "id": "b0949f35",
   "metadata": {},
   "source": [
    "### Aside: Methods"
   ]
  },
  {
   "cell_type": "markdown",
   "id": "a17f0985",
   "metadata": {},
   "source": [
    "As we learned earlier, all variables in Python have a type associated with them. Different types of variables have different functions or opertaions defined for them. When certain functionality is closely tied to the type of an object, it is often implemented as a special kind of function known as a **method**.\n",
    "\n",
    "For now, you only need two things about methods :\n",
    "1. We call them by doing `variable.method_name(other_arguments)` instead of `function_name(variable, other_arguments)`.\n",
    "2. A method is a function, even though we vall it using a different notation."
   ]
  },
  {
   "cell_type": "code",
   "execution_count": 32,
   "id": "69b7165e",
   "metadata": {},
   "outputs": [
    {
     "data": {
      "text/plain": [
       "'THIS IS MY HANDY STRING!'"
      ]
     },
     "execution_count": 32,
     "metadata": {},
     "output_type": "execute_result"
    }
   ],
   "source": [
    "x = \"This is my handy string!\"\n",
    "x.upper()"
   ]
  },
  {
   "cell_type": "code",
   "execution_count": 33,
   "id": "9a475ca4",
   "metadata": {},
   "outputs": [
    {
     "data": {
      "text/plain": [
       "'This Is My Handy String!'"
      ]
     },
     "execution_count": 33,
     "metadata": {},
     "output_type": "execute_result"
    }
   ],
   "source": [
    "x.title()"
   ]
  },
  {
   "cell_type": "markdown",
   "id": "2f7a9ba8",
   "metadata": {},
   "source": [
    "### More on Scope"
   ]
  },
  {
   "cell_type": "markdown",
   "id": "ef89e101",
   "metadata": {},
   "source": [
    "The same concept applies to Python functions, where the arguments are just placeholder names. This is an appealing feature of functions for avoiding coding errors : names of variables within the function are localized and won't clash with those on the outside. Importantly, when Python looks for variables matching a particular name, it begins in the most local scope."
   ]
  },
  {
   "cell_type": "code",
   "execution_count": 34,
   "id": "585b7ec1",
   "metadata": {},
   "outputs": [
    {
     "name": "stdout",
     "output_type": "stream",
     "text": [
      "0.5743491774985174\n",
      "Setting alpha, does the result change?\n",
      "0.5743491774985174\n"
     ]
    }
   ],
   "source": [
    "def cobb_douglas2(K, L, alpha):\n",
    "    z = 1\n",
    "    return z * K**alpha * L**(1 - alpha)\n",
    "\n",
    "print(cobb_douglas2(1.0, 0.5, 0.2))\n",
    "print(\"Setting alpha, does the result change?\")\n",
    "alpha = 0.5\n",
    "print(cobb_douglas2(1.0, 0.5, 0.2))"
   ]
  },
  {
   "cell_type": "markdown",
   "id": "a0a09876",
   "metadata": {},
   "source": [
    "Note that having an alpha in the outer scope does not impact the local one. A crucial element of the above function is that the alpha variable was available in the local scope of the function."
   ]
  },
  {
   "cell_type": "code",
   "execution_count": 35,
   "id": "573309c0",
   "metadata": {},
   "outputs": [
    {
     "name": "stdout",
     "output_type": "stream",
     "text": [
      "alpha = 0.2 gives 0.5743491774985174\n",
      "alpha = 0.3 gives 0.6155722066724582\n"
     ]
    }
   ],
   "source": [
    "def cobb_douglas3(K, L):\n",
    "\n",
    "    z = 1\n",
    "\n",
    "    # there are no local alpha in scope!\n",
    "    return z * K**alpha * L**(1 - alpha)\n",
    "\n",
    "alpha = 0.2 # in the outer scope\n",
    "print(f\"alpha = {alpha} gives {cobb_douglas3(1.0, 0.5)}\")\n",
    "alpha = 0.3\n",
    "print(f\"alpha = {alpha} gives {cobb_douglas3(1.0, 0.5)}\")"
   ]
  },
  {
   "cell_type": "markdown",
   "id": "92c740ff",
   "metadata": {},
   "source": [
    "We have removed the alpha function parameter as well as the local definition of alpha. The intuition of scoping does not apply only for the “global” vs. “function” naming of variables, but also for nesting."
   ]
  },
  {
   "cell_type": "code",
   "execution_count": 36,
   "id": "ee38cefd",
   "metadata": {},
   "outputs": [
    {
     "data": {
      "text/plain": [
       "[0.5743491774985174, 0.6155722066724582, 0.7071067811865476]"
      ]
     },
     "execution_count": 36,
     "metadata": {},
     "output_type": "execute_result"
    }
   ],
   "source": [
    "z = 1\n",
    "def output_given_alpha(alpha):\n",
    "    # Scoping logic:\n",
    "    # 1. local function name doesn't clash with global one\n",
    "    # 2. alpha comes from the function parameter\n",
    "    # 3. z comes from the outer global scope\n",
    "    def cobb_douglas(K, L):\n",
    "        return z * K**alpha * L**(1 - alpha)\n",
    "\n",
    "    # using this function\n",
    "    return cobb_douglas(1.0, 0.5)\n",
    "\n",
    "alpha = 100 # ignored\n",
    "alphas = [0.2, 0.3, 0.5]\n",
    "# comprehension variables also have local scope\n",
    "# and don't clash with the alpha = 100\n",
    "[output_given_alpha(alpha) for alpha in alphas]"
   ]
  },
  {
   "cell_type": "markdown",
   "id": "e549ee32",
   "metadata": {},
   "source": [
    "### Decorators"
   ]
  },
  {
   "cell_type": "markdown",
   "id": "e11e9517",
   "metadata": {},
   "source": [
    "#### Higher-Order Functions"
   ]
  },
  {
   "cell_type": "markdown",
   "id": "6dfa5772",
   "metadata": {},
   "source": [
    "In Python, higher-order functions are functions that take one or more functions as arguments, return a function as a result or do both. Essentially, a higher-order function is a function that operates on other functions. This is a powerful concept in functional programming and is a key component in understanding how decorators work.\n",
    "\n",
    "Key properties of higher-order functions are:\n",
    "- **Taking functions as arguments**: A higher-order function can accept other functions as parameters.\n",
    "- **Returning functions**: A higher-order function can return a new function that can be called later.\n",
    "\n",
    "The example of a higher-order function is"
   ]
  },
  {
   "cell_type": "code",
   "execution_count": null,
   "id": "31e82ffc",
   "metadata": {},
   "outputs": [
    {
     "name": "stdout",
     "output_type": "stream",
     "text": [
      "25\n"
     ]
    }
   ],
   "source": [
    "# A higher-order function that takes another function as an argument\n",
    "def fun(f, x):\n",
    "    return f(x)\n",
    "\n",
    "# A simple function to pass\n",
    "def square(x):\n",
    "    return x * x\n",
    "\n",
    "# Using apply_function to apply the square function\n",
    "res = fun(square, 5)\n",
    "print(res)"
   ]
  },
  {
   "cell_type": "markdown",
   "id": "5ba689bc",
   "metadata": {},
   "source": [
    "In this example, first function `fun` is a higher-order function because it takes another function `f` as an argument and applies it to the value `x`."
   ]
  },
  {
   "cell_type": "markdown",
   "id": "2a4a290f",
   "metadata": {},
   "source": [
    "#### Role in Decorators"
   ]
  },
  {
   "cell_type": "markdown",
   "id": "fef00117",
   "metadata": {},
   "source": [
    "Decorators in Python are a type of higher-order function because they take a function as input, modify it, and return a new function that extends or changes its behavior. Understanding higher-order functions is essential for working with decorators since decorators are essentially functions that return other functions."
   ]
  },
  {
   "cell_type": "markdown",
   "id": "14c48638",
   "metadata": {},
   "source": [
    "#### Introduction to Decorators"
   ]
  },
  {
   "cell_type": "markdown",
   "id": "f92a7321",
   "metadata": {},
   "source": [
    "In Python, decorators are a powerful and flexible way to modify or extend the behavior of functions of methods, without changing their actual code.\n",
    "- A decorator is essentially a function that takes another function as an argument and returns a new function with enhanced functionality.\n",
    "- Decorators are often used in scenarios such as logging, authentication and memorization, allowing us to add additional functionality to existing functions or methods in a clean, reusable way."
   ]
  },
  {
   "cell_type": "code",
   "execution_count": 37,
   "id": "acae9811",
   "metadata": {},
   "outputs": [],
   "source": [
    "# A simple decorator function\n",
    "def decorator(func):\n",
    "  \n",
    "    def wrapper():\n",
    "        print(\"Before calling the function.\")\n",
    "        func()\n",
    "        print(\"After calling the function.\")\n",
    "    return wrapper"
   ]
  },
  {
   "cell_type": "code",
   "execution_count": 38,
   "id": "a8923412",
   "metadata": {},
   "outputs": [
    {
     "name": "stdout",
     "output_type": "stream",
     "text": [
      "Before calling the function.\n",
      "Hello, World!\n",
      "After calling the function.\n"
     ]
    }
   ],
   "source": [
    "# Applying the decorator to a function\n",
    "@decorator\n",
    "def greet():\n",
    "    print(\"Hello, World!\")\n",
    "\n",
    "greet()"
   ]
  },
  {
   "cell_type": "markdown",
   "id": "0abb86fa",
   "metadata": {},
   "source": [
    "Here, the decorator takes the `greet` function as an argument. It returns a new function (wrapper) that first points a message, calls `greet()` and then prints another message.\n",
    "\n",
    "Let's explore decorators in detail. A usual syntax of decorator parameters is as follows:\n",
    "```python\n",
    "def decorator_name(func):\n",
    "\n",
    "    def wrapper(*args, **kwargs):\n",
    "        # Add functionality before the original function call.\n",
    "        results = func(*args, **kwargs)\n",
    "        # Add functionality after the original function call.\n",
    "        return result\n",
    "    \n",
    "    return wrapper\n",
    "\n",
    "@decorator_name\n",
    "def function_to_decorate():\n",
    "    # Original function code\n",
    "    pass\n",
    "```\n",
    "\n",
    "`decorator_name` is the name of the decorator function. `func` represents the function being decorated. When you use a decorator, the decorated function is passed to this parameter. `qrapper` is a nested function inside the decorator. It wraps the original function, adding additional functionality. `*args` collects any positional arguments passed to the decorated function into a tuple. `**kwargs` collects any keyword arguments passed to the decorated function into a dictionary. The wrapper function allows the decorator to handle functions with any number and types of arguments. `@decorator_name` applies the decorator to the `function_to_decorate` function. It is equivalent to writing `function_to_decorate = decorator_name(function_to_decorate)`."
   ]
  },
  {
   "cell_type": "markdown",
   "id": "34d48e8d",
   "metadata": {},
   "source": [
    "#### Chaining Decorators"
   ]
  },
  {
   "cell_type": "markdown",
   "id": "080d6bc7",
   "metadata": {},
   "source": [
    "In simpler terms chaining decorator means decorating a function with multiple decorators. An example code is"
   ]
  },
  {
   "cell_type": "code",
   "execution_count": 50,
   "id": "8347fb19",
   "metadata": {},
   "outputs": [
    {
     "name": "stdout",
     "output_type": "stream",
     "text": [
      "400\n",
      "200\n"
     ]
    }
   ],
   "source": [
    "def decor1(func): \n",
    "    def inner(): \n",
    "        x = func() \n",
    "        return x * x \n",
    "    return inner \n",
    "\n",
    "def decor(func): \n",
    "    def inner(): \n",
    "        x = func() \n",
    "        return 2 * x \n",
    "    return inner \n",
    "\n",
    "@decor1\n",
    "@decor\n",
    "def num(): \n",
    "    return 10\n",
    "\n",
    "@decor\n",
    "@decor1\n",
    "def num2():\n",
    "    return 10\n",
    "\n",
    "print(num()) \n",
    "print(num2())"
   ]
  },
  {
   "cell_type": "markdown",
   "id": "f45e2482",
   "metadata": {},
   "source": [
    "#### Types of Decorators\n",
    "\n",
    "1. Function decorators\n",
    "2. Method decorators\n",
    "3. Class decorators\n",
    "\n",
    "So far, we have only covered *function decorators*. Method decorators and class decorators will be covered in the end of the next section. This includes common built-in decorators such as `@staticmethod`, `@classmethod`, and `@property`."
   ]
  },
  {
   "cell_type": "markdown",
   "id": "e142bd2a",
   "metadata": {},
   "source": [
    "### Functions as First-Class Objects"
   ]
  },
  {
   "cell_type": "markdown",
   "id": "7df4d74c",
   "metadata": {},
   "source": [
    "In Python, functions are **first-class objects**, meaning that they can be treated like any other object, such as integers, strings, or lists. This gives functions a unique level of flexibility and allows them to be passed around and manipulated in ways that are not possible in many other programming languages.\n",
    "\n",
    "What does it mean for functions to be first-class objects?\n",
    "- **Can be assigned to variables**: Functions can be assigned to variables and used just like any other value.\n",
    "- **Can be passed as arguments**: Functions can be passed as arguments to other functions.\n",
    "- **Can be returned from other functions**: Functions can return other functions, which is a key concept in decorators.\n",
    "- **Can be stored in data structures**: Functions can be stored in lists, dictionaries, or other data structures."
   ]
  },
  {
   "cell_type": "code",
   "execution_count": 48,
   "id": "6bf5cbb3",
   "metadata": {},
   "outputs": [
    {
     "name": "stdout",
     "output_type": "stream",
     "text": [
      "Hello, Alice!\n",
      "Hello, Bob!\n",
      "10\n"
     ]
    }
   ],
   "source": [
    "# Assigning a function to a variable\n",
    "def greet(n):\n",
    "    return f\"Hello, {n}!\"\n",
    "\n",
    "say_hi = greet  # Assign the greet function to say_hi\n",
    "print(say_hi(\"Alice\"))  # Output: Hello, Alice!\n",
    "\n",
    "# Passing a function as an argument\n",
    "def apply(f, v):\n",
    "    return f(v)\n",
    "\n",
    "res = apply(say_hi, \"Bob\")\n",
    "print(res)  # Output: Hello, Bob!\n",
    "\n",
    "# Returning a function from another function\n",
    "def make_mult(f):\n",
    "    def mult(x):\n",
    "        return x * f\n",
    "    return mult\n",
    "\n",
    "dbl = make_mult(2)\n",
    "print(dbl(5))  # Output: 10"
   ]
  },
  {
   "cell_type": "markdown",
   "id": "8fe4d51b",
   "metadata": {},
   "source": [
    "The code defines a `greet` function that returns a greeting message. The greet function is assigned to the `say_hi` variable, which is used to print a greeting for \"Alice\". Another function, `apply`, takes a function and a value as arguments, applies the function to the value, and returns the result.\n",
    "`apply` is demonstrated by passing `say_hi` and \"Bob\", printing a greeting for \"Bob\". The make_mult function creates a multiplier function based on a given factor."
   ]
  },
  {
   "cell_type": "markdown",
   "id": "f6c4dd80",
   "metadata": {},
   "source": [
    "#### Role of First-Class Functions in Decorators"
   ]
  },
  {
   "cell_type": "markdown",
   "id": "7de7d92f",
   "metadata": {},
   "source": [
    "Decorators receive the function to be decorated as an argument. This allows the decorator to modify or enhance the function's behavior. Decorators return a new function that wraps the original function. This new function adds additional behavior before or after the original function is called. When a function is decorated, it is assigned to the variable name of the original function. This means the original function is replaced by the decorated (wrapped) function."
   ]
  },
  {
   "cell_type": "markdown",
   "id": "071df04a",
   "metadata": {},
   "source": [
    "### Lambda Functions"
   ]
  },
  {
   "cell_type": "markdown",
   "id": "d0eea083",
   "metadata": {},
   "source": [
    "A lambda function is a small anonymous function. A lambda function can take any number of arguments, but can only have one expression. Basic syntax is written as:\n",
    "```python\n",
    "lambda arguments: expression\n",
    "```"
   ]
  },
  {
   "cell_type": "code",
   "execution_count": 72,
   "id": "7a83fc99",
   "metadata": {},
   "outputs": [
    {
     "name": "stdout",
     "output_type": "stream",
     "text": [
      "15\n"
     ]
    }
   ],
   "source": [
    "x = lambda a : a + 10\n",
    "print(x(5))"
   ]
  },
  {
   "cell_type": "code",
   "execution_count": 73,
   "id": "d0623c02",
   "metadata": {},
   "outputs": [
    {
     "name": "stdout",
     "output_type": "stream",
     "text": [
      "30\n"
     ]
    }
   ],
   "source": [
    "x = lambda a, b : a * b\n",
    "print(x(5, 6))"
   ]
  },
  {
   "cell_type": "code",
   "execution_count": 75,
   "id": "9726a120",
   "metadata": {},
   "outputs": [
    {
     "name": "stdout",
     "output_type": "stream",
     "text": [
      "13\n"
     ]
    }
   ],
   "source": [
    "x = lambda a, b, c : a + b + c\n",
    "print(x(5, 6, 2))"
   ]
  },
  {
   "cell_type": "markdown",
   "id": "565e15bf",
   "metadata": {},
   "source": [
    "#### Why use Lambda Functions?"
   ]
  },
  {
   "cell_type": "markdown",
   "id": "87004b46",
   "metadata": {},
   "source": [
    "The power of lambda is better shown when you use them as an anonymous function inside another function. Say you have a function definition that takes one argument, and that argument will be multiplied with an unknown number:"
   ]
  },
  {
   "cell_type": "code",
   "execution_count": 76,
   "id": "a449af20",
   "metadata": {},
   "outputs": [],
   "source": [
    "def myfunc(n):\n",
    "    return lambda a : a * n"
   ]
  },
  {
   "cell_type": "markdown",
   "id": "5dda0647",
   "metadata": {},
   "source": [
    "Use that function definition to make a function that always doubles the number you send in:"
   ]
  },
  {
   "cell_type": "code",
   "execution_count": 77,
   "id": "42a745af",
   "metadata": {},
   "outputs": [
    {
     "name": "stdout",
     "output_type": "stream",
     "text": [
      "22\n"
     ]
    }
   ],
   "source": [
    "def myfunc(n):\n",
    "  return lambda a : a * n\n",
    "\n",
    "mydoubler = myfunc(2)\n",
    "\n",
    "print(mydoubler(11))"
   ]
  },
  {
   "cell_type": "markdown",
   "id": "cd81224e",
   "metadata": {},
   "source": [
    "Or, use the same function definition to make a function that always triples the number you send in:"
   ]
  },
  {
   "cell_type": "code",
   "execution_count": 78,
   "id": "d72d1903",
   "metadata": {},
   "outputs": [
    {
     "name": "stdout",
     "output_type": "stream",
     "text": [
      "33\n"
     ]
    }
   ],
   "source": [
    "def myfunc(n):\n",
    "  return lambda a : a * n\n",
    "\n",
    "mytripler = myfunc(3)\n",
    "\n",
    "print(mytripler(11))"
   ]
  },
  {
   "cell_type": "markdown",
   "id": "5d46e65a",
   "metadata": {},
   "source": [
    "Or, use the same function definition to make both functions, in the same program:"
   ]
  },
  {
   "cell_type": "code",
   "execution_count": 79,
   "id": "84ab405c",
   "metadata": {},
   "outputs": [
    {
     "name": "stdout",
     "output_type": "stream",
     "text": [
      "22\n",
      "33\n"
     ]
    }
   ],
   "source": [
    "def myfunc(n):\n",
    "  return lambda a : a * n\n",
    "\n",
    "mydoubler = myfunc(2)\n",
    "mytripler = myfunc(3)\n",
    "\n",
    "print(mydoubler(11))\n",
    "print(mytripler(11))"
   ]
  },
  {
   "cell_type": "markdown",
   "id": "681cfc3f",
   "metadata": {},
   "source": [
    "## Object Oriented Programming"
   ]
  },
  {
   "cell_type": "markdown",
   "id": "b14d3bde",
   "metadata": {},
   "source": []
  },
  {
   "cell_type": "markdown",
   "id": "7abc7be0",
   "metadata": {},
   "source": [
    "### Class Decorators"
   ]
  },
  {
   "cell_type": "markdown",
   "id": "6b704bbe",
   "metadata": {},
   "source": [
    "## Exception Handling"
   ]
  },
  {
   "cell_type": "markdown",
   "id": "d9ab4ca2",
   "metadata": {},
   "source": [
    "Python **exception handling** handles errors that occur during the excution of a program. Exception handling allows to respond to the error, instead of crashing the running program. It enables you to catch and manage errors, making your code more robust and user-friendly."
   ]
  },
  {
   "cell_type": "markdown",
   "id": "abaa86ca",
   "metadata": {},
   "source": [
    "### Handling a Simple Exception in Python"
   ]
  },
  {
   "cell_type": "markdown",
   "id": "52e97443",
   "metadata": {},
   "source": [
    "Exception handling helps in preventing crashes due to errors. Here's a basic example demonstrating how to catch an exception and handle it gracefully."
   ]
  },
  {
   "cell_type": "code",
   "execution_count": 39,
   "id": "4c0bb347",
   "metadata": {},
   "outputs": [
    {
     "name": "stdout",
     "output_type": "stream",
     "text": [
      "Can't be divided by zero!\n"
     ]
    }
   ],
   "source": [
    "n = 10\n",
    "try:\n",
    "    res = n / 0 # This will raise a ZeroDivisionError\n",
    "except ZeroDivisionError:\n",
    "    print(\"Can't be divided by zero!\")"
   ]
  },
  {
   "cell_type": "markdown",
   "id": "beb21370",
   "metadata": {},
   "source": [
    "In this example, dividing number by 0 raises a ZeroDivisionError. The try block contains the code that might cause an exception and the except block handles the exception, printing an error message instead of stopping the program."
   ]
  },
  {
   "cell_type": "markdown",
   "id": "5745dea6",
   "metadata": {},
   "source": [
    "### Difference between Exception and Error"
   ]
  },
  {
   "cell_type": "markdown",
   "id": "a62c9868",
   "metadata": {},
   "source": [
    "**Errors** are serious issues that a program should not try to handle. They are usually problems in the code's logic or configuration and need to be fixed by the programmer. Examples include syntax errors and memory errors. **Exceptions** are less severe than errors and can be handled by the program. They occur due to situations like invalid input, missing files or network issues."
   ]
  },
  {
   "cell_type": "code",
   "execution_count": 41,
   "id": "70bd47e2",
   "metadata": {},
   "outputs": [
    {
     "ename": "SyntaxError",
     "evalue": "'(' was never closed (1905640846.py, line 1)",
     "output_type": "error",
     "traceback": [
      "\u001b[0;36m  Cell \u001b[0;32mIn[41], line 1\u001b[0;36m\u001b[0m\n\u001b[0;31m    print(\"Hello world\"  # Missing closing parenthesis\u001b[0m\n\u001b[0m         ^\u001b[0m\n\u001b[0;31mSyntaxError\u001b[0m\u001b[0;31m:\u001b[0m '(' was never closed\n"
     ]
    }
   ],
   "source": [
    "print(\"Hello world\"  # Missing closing parenthesis\n",
    "\n",
    "# ZeroDivisionError (Exception)\n",
    "n = 10\n",
    "res = n / 0"
   ]
  },
  {
   "cell_type": "markdown",
   "id": "601b5c8f",
   "metadata": {},
   "source": [
    "A syntax error is a coding mistake that prevents the code from running. In contrast, an exception like ZeroDivisionError can be managed during the program's execution using exception handling."
   ]
  },
  {
   "cell_type": "markdown",
   "id": "1949d2b2",
   "metadata": {},
   "source": [
    "### Syntax and Usage"
   ]
  },
  {
   "cell_type": "markdown",
   "id": "95d7f6ee",
   "metadata": {},
   "source": [
    "Exception handling in Python is done using the try, except, else and finally blocks. \n",
    "```python\n",
    "try:\n",
    "      # Code that might raise an exception\n",
    "except SomeException:\n",
    "      # Code to handle the exception\n",
    "else:\n",
    "     # Code to run if no exception occurs\n",
    "finally:\n",
    "    # Code to run regardless of whether an exception occurs\n",
    "```\n",
    "\n",
    "- `try` Block: try block lets us test a block of code for errors. Python will \"try\" to execute the code in this block. If an exception occurs, execution will immediately jump to the except block.\n",
    "- `except` Block: except block enables us to handle the error or exception. If the code inside the try block throws an error, Python jumps to the except block and executes it. We can handle specific exceptions or use a general except to catch all exceptions.\n",
    "- `else` Block: else block is optional and if included, must follow all except blocks. The else block runs only if no exceptions are raised in the try block. This is useful for code that should execute if the try block succeeds.\n",
    "- `finally` Block: finally block always runs, regardless of whether an exception occurred or not. It is typically used for cleanup operations (closing files, releasing resources)."
   ]
  },
  {
   "cell_type": "code",
   "execution_count": 42,
   "id": "c9dc357b",
   "metadata": {},
   "outputs": [
    {
     "name": "stdout",
     "output_type": "stream",
     "text": [
      "You can't divide by zero!\n",
      "Execution complete.\n"
     ]
    }
   ],
   "source": [
    "try:\n",
    "    n = 0\n",
    "    res = 100 / n\n",
    "    \n",
    "except ZeroDivisionError:\n",
    "    print(\"You can't divide by zero!\")\n",
    "    \n",
    "except ValueError:\n",
    "    print(\"Enter a valid number!\")\n",
    "    \n",
    "else:\n",
    "    print(\"Result is\", res)\n",
    "    \n",
    "finally:\n",
    "    print(\"Execution complete.\")"
   ]
  },
  {
   "cell_type": "markdown",
   "id": "b4e7e3b9",
   "metadata": {},
   "source": [
    "Here try block asks for user input and tries to divide 100 by the input number. Except blocks handle ZeroDivisionError and ValueError. Else block runs if no exception occurs, diplaying the result. Finally block runs regardless of the outcome, indicating the completion of execution.\n",
    "\n",
    "Please refer [Python Built-in Exceptions](https://www.geeksforgeeks.org/python/built-exceptions-python/) for some common exceptions."
   ]
  },
  {
   "cell_type": "markdown",
   "id": "ca38ab57",
   "metadata": {},
   "source": [
    "### Python Cathing Exceptions"
   ]
  },
  {
   "cell_type": "markdown",
   "id": "2393d9bf",
   "metadata": {},
   "source": [
    "When working with exceptions in Python, we can handle errors more efficiently by specifying the types of exceptions we expect. This can make code both safer and easier to debug.\n",
    "\n",
    "Catching specific exceptions makes code to respond to different exception types differently."
   ]
  },
  {
   "cell_type": "code",
   "execution_count": 43,
   "id": "22bac6de",
   "metadata": {},
   "outputs": [
    {
     "name": "stdout",
     "output_type": "stream",
     "text": [
      "Not Valid!\n"
     ]
    }
   ],
   "source": [
    "try:\n",
    "    x = int(\"str\")  # This will cause ValueError\n",
    "    \n",
    "    #inverse\n",
    "    inv = 1 / x\n",
    "    \n",
    "except ValueError:\n",
    "    print(\"Not Valid!\")\n",
    "    \n",
    "except ZeroDivisionError:\n",
    "    print(\"Zero has no inverse!\")"
   ]
  },
  {
   "cell_type": "markdown",
   "id": "6e8399d7",
   "metadata": {},
   "source": [
    "The ValueError is caught because the string `str` cannot be converted to an integer. If `x` were `0` and conversion successful, the ZeroDivisionError would be caught when attempting to calculate its inverse.\n",
    "\n",
    "We can catch multiple exceptions in a single block if we need to handle them in the same way or we can separate them if different types of exceptions require different handling."
   ]
  },
  {
   "cell_type": "code",
   "execution_count": 44,
   "id": "dfa9dc23",
   "metadata": {},
   "outputs": [
    {
     "name": "stdout",
     "output_type": "stream",
     "text": [
      "Error invalid literal for int() with base 10: 'twenty'\n"
     ]
    }
   ],
   "source": [
    "a = [\"10\", \"twenty\", 30]  # Mixed list of integers and strings\n",
    "try:\n",
    "    total = int(a[0]) + int(a[1])  # 'twenty' cannot be converted to int\n",
    "    \n",
    "except (ValueError, TypeError) as e:\n",
    "    print(\"Error\", e)\n",
    "    \n",
    "except IndexError:\n",
    "    print(\"Index out of range.\")"
   ]
  },
  {
   "cell_type": "markdown",
   "id": "77917aa0",
   "metadata": {},
   "source": [
    "The `ValueError` is caught when trying to convert \"twenty\" to an integer. `TypeError` might occur if the operation was incorrectly applied to non-integer types, but it's not triggered in this specific setup. `IndexError` would be caught if an index outside the range of the list was accessed, but in this scenario, it's under control.\n",
    "\n",
    "Here's a simple calculation that may fail due to various reasons."
   ]
  },
  {
   "cell_type": "code",
   "execution_count": 45,
   "id": "f8de5fc5",
   "metadata": {},
   "outputs": [
    {
     "name": "stdout",
     "output_type": "stream",
     "text": [
      "Something went wrong!\n"
     ]
    }
   ],
   "source": [
    "try:\n",
    "    # Simulate risky calculation: incorrect type operation\n",
    "    res = \"100\" / 20\n",
    "    \n",
    "except ArithmeticError:\n",
    "    print(\"Arithmetic problem.\")\n",
    "    \n",
    "except:\n",
    "    print(\"Something went wrong!\")"
   ]
  },
  {
   "cell_type": "markdown",
   "id": "2770730a",
   "metadata": {},
   "source": [
    "An `ArithmeticError` (more specific like `ZeroDivisionError`) might be caught if this were a number-to-number division error. However, `TypeError` is actually triggered here due to attempting to divide a string by a number. \"Catch-all except\" is used to catch the `TypeError`, demonstrating the risk that the programmer might not realize the actual cause of the error (type mismatch) without more detailed error logging."
   ]
  },
  {
   "cell_type": "markdown",
   "id": "a471ab03",
   "metadata": {},
   "source": [
    "### Raise an Exception"
   ]
  },
  {
   "cell_type": "markdown",
   "id": "e9965536",
   "metadata": {},
   "source": [
    "We raise an exception in Python using the `raise` keyword followed by an instance of the exception class that we want to trigger. We can choose from built-in exceptions or define our own custom exceptions by inheriting from Python's built-in `Exception` class. The basic syntax is\n",
    "```python\n",
    "raise ExceptionType('Error message')\n",
    "```"
   ]
  },
  {
   "cell_type": "code",
   "execution_count": 46,
   "id": "bd1b1995",
   "metadata": {},
   "outputs": [
    {
     "name": "stdout",
     "output_type": "stream",
     "text": [
      "Age cannot be negative.\n"
     ]
    }
   ],
   "source": [
    "def set(age):\n",
    "    if age < 0:\n",
    "        raise ValueError(\"Age cannot be negative.\")\n",
    "    print(f\"Age set to {age}\")\n",
    "\n",
    "try:\n",
    "    set(-5)\n",
    "except ValueError as e:\n",
    "    print(e)"
   ]
  },
  {
   "cell_type": "markdown",
   "id": "0ac6222a",
   "metadata": {},
   "source": [
    "The function set checks if the age is negative. If so, it raises a `ValueError` with a message explaining the issue. This ensures that the age attribute cannot be set to an invalid state, thus maintaining the integrity of the data."
   ]
  },
  {
   "cell_type": "markdown",
   "id": "10fa0d95",
   "metadata": {},
   "source": [
    "### Advantages of Exception Handling"
   ]
  },
  {
   "cell_type": "markdown",
   "id": "da17ba7b",
   "metadata": {},
   "source": [
    "- **Improved program reliability**: By handling exceptions properly, you can prevent your program from crashing or producing incorrect results due to unexpected errors or input.\n",
    "- **Simplified error handling**: Exception handling allows you to separate error handling code from the main program logic, making it easier to read and maintain your code.\n",
    "- **Cleaner code**: With exception handling, you can avoid using complex conditional statements to check for errors, leading to cleaner and more readable code.\n",
    "- **Easier debugging**: When an exception is raised, the Python interpreter prints a traceback that shows the exact location where the exception occurred, making it easier to debug your code."
   ]
  },
  {
   "cell_type": "markdown",
   "id": "5131a631",
   "metadata": {},
   "source": [
    "### Disadvantages of Exception Handling"
   ]
  },
  {
   "cell_type": "markdown",
   "id": "11aa3e52",
   "metadata": {},
   "source": [
    "- **Performance overhead**: Exception handling can be slower than using conditional statements to check for errors, as the interpreter has to perform additional work to catch and handle the exception.\n",
    "- **Increased code complexity**: Exception handling can make your code more complex, especially if you have to handle multiple types of exceptions or implement complex error handling logic.\n",
    "- **Possible security risks**: Improperly handled exceptions can potentially reveal sensitive information or create security vulnerabilities in your code, so it's important to handle exceptions carefully and avoid exposing too much information about your program."
   ]
  }
 ],
 "metadata": {
  "kernelspec": {
   "display_name": "base",
   "language": "python",
   "name": "python3"
  },
  "language_info": {
   "codemirror_mode": {
    "name": "ipython",
    "version": 3
   },
   "file_extension": ".py",
   "mimetype": "text/x-python",
   "name": "python",
   "nbconvert_exporter": "python",
   "pygments_lexer": "ipython3",
   "version": "3.12.7"
  }
 },
 "nbformat": 4,
 "nbformat_minor": 5
}
