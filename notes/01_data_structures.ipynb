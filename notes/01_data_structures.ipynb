{
 "cells": [
  {
   "cell_type": "markdown",
   "id": "87a6c94f",
   "metadata": {},
   "source": [
    "<div class=\"alert alert-block alert-warning\">\n",
    "    <b>Warning:</b> The content of the note may contain copyrighted material. Do not distribute.\n",
    "</div>"
   ]
  },
  {
   "cell_type": "markdown",
   "id": "a03fbbc6",
   "metadata": {},
   "source": [
    "# Data Structures\n",
    "\n",
    "Seho Jeong, Sogang University\n",
    "\n",
    "**References**\n",
    "- **Coleman, Chase, Spencer Lyon, and Jesse Perla. n.d.** \"Introduction to Economic Modeling and Data Science.\" QuantEcon. https://datascience.quantecon.org/.\n",
    "- **Sargent, Thomas J., and John Stachurski. n.d.** \"Python Programming for Economics and Finance.\" QuantEcon. https://python-programming.quantecon.org/intro.html.\n",
    "- **W3 Schools. n.d.** \"Python Numbers.\" W3 School Python Tutorial. https://www.w3schools.com/python/python_numbers.asp.\n",
    "- **W3 Schools. n.d.** \"Python Datetime.\" W3 School Python Tutorial. https://www.w3schools.com/python/python_datetime.asp.\n",
    "\n",
    "In this note, we begin with the basics. We learn about core concepts of programming like variables and data structures. We will become familiar with the core data types built into Python, some standard functions we will frequently use, and learn how to define our own functions. By the end, you should have a solid grasp on core Python concepts, be prepared to study the next notes on programming structures and numerical programming, and feel comfortable handling data."
   ]
  },
  {
   "cell_type": "markdown",
   "id": "8eefb72f",
   "metadata": {},
   "source": [
    "### Contents\n",
    "\n",
    "1. [Basic Programming Concepts](#basic-programming-concepts)\n",
    "2. [Strings](#strings)\n",
    "3. [Numbers, Dates, and Times](#numbers-dates-and-times)\n",
    "4. [Logical Expressions and Operators](#logical-expressions-and-operators)\n",
    "5. [Collections](#collections)\n",
    "6. [Control Flow](#control-flow)"
   ]
  },
  {
   "cell_type": "markdown",
   "id": "fed180d5",
   "metadata": {},
   "source": [
    "## Basic Programming Concepts"
   ]
  },
  {
   "cell_type": "markdown",
   "id": "0e629dbf",
   "metadata": {},
   "source": [
    "In this section, we will learn some basic concepts of programming and where to search for help."
   ]
  },
  {
   "cell_type": "markdown",
   "id": "fdca7539",
   "metadata": {},
   "source": [
    "### Variable Assignment"
   ]
  },
  {
   "cell_type": "markdown",
   "id": "cc232464",
   "metadata": {},
   "source": [
    "The very first thing we will learn is the idea of **variable assignment**. Variable assignment associates a value to a variable. Below, we assign the value 'Hello World' to the variable `x`."
   ]
  },
  {
   "cell_type": "code",
   "execution_count": 2,
   "id": "201bb9cf",
   "metadata": {},
   "outputs": [],
   "source": [
    "x = 'Hello world'"
   ]
  },
  {
   "cell_type": "markdown",
   "id": "f5f2adf0",
   "metadata": {},
   "source": [
    "Once we have assigned a value to a variable, Python will remember this variable as long as the current session of Python is still running.\n",
    "\n",
    "Notice how writing `x` into the prompt below outputs the value 'Hello World'."
   ]
  },
  {
   "cell_type": "code",
   "execution_count": 3,
   "id": "d6447ee6",
   "metadata": {},
   "outputs": [
    {
     "data": {
      "text/plain": [
       "'Hello world'"
      ]
     },
     "execution_count": 3,
     "metadata": {},
     "output_type": "execute_result"
    }
   ],
   "source": [
    "x"
   ]
  },
  {
   "cell_type": "markdown",
   "id": "73d44963",
   "metadata": {},
   "source": [
    "However, Python returns an error if we ask it about variables that have not yet been created."
   ]
  },
  {
   "cell_type": "code",
   "execution_count": 4,
   "id": "6fdaac8c",
   "metadata": {},
   "outputs": [
    {
     "ename": "NameError",
     "evalue": "name 'y' is not defined",
     "output_type": "error",
     "traceback": [
      "\u001b[0;31m---------------------------------------------------------------------------\u001b[0m",
      "\u001b[0;31mNameError\u001b[0m                                 Traceback (most recent call last)",
      "Cell \u001b[0;32mIn[4], line 1\u001b[0m\n\u001b[0;32m----> 1\u001b[0m y\n",
      "\u001b[0;31mNameError\u001b[0m: name 'y' is not defined"
     ]
    }
   ],
   "source": [
    "y"
   ]
  },
  {
   "cell_type": "markdown",
   "id": "dd9bb5c4",
   "metadata": {},
   "source": [
    "It is also useful to understand the order in which operations happen. First, the right side of equal sign is computed. Then, that computed value is stored as the variable to the left of the equal sign. For example, what do you think the value of `z` is after running the code below?"
   ]
  },
  {
   "cell_type": "code",
   "execution_count": null,
   "id": "f0a796e4",
   "metadata": {},
   "outputs": [],
   "source": [
    "z = 3\n",
    "z = z + 4\n",
    "print('z is', z)"
   ]
  },
  {
   "cell_type": "markdown",
   "id": "a277408e",
   "metadata": {},
   "source": [
    "Keep in mind that the variable binds a name to a something stored in memory. The name can even be bound to a value of a completely different type."
   ]
  },
  {
   "cell_type": "code",
   "execution_count": 6,
   "id": "5519b63b",
   "metadata": {},
   "outputs": [
    {
     "name": "stdout",
     "output_type": "stream",
     "text": [
      "2 <class 'int'> 4375060272\n",
      "something else <class 'str'> 4616643952\n"
     ]
    }
   ],
   "source": [
    "x = 2\n",
    "print(x, type(x), id(x))\n",
    "x = 'something else'\n",
    "print(x, type(x), id(x))"
   ]
  },
  {
   "cell_type": "markdown",
   "id": "81c736a6",
   "metadata": {},
   "source": [
    "We now know that when the variable assignment code is executed, Python creates an object of type `int` in your computer's memory, containing the value and some associated attributes. But what is `x` itself in the code above? In Python, `x` is called a name, and the statement `x = 2` binds the name `x` to the integer object we have just discussed.\n",
    "\n",
    "Under the hood, this process of binding names to objects is implemented as a dictionary &mdash; more about this in a moment.\n",
    "\n",
    "There is no problem binding two or more names to the one object, regardless of what that object is"
   ]
  },
  {
   "cell_type": "code",
   "execution_count": 7,
   "id": "7b284025",
   "metadata": {},
   "outputs": [
    {
     "data": {
      "text/plain": [
       "True"
      ]
     },
     "execution_count": 7,
     "metadata": {},
     "output_type": "execute_result"
    }
   ],
   "source": [
    "a = 31\n",
    "b = a\n",
    "id(a) == id(b)"
   ]
  },
  {
   "cell_type": "markdown",
   "id": "677505b7",
   "metadata": {},
   "source": [
    "In the first step, a `int` object is created, and the name `a` is bound to it. After binding the name `b` to the same object, we can use it anywhere we could use `a`. "
   ]
  },
  {
   "cell_type": "markdown",
   "id": "cbd36dba",
   "metadata": {},
   "source": [
    "### Variable Names"
   ]
  },
  {
   "cell_type": "markdown",
   "id": "a21c95e1",
   "metadata": {},
   "source": [
    "In Python, variable names must adhere to specific rules for valid syntax and readability.\n",
    "\n",
    "- Start with a letter or underscore\n",
    "- Contain only alphanumeric characters and underscores (maybe not!)\n",
    "- Case-sensitive\n",
    "- Avoid Python keywords\n",
    "\n",
    "Also there are some recommended practice for readable codes:\n",
    "\n",
    "- Use lowercase with underscores (snake_case) (e.g., `total_price`)\n",
    "- Be descriptive\n",
    "- Constants in uppercase (e.g., `API_KEYS`)"
   ]
  },
  {
   "cell_type": "markdown",
   "id": "a2701d75",
   "metadata": {},
   "source": [
    "#### Other Topics"
   ]
  },
  {
   "cell_type": "markdown",
   "id": "7d94c0c4",
   "metadata": {},
   "source": [
    "### Code Comments"
   ]
  },
  {
   "cell_type": "markdown",
   "id": "6ba811c9",
   "metadata": {},
   "source": [
    "Comments are short notes that you leave for yourself and for others who read your code. They should be used to explain what the code does. A comment is made with the `#`. Python ignores everything in a line that follows a `#`.\n",
    "\n",
    "Let's practice making some comments."
   ]
  },
  {
   "cell_type": "code",
   "execution_count": 8,
   "id": "12ef707c",
   "metadata": {},
   "outputs": [
    {
     "data": {
      "text/plain": [
       "3"
      ]
     },
     "execution_count": 8,
     "metadata": {},
     "output_type": "execute_result"
    }
   ],
   "source": [
    "i = 1 # Assign the value 1 to variable i\n",
    "j = 2 # Assign the value 2 to variable j\n",
    "\n",
    "# We add i and j below this line.\n",
    "i + j"
   ]
  },
  {
   "cell_type": "markdown",
   "id": "4686b0e1",
   "metadata": {},
   "source": [
    "### Built-In Functions"
   ]
  },
  {
   "cell_type": "markdown",
   "id": "2374552e",
   "metadata": {},
   "source": [
    "Functions are processes that take an input(s) and produce an output. If we had a function called `f` that took two arguments `x` and `y`, we would write `f(x, y)` to use the function. For example, the function `print` simply prints whatever it is given. recall the variable we created called `x`."
   ]
  },
  {
   "cell_type": "code",
   "execution_count": 9,
   "id": "0b73d5c9",
   "metadata": {},
   "outputs": [
    {
     "name": "stdout",
     "output_type": "stream",
     "text": [
      "something else\n"
     ]
    }
   ],
   "source": [
    "print(x)"
   ]
  },
  {
   "cell_type": "markdown",
   "id": "038122a5",
   "metadata": {},
   "source": [
    "### Getting Help"
   ]
  },
  {
   "cell_type": "markdown",
   "id": "949be4b2",
   "metadata": {},
   "source": [
    "We can figure out what a function does by asking for help. In Jupyter notebooks, this is done by placing a `?` after the function name (without paranthesis) and evaluating the cell. For example, we can ask for help on the `print()` function by writing `print?`."
   ]
  },
  {
   "cell_type": "code",
   "execution_count": 10,
   "id": "eb4bd168",
   "metadata": {},
   "outputs": [
    {
     "name": "stdout",
     "output_type": "stream",
     "text": [
      "\u001b[0;31mSignature:\u001b[0m \u001b[0mprint\u001b[0m\u001b[0;34m(\u001b[0m\u001b[0;34m*\u001b[0m\u001b[0margs\u001b[0m\u001b[0;34m,\u001b[0m \u001b[0msep\u001b[0m\u001b[0;34m=\u001b[0m\u001b[0;34m' '\u001b[0m\u001b[0;34m,\u001b[0m \u001b[0mend\u001b[0m\u001b[0;34m=\u001b[0m\u001b[0;34m'\\n'\u001b[0m\u001b[0;34m,\u001b[0m \u001b[0mfile\u001b[0m\u001b[0;34m=\u001b[0m\u001b[0;32mNone\u001b[0m\u001b[0;34m,\u001b[0m \u001b[0mflush\u001b[0m\u001b[0;34m=\u001b[0m\u001b[0;32mFalse\u001b[0m\u001b[0;34m)\u001b[0m\u001b[0;34m\u001b[0m\u001b[0;34m\u001b[0m\u001b[0m\n",
      "\u001b[0;31mDocstring:\u001b[0m\n",
      "Prints the values to a stream, or to sys.stdout by default.\n",
      "\n",
      "sep\n",
      "  string inserted between values, default a space.\n",
      "end\n",
      "  string appended after the last value, default a newline.\n",
      "file\n",
      "  a file-like object (stream); defaults to the current sys.stdout.\n",
      "flush\n",
      "  whether to forcibly flush the stream.\n",
      "\u001b[0;31mType:\u001b[0m      builtin_function_or_method"
     ]
    }
   ],
   "source": [
    "print?"
   ]
  },
  {
   "cell_type": "markdown",
   "id": "4dbe982d",
   "metadata": {},
   "source": [
    "Now, practice by yourself. Read about what the `len` function does (by writing `len?`). What will it produce if we give it the variable `x`? Check whether you were right by running the code `len(x)`."
   ]
  },
  {
   "cell_type": "code",
   "execution_count": 18,
   "id": "7d8333ce",
   "metadata": {},
   "outputs": [],
   "source": [
    "# Your answers here!"
   ]
  },
  {
   "cell_type": "markdown",
   "id": "ed8ee97f",
   "metadata": {},
   "source": [
    "### Objects and Types"
   ]
  },
  {
   "cell_type": "markdown",
   "id": "71a367b8",
   "metadata": {},
   "source": [
    "#### Objects"
   ]
  },
  {
   "cell_type": "markdown",
   "id": "9b73efd8",
   "metadata": {},
   "source": [
    "Everything in Python is an **object**. Objects are things that contain (1) data and (2) functions that can operate on the data. Sometimes we refer to the functions inside an object as **methods**. We can investigate what data is inside an object and which methods it supports by typing after `.` after that particular variable, then hitting `TAB`. You can scroll down this list by using the up and down arrows. We often refer to this as \"tab completion\" or \"introspection\"."
   ]
  },
  {
   "cell_type": "markdown",
   "id": "f73254cd",
   "metadata": {},
   "source": [
    "#### Types"
   ]
  },
  {
   "cell_type": "markdown",
   "id": "9baecb68",
   "metadata": {},
   "source": [
    "We often want to identify what kind of object some value is– called its “type”. A **type** is an abstraction which defines a set of behavior for any “instance” of that type ,i.e., `2.0` and `3.0` are instances of float, where float has a set of particular common behaviors.\n",
    "\n",
    "In particular, the type determines:\n",
    "- the available data for any “instance” of the type (where each instance may have different values of the data).\n",
    "- the methods that can be applied on the object and its data.\n",
    "\n",
    "We can figure this out by using the `type()` function. The `type()` function takes a single argument and outputs the type of that argument.\n",
    "\n"
   ]
  },
  {
   "cell_type": "code",
   "execution_count": 13,
   "id": "d3a402d3",
   "metadata": {},
   "outputs": [
    {
     "data": {
      "text/plain": [
       "int"
      ]
     },
     "execution_count": 13,
     "metadata": {},
     "output_type": "execute_result"
    }
   ],
   "source": [
    "type(3)"
   ]
  },
  {
   "cell_type": "code",
   "execution_count": 14,
   "id": "0852f126",
   "metadata": {},
   "outputs": [
    {
     "data": {
      "text/plain": [
       "str"
      ]
     },
     "execution_count": 14,
     "metadata": {},
     "output_type": "execute_result"
    }
   ],
   "source": [
    "type('Hello World')"
   ]
  },
  {
   "cell_type": "code",
   "execution_count": 15,
   "id": "32fb1f65",
   "metadata": {},
   "outputs": [
    {
     "data": {
      "text/plain": [
       "list"
      ]
     },
     "execution_count": 15,
     "metadata": {},
     "output_type": "execute_result"
    }
   ],
   "source": [
    "type([1, 2, 3])"
   ]
  },
  {
   "cell_type": "markdown",
   "id": "90799a0e",
   "metadata": {},
   "source": [
    "We will learn more about each of types (and others!) and how to use them soon, so stay tuned!"
   ]
  },
  {
   "cell_type": "markdown",
   "id": "fef22030",
   "metadata": {},
   "source": [
    "### Modules"
   ]
  },
  {
   "cell_type": "markdown",
   "id": "730fa3dd",
   "metadata": {},
   "source": [
    "Python takes a **modular approach** to tools. By this we mean that sets of related tools are bundled together into *packages*. (You may also hear the term modules to describe the same thing.)\n",
    "\n",
    "For example:\n",
    "- `pandas` is a package that implements the tools necessary to do scalable data analysis.\n",
    "- `matplotlib` is a package that implements visualization tools.\n",
    "- `requests` and `urllib` are packages that allow Python to interface with the internet.\n",
    "\n",
    "As we move further into the class, being able to access these packages will become very important. We can bring a package’s functionality into our current Python session by writing\n",
    "\n",
    "\n",
    "```python\n",
    "import package\n",
    "```\n",
    "\n",
    "Once we have done this, any function or object from that package can be accessed by using `package.name`. Here’s an example."
   ]
  },
  {
   "cell_type": "code",
   "execution_count": 17,
   "id": "29a1da2c",
   "metadata": {},
   "outputs": [
    {
     "data": {
      "text/plain": [
       "'3.12.7 | packaged by Anaconda, Inc. | (main, Oct  4 2024, 08:22:19) [Clang 14.0.6 ]'"
      ]
     },
     "execution_count": 17,
     "metadata": {},
     "output_type": "execute_result"
    }
   ],
   "source": [
    "import sys  # for dealing with your computer's system\n",
    "sys.version # information about the Python version in use"
   ]
  },
  {
   "cell_type": "markdown",
   "id": "786fc198",
   "metadata": {},
   "source": [
    "We can use our introspection skills to investigate a package's contents. In the cell below, use the tab completion to find a function from the `time` module that will display the local time. Use `time.FUNC_NAME?` (where `FUNC_NAME` is replaced with the function you found) to see information about that function and then call the function. (*Hint.* Look for something to do with the word `local`.)"
   ]
  },
  {
   "cell_type": "code",
   "execution_count": 19,
   "id": "24cda24c",
   "metadata": {},
   "outputs": [],
   "source": [
    "import time\n",
    "# Your answers here!"
   ]
  },
  {
   "cell_type": "markdown",
   "id": "fcf81da9",
   "metadata": {},
   "source": [
    "#### Module Aliases"
   ]
  },
  {
   "cell_type": "markdown",
   "id": "e276ab65",
   "metadata": {},
   "source": [
    "Some packages have long names (see `matplotlib`, for example) which makes accessing the package functionality somewhat inconvenient. To ease this burden, Python allows us to give aliases or “nicknames” to packages.\n",
    "\n",
    "For example we can write:\n",
    "```python\n",
    "import package as p\n",
    "```\n",
    "\n",
    "This statement allows us to access the packages functionality as `p.function_name` rather than `package.function_name`. Some common aliases for packages are\n",
    "- `import pandas as pd`\n",
    "- `import numpy as np`\n",
    "- `import matplotlib as mpl`\n",
    "- `import datetime as dt`\n",
    "\n",
    "While you can choose any name for an alias, we suggest that you stick to the common ones. You will learn what these common ones are over time.\n",
    "\n"
   ]
  },
  {
   "cell_type": "markdown",
   "id": "63cd8019",
   "metadata": {},
   "source": [
    "Try running `import time as t` in the cell below, then see if you can call the function you identified above. Does it work?"
   ]
  },
  {
   "cell_type": "code",
   "execution_count": null,
   "id": "46c985d0",
   "metadata": {},
   "outputs": [],
   "source": [
    "import time as t"
   ]
  },
  {
   "cell_type": "markdown",
   "id": "0e5c0b32",
   "metadata": {},
   "source": [
    "### Good Code Habits"
   ]
  },
  {
   "cell_type": "markdown",
   "id": "f933859c",
   "metadata": {},
   "source": [
    "A common saying in the software engineering world is:\n",
    "\n",
    "> Always code as if the guy who ends up maintaining your code will be a violent psychopath who knows where you live. **Code for readability.**\n",
    "\n",
    "This might be a dramatic take, but the most important feature of your code after correctness is readability. We encourage you to do everything in your power to make your code as readable as possible. Here are some suggestions for how to do so:\n",
    "\n",
    "- Comment frequently. Leaving short notes not only will help others who use your code, but will also help you interpret your code after some time has passed.\n",
    "- Anytime you use a comma, place a space immediately afterwards.\n",
    "- Whitespace is your friend. Don’t write line after line of code – use blank lines to break it up.\n",
    "- Don’t let your lines run too long. Some people reading your code will be on a laptop, so you want to ensure that they don’t need to scroll horizontally and right to read your code. We recommend no more than 80 characters per line."
   ]
  },
  {
   "cell_type": "markdown",
   "id": "a2fc10cc",
   "metadata": {},
   "source": [
    "## Numbers, Dates, and Times"
   ]
  },
  {
   "cell_type": "markdown",
   "id": "7f556fba",
   "metadata": {},
   "source": [
    "### Integers, Floating Point Numbers, Complex Numbers"
   ]
  },
  {
   "cell_type": "markdown",
   "id": "71967755",
   "metadata": {},
   "source": [
    "Python has two types of numbers.\n",
    "\n",
    "- Integer (`int`): These can only take the values of the integers i.e. $\\{\\cdots, -2, -1, 0, 1, 2, \\cdots\\}$\n",
    "- Floating Point Number (float): Think of these as any real number such as $1.0$, $3.1415$, or $-100.022358\\cdots$.\n",
    "\n",
    "The easiest way to differentiate these types of numbers is to find a decimal place after the number. A float will have a decimal place, but an integer will not.\n",
    "\n",
    "Below, we assign integers to the variables `xi` and `zi` and assign floating point numbers to the variables `xf` and `zf`."
   ]
  },
  {
   "cell_type": "code",
   "execution_count": 63,
   "id": "12f2add8",
   "metadata": {},
   "outputs": [],
   "source": [
    "xi = 1\n",
    "xf = 1.0\n",
    "zi = 123\n",
    "zf = 1230.5    # Notice -- There are no commas!\n",
    "zf2 = 1_230.5  # If needed, we use `_` to separate numbers for readability"
   ]
  },
  {
   "cell_type": "markdown",
   "id": "7b5625c9",
   "metadata": {},
   "source": [
    "Create the following variables:\n",
    "\n",
    "- `D`: A floating point number with the value 10,000\n",
    "- `r`: A floating point number with value 0.025\n",
    "- `T`: An integer with value 30\n",
    "\n",
    "We will use them in a later exercise."
   ]
  },
  {
   "cell_type": "code",
   "execution_count": 64,
   "id": "5e107548",
   "metadata": {},
   "outputs": [],
   "source": [
    "# Your answers here."
   ]
  },
  {
   "cell_type": "markdown",
   "id": "6c32b7c5",
   "metadata": {},
   "source": [
    "### Python as a Calculator"
   ]
  },
  {
   "cell_type": "markdown",
   "id": "da3a9d66",
   "metadata": {},
   "source": [
    "You can use Python to perform mathematical calculations."
   ]
  },
  {
   "cell_type": "code",
   "execution_count": 66,
   "id": "1b78bfea",
   "metadata": {},
   "outputs": [
    {
     "name": "stdout",
     "output_type": "stream",
     "text": [
      "a + b is 6\n",
      "a - b is 2\n",
      "a * b is 8\n",
      "a / b is 2.0\n",
      "a ** b is 16\n",
      "a ^ b is 6\n"
     ]
    }
   ],
   "source": [
    "a = 4\n",
    "b = 2\n",
    "\n",
    "print(\"a + b is\", a + b)\n",
    "print(\"a - b is\", a - b)\n",
    "print(\"a * b is\", a * b)\n",
    "print(\"a / b is\", a / b)\n",
    "print(\"a ** b is\", a ** b)\n",
    "print(\"a ^ b is\", a ^ b)"
   ]
  },
  {
   "cell_type": "markdown",
   "id": "68168ece",
   "metadata": {},
   "source": [
    "You likely could have guessed all except the last two. Note that Python uses `**`, not `^` for exponentation (raising a number to a power)! \n",
    "\n",
    "Notice also that above `+`, `-` and `**` all returned an integer type, but `/` converted the result to a float. When possible, operations between integers return an integer type. \n",
    "\n",
    "All operations involving a float will result in a float."
   ]
  },
  {
   "cell_type": "code",
   "execution_count": 67,
   "id": "38dbc9b0",
   "metadata": {},
   "outputs": [
    {
     "name": "stdout",
     "output_type": "stream",
     "text": [
      "a + b is 6.0\n",
      "a - b is 2.0\n",
      "a * b is 8.0\n",
      "a / b is 2.0\n",
      "a ** b is 16.0\n"
     ]
    }
   ],
   "source": [
    "a = 4\n",
    "b = 2.0\n",
    "\n",
    "print(\"a + b is\", a + b)\n",
    "print(\"a - b is\", a - b)\n",
    "print(\"a * b is\", a * b)\n",
    "print(\"a / b is\", a / b)\n",
    "print(\"a ** b is\", a**b)"
   ]
  },
  {
   "cell_type": "markdown",
   "id": "f2e2746f",
   "metadata": {},
   "source": [
    "We can also chain together operations.\n",
    "\n",
    "When doing this, Python follows the standard order of operations &mdash; parenthesis, exponents, multiplication and division, followed by addition and subtraction.\n",
    "\n",
    "For example,"
   ]
  },
  {
   "cell_type": "code",
   "execution_count": 68,
   "id": "1813fd41",
   "metadata": {},
   "outputs": [],
   "source": [
    "x = 2.0\n",
    "y = 3.0\n",
    "z1 = x + y * x\n",
    "z2 = (x + y) * x"
   ]
  },
  {
   "cell_type": "markdown",
   "id": "5cf8c6c6",
   "metadata": {},
   "source": [
    "What do you think `z1` is? How about `z2`?"
   ]
  },
  {
   "cell_type": "markdown",
   "id": "6b8d9830",
   "metadata": {},
   "source": [
    "Remember the variables we created earlier? Let’s compute the present discounted value of a payment ($D$) made in $T$ years assuming an interest rate of 2.5%. Save this value to a new variable called `PDV` and print your output. \n",
    "\n",
    "The formula is $$\\text{PDV} = \\frac{D}{(1+r)^T}.$$"
   ]
  },
  {
   "cell_type": "code",
   "execution_count": null,
   "id": "3bab3cc7",
   "metadata": {},
   "outputs": [],
   "source": [
    "# Your answers here!"
   ]
  },
  {
   "cell_type": "markdown",
   "id": "9406216e",
   "metadata": {},
   "source": [
    "### Other Math Functions"
   ]
  },
  {
   "cell_type": "markdown",
   "id": "c4a78e25",
   "metadata": {},
   "source": [
    "We often want to use other math functions on our numbers. Let’s try to calculate sin(2.5)."
   ]
  },
  {
   "cell_type": "code",
   "execution_count": 69,
   "id": "5640d765",
   "metadata": {},
   "outputs": [
    {
     "ename": "NameError",
     "evalue": "name 'sin' is not defined",
     "output_type": "error",
     "traceback": [
      "\u001b[0;31m---------------------------------------------------------------------------\u001b[0m",
      "\u001b[0;31mNameError\u001b[0m                                 Traceback (most recent call last)",
      "Cell \u001b[0;32mIn[69], line 1\u001b[0m\n\u001b[0;32m----> 1\u001b[0m sin(\u001b[38;5;241m2.5\u001b[39m)\n",
      "\u001b[0;31mNameError\u001b[0m: name 'sin' is not defined"
     ]
    }
   ],
   "source": [
    "sin(2.5)"
   ]
  },
  {
   "cell_type": "markdown",
   "id": "9917d7e4",
   "metadata": {},
   "source": [
    "As seen above, Python complains that `sin` isn’t defined. The problem here is that the `sin` function &mdash; as well as many other standard math functions &mdash; are contained in the math package.\n",
    "\n",
    "We must begin by importing the `math` package."
   ]
  },
  {
   "cell_type": "code",
   "execution_count": 70,
   "id": "0499fb56",
   "metadata": {},
   "outputs": [],
   "source": [
    "import math"
   ]
  },
  {
   "cell_type": "markdown",
   "id": "3176cf85",
   "metadata": {},
   "source": [
    "Now, we can use `math.[TAB]` to see what functions are available to us."
   ]
  },
  {
   "cell_type": "code",
   "execution_count": 71,
   "id": "492065de",
   "metadata": {},
   "outputs": [
    {
     "data": {
      "text/plain": [
       "0.5984721441039564"
      ]
     },
     "execution_count": 71,
     "metadata": {},
     "output_type": "execute_result"
    }
   ],
   "source": [
    "# Found math.sin()\n",
    "math.sin(2.5)"
   ]
  },
  {
   "cell_type": "markdown",
   "id": "7f698c6f",
   "metadata": {},
   "source": [
    "Use the `math` package to compute the value of $e^3 + 4^e$."
   ]
  },
  {
   "cell_type": "code",
   "execution_count": 75,
   "id": "b2d84837",
   "metadata": {},
   "outputs": [],
   "source": [
    "# Your answers here."
   ]
  },
  {
   "cell_type": "markdown",
   "id": "c5594d7a",
   "metadata": {},
   "source": [
    "Verify the “trick” where the percent difference ($\\frac{x - y}{y}$) between two numbers close to 1 can be well approximated by the difference between the log of the two numbers ($\\log(x) - \\log(y)$).\n",
    "\n",
    "Use the numbers `x` and `y` below."
   ]
  },
  {
   "cell_type": "code",
   "execution_count": 76,
   "id": "39bc5b0b",
   "metadata": {},
   "outputs": [],
   "source": [
    "x = 1.05\n",
    "y = 1.02\n",
    "\n",
    "# Your answers here."
   ]
  },
  {
   "cell_type": "markdown",
   "id": "7db08745",
   "metadata": {},
   "source": [
    "Execute `math.factorial?` to discover what `math.factorial()` does and what argument are needed."
   ]
  },
  {
   "cell_type": "code",
   "execution_count": 77,
   "id": "b90e4f34",
   "metadata": {},
   "outputs": [],
   "source": [
    "# Your answers here."
   ]
  },
  {
   "cell_type": "markdown",
   "id": "bc9fb29a",
   "metadata": {},
   "source": [
    "You can also express infinity with Python."
   ]
  },
  {
   "cell_type": "code",
   "execution_count": 78,
   "id": "12e93fd7",
   "metadata": {},
   "outputs": [
    {
     "data": {
      "text/plain": [
       "inf"
      ]
     },
     "execution_count": 78,
     "metadata": {},
     "output_type": "execute_result"
    }
   ],
   "source": [
    "math.inf"
   ]
  },
  {
   "cell_type": "markdown",
   "id": "71e26ea0",
   "metadata": {},
   "source": [
    "Or you can also express a data numerical although it is not. "
   ]
  },
  {
   "cell_type": "code",
   "execution_count": 79,
   "id": "bbe4bb92",
   "metadata": {},
   "outputs": [
    {
     "data": {
      "text/plain": [
       "nan"
      ]
     },
     "execution_count": 79,
     "metadata": {},
     "output_type": "execute_result"
    }
   ],
   "source": [
    "math.nan"
   ]
  },
  {
   "cell_type": "markdown",
   "id": "8075f34e",
   "metadata": {},
   "source": [
    "### Floor/Modulus Division Operators"
   ]
  },
  {
   "cell_type": "markdown",
   "id": "a994f73a",
   "metadata": {},
   "source": [
    "You are less likely to run into the following operators, but understanding that they exist is useful. For two numbers assigned to the variables `x` and `y`,\n",
    "- Floor division: `x // y`\n",
    "- Modulus division: `x % y`\n",
    "\n",
    "Remember when you first learned how to do division and you were asked to talk about the quotient and the remainder? That’s what these operators correspond to…\n",
    "\n",
    "Floor division returns the number of times the divisor goes into the dividend (the quotient) and modulus division returns the remainder.\n",
    "\n",
    "An example would be 37 divided by 7:\n",
    "- Floor division would return 5 (7 * 5 = 35)\n",
    "- Modulus division would return 2 (2 + 35 = 37)\n",
    "\n",
    "Try it!"
   ]
  },
  {
   "cell_type": "code",
   "execution_count": 73,
   "id": "6d0e53a5",
   "metadata": {},
   "outputs": [
    {
     "data": {
      "text/plain": [
       "5"
      ]
     },
     "execution_count": 73,
     "metadata": {},
     "output_type": "execute_result"
    }
   ],
   "source": [
    "37 // 7"
   ]
  },
  {
   "cell_type": "code",
   "execution_count": 74,
   "id": "f119af56",
   "metadata": {},
   "outputs": [
    {
     "data": {
      "text/plain": [
       "2"
      ]
     },
     "execution_count": 74,
     "metadata": {},
     "output_type": "execute_result"
    }
   ],
   "source": [
    "37 % 7"
   ]
  },
  {
   "cell_type": "markdown",
   "id": "47de0ac3",
   "metadata": {},
   "source": [
    "Predict the results by looking at the following code."
   ]
  },
  {
   "cell_type": "code",
   "execution_count": null,
   "id": "3e49e879",
   "metadata": {},
   "outputs": [],
   "source": [
    "1 / math.inf"
   ]
  },
  {
   "cell_type": "code",
   "execution_count": null,
   "id": "4c17bef5",
   "metadata": {},
   "outputs": [],
   "source": [
    "math.inf * 2"
   ]
  },
  {
   "cell_type": "code",
   "execution_count": null,
   "id": "ef6852ef",
   "metadata": {},
   "outputs": [],
   "source": [
    "math.inf / math.inf"
   ]
  },
  {
   "cell_type": "markdown",
   "id": "eb36220b",
   "metadata": {},
   "source": [
    "### Complex Numbers"
   ]
  },
  {
   "cell_type": "markdown",
   "id": "410093b1",
   "metadata": {},
   "source": [
    "Complex numbers are written with a `j` as the imaginary part."
   ]
  },
  {
   "cell_type": "code",
   "execution_count": 82,
   "id": "6fc15b8d",
   "metadata": {},
   "outputs": [
    {
     "name": "stdout",
     "output_type": "stream",
     "text": [
      "(3+5j) <class 'complex'>\n",
      "5j <class 'complex'>\n",
      "(-0-5j) <class 'complex'>\n"
     ]
    }
   ],
   "source": [
    "x = 3+5j\n",
    "y = 5j\n",
    "z = -5j\n",
    "\n",
    "print(x, type(x))\n",
    "print(y, type(y))\n",
    "print(z, type(z))"
   ]
  },
  {
   "cell_type": "markdown",
   "id": "934cbe57",
   "metadata": {},
   "source": [
    "### Type Conversion"
   ]
  },
  {
   "cell_type": "markdown",
   "id": "e2827720",
   "metadata": {},
   "source": [
    "You can convert from one type to another with the `int()`, `float()`, and `complex()` methods."
   ]
  },
  {
   "cell_type": "code",
   "execution_count": 81,
   "id": "5ca0a422",
   "metadata": {},
   "outputs": [
    {
     "name": "stdout",
     "output_type": "stream",
     "text": [
      "1.0\n",
      "2\n",
      "(1+0j)\n",
      "<class 'float'>\n",
      "<class 'int'>\n",
      "<class 'complex'>\n"
     ]
    }
   ],
   "source": [
    "x = 1    # int\n",
    "y = 2.8  # float\n",
    "z = 1j   # complex\n",
    "\n",
    "# Convert from int to float:\n",
    "a = float(x)\n",
    "\n",
    "# Convert from float to int:\n",
    "b = int(y)\n",
    "\n",
    "# Convert from int to complex:\n",
    "c = complex(x)\n",
    "\n",
    "print(a)\n",
    "print(b)\n",
    "print(c)\n",
    "\n",
    "print(type(a))\n",
    "print(type(b))\n",
    "print(type(c))"
   ]
  },
  {
   "cell_type": "markdown",
   "id": "6ef16488",
   "metadata": {},
   "source": [
    "### Dates and Times"
   ]
  },
  {
   "cell_type": "markdown",
   "id": "ac97a05f",
   "metadata": {},
   "source": [
    "A date in Python is not a data type of its own, but we can import a module named `datetime` to work with dates as date objects.\n",
    "\n",
    "Import the datetime module and display the current date:"
   ]
  },
  {
   "cell_type": "code",
   "execution_count": 80,
   "id": "4da3dea1",
   "metadata": {},
   "outputs": [
    {
     "name": "stdout",
     "output_type": "stream",
     "text": [
      "2025-07-27 23:56:56.769508\n"
     ]
    }
   ],
   "source": [
    "import datetime\n",
    "\n",
    "x = datetime.datetime.now()\n",
    "print(x)"
   ]
  },
  {
   "cell_type": "markdown",
   "id": "6579ee5a",
   "metadata": {},
   "source": [
    "When we execute the code from the example above the result will be: `2025-07-28 00:14:26.151795`. The date contains year, month, day, hour, minute, second, and microsecond.\n",
    "\n",
    "The datetime module has many methods to return information about the date object. Here are a few examples, you will learn more about them later in Day 4. \n",
    "\n",
    "Return the year and name of weekday:"
   ]
  },
  {
   "cell_type": "code",
   "execution_count": 83,
   "id": "16e24699",
   "metadata": {},
   "outputs": [
    {
     "name": "stdout",
     "output_type": "stream",
     "text": [
      "2025\n",
      "Monday\n"
     ]
    }
   ],
   "source": [
    "x = datetime.datetime.now()\n",
    "\n",
    "print(x.year)\n",
    "print(x.strftime(\"%A\"))"
   ]
  },
  {
   "cell_type": "markdown",
   "id": "66e3234c",
   "metadata": {},
   "source": [
    "To create a date, we can use the `datetime()` class (constructor) of the `datetime` module. The `datetime()` class requires three parameters to create a date: year, month, day."
   ]
  },
  {
   "cell_type": "code",
   "execution_count": 84,
   "id": "b7332f12",
   "metadata": {},
   "outputs": [
    {
     "name": "stdout",
     "output_type": "stream",
     "text": [
      "2020-05-17 00:00:00\n"
     ]
    }
   ],
   "source": [
    "x = datetime.datetime(2020, 5, 17)\n",
    "print(x)"
   ]
  },
  {
   "cell_type": "markdown",
   "id": "1be40473",
   "metadata": {},
   "source": [
    "The `datetime()` class also takes parameters for time and timezone (hour, minute, second, microsecond, tzone), but they are optional, and has a default value of `0`, (`None` for timezone)."
   ]
  },
  {
   "cell_type": "markdown",
   "id": "b1783d84",
   "metadata": {},
   "source": [
    "The `datetime` object has a method for formatting date objects into readable strings. The method is called `strftime()`, and takes one parameter, `format`, to specify the format of the returned string:"
   ]
  },
  {
   "cell_type": "code",
   "execution_count": 85,
   "id": "deee6b2b",
   "metadata": {},
   "outputs": [
    {
     "name": "stdout",
     "output_type": "stream",
     "text": [
      "June\n"
     ]
    }
   ],
   "source": [
    "x = datetime.datetime(2018, 6, 1)\n",
    "print(x.strftime(\"%B\"))"
   ]
  },
  {
   "cell_type": "markdown",
   "id": "e957f0b7",
   "metadata": {},
   "source": [
    "## Strings"
   ]
  },
  {
   "cell_type": "markdown",
   "id": "499d67d0",
   "metadata": {},
   "source": [
    "### Generating a String"
   ]
  },
  {
   "cell_type": "markdown",
   "id": "61783e94",
   "metadata": {},
   "source": [
    "**Textual information** is stored in a data type called a **string(문자열)**. To denote that you would like something to be stored as a string, you **place it inside of quotation marks**.For example, you can write\n",
    "```python\n",
    "\"this is a string\"    # Notice the quotation marks\n",
    "'this is a string'    # Notice the quotation marks\n",
    "this is not a string  # No quotation marks\n",
    "```\n",
    "\n",
    "You can use either `\"` or `'` to create a string. Just make sure that you **start and end the string with the same one**! Notice that if we ask Python to tell us the type of a string, it abbreviates its answer to `str`."
   ]
  },
  {
   "cell_type": "code",
   "execution_count": 20,
   "id": "384a3599",
   "metadata": {},
   "outputs": [
    {
     "data": {
      "text/plain": [
       "str"
      ]
     },
     "execution_count": 20,
     "metadata": {},
     "output_type": "execute_result"
    }
   ],
   "source": [
    "type(\"this is a string\")"
   ]
  },
  {
   "cell_type": "markdown",
   "id": "8e32f718",
   "metadata": {},
   "source": [
    "The code below is invalid Python code\n",
    "```python\n",
    "x = 'What's wrong with this string'\n",
    "```\n",
    "How can you fix it?"
   ]
  },
  {
   "cell_type": "code",
   "execution_count": 21,
   "id": "9f771e8a",
   "metadata": {},
   "outputs": [],
   "source": [
    "# Your answers here."
   ]
  },
  {
   "cell_type": "markdown",
   "id": "38eb13e4",
   "metadata": {},
   "source": [
    "### String Operations"
   ]
  },
  {
   "cell_type": "markdown",
   "id": "da113597",
   "metadata": {},
   "source": [
    "Some of arithmetic operators we saw in the numbers section also work on strings:\n",
    "\n",
    "- Put two strings together: `x + y`\n",
    "- Repeat the string `x` a total of `n` times: `n * x` (or `x * n`)"
   ]
  },
  {
   "cell_type": "code",
   "execution_count": 22,
   "id": "94770b28",
   "metadata": {},
   "outputs": [],
   "source": [
    "x = 'Hello'\n",
    "y = 'World'"
   ]
  },
  {
   "cell_type": "code",
   "execution_count": 23,
   "id": "885ca3c9",
   "metadata": {},
   "outputs": [
    {
     "data": {
      "text/plain": [
       "'HelloWorld'"
      ]
     },
     "execution_count": 23,
     "metadata": {},
     "output_type": "execute_result"
    }
   ],
   "source": [
    "x + y"
   ]
  },
  {
   "cell_type": "code",
   "execution_count": 24,
   "id": "70304323",
   "metadata": {},
   "outputs": [
    {
     "data": {
      "text/plain": [
       "'HelloHelloHello'"
      ]
     },
     "execution_count": 24,
     "metadata": {},
     "output_type": "execute_result"
    }
   ],
   "source": [
    "3 * x"
   ]
  },
  {
   "cell_type": "markdown",
   "id": "1cac7b53",
   "metadata": {},
   "source": [
    "What happens if we try `*` with two strings, or `-` or `/`? The best way to find out is to try it!"
   ]
  },
  {
   "cell_type": "code",
   "execution_count": 25,
   "id": "007fa3e0",
   "metadata": {},
   "outputs": [
    {
     "ename": "TypeError",
     "evalue": "can't multiply sequence by non-int of type 'str'",
     "output_type": "error",
     "traceback": [
      "\u001b[0;31m---------------------------------------------------------------------------\u001b[0m",
      "\u001b[0;31mTypeError\u001b[0m                                 Traceback (most recent call last)",
      "Cell \u001b[0;32mIn[25], line 4\u001b[0m\n\u001b[1;32m      1\u001b[0m a \u001b[38;5;241m=\u001b[39m \u001b[38;5;124m'\u001b[39m\u001b[38;5;124m1\u001b[39m\u001b[38;5;124m'\u001b[39m\n\u001b[1;32m      2\u001b[0m b \u001b[38;5;241m=\u001b[39m \u001b[38;5;124m'\u001b[39m\u001b[38;5;124m2\u001b[39m\u001b[38;5;124m'\u001b[39m\n\u001b[0;32m----> 4\u001b[0m a \u001b[38;5;241m*\u001b[39m b\n",
      "\u001b[0;31mTypeError\u001b[0m: can't multiply sequence by non-int of type 'str'"
     ]
    }
   ],
   "source": [
    "a = '1'\n",
    "b = '2'\n",
    "\n",
    "a * b"
   ]
  },
  {
   "cell_type": "code",
   "execution_count": 26,
   "id": "7f5151fd",
   "metadata": {},
   "outputs": [
    {
     "ename": "TypeError",
     "evalue": "unsupported operand type(s) for -: 'str' and 'str'",
     "output_type": "error",
     "traceback": [
      "\u001b[0;31m---------------------------------------------------------------------------\u001b[0m",
      "\u001b[0;31mTypeError\u001b[0m                                 Traceback (most recent call last)",
      "Cell \u001b[0;32mIn[26], line 1\u001b[0m\n\u001b[0;32m----> 1\u001b[0m a \u001b[38;5;241m-\u001b[39m b\n",
      "\u001b[0;31mTypeError\u001b[0m: unsupported operand type(s) for -: 'str' and 'str'"
     ]
    }
   ],
   "source": [
    "a - b"
   ]
  },
  {
   "cell_type": "markdown",
   "id": "79dfd116",
   "metadata": {},
   "source": [
    "Now using the variables `x` and `y`, how could you create the sentence `Hello World`? (*Hint.* Think about how to present space as a string.)"
   ]
  },
  {
   "cell_type": "code",
   "execution_count": 27,
   "id": "5630c916",
   "metadata": {},
   "outputs": [],
   "source": [
    "# Your answers here!"
   ]
  },
  {
   "cell_type": "markdown",
   "id": "91cb25c6",
   "metadata": {},
   "source": [
    "### String Methods"
   ]
  },
  {
   "cell_type": "markdown",
   "id": "540eabec",
   "metadata": {},
   "source": [
    "We can use many methods to manipulate strings. We will not be able to cover all of them here, but let's take a look at some of the most useful ones."
   ]
  },
  {
   "cell_type": "code",
   "execution_count": 28,
   "id": "2c3cdcd2",
   "metadata": {},
   "outputs": [
    {
     "data": {
      "text/plain": [
       "'Hello'"
      ]
     },
     "execution_count": 28,
     "metadata": {},
     "output_type": "execute_result"
    }
   ],
   "source": [
    "x"
   ]
  },
  {
   "cell_type": "code",
   "execution_count": 29,
   "id": "20a98679",
   "metadata": {},
   "outputs": [
    {
     "data": {
      "text/plain": [
       "'hello'"
      ]
     },
     "execution_count": 29,
     "metadata": {},
     "output_type": "execute_result"
    }
   ],
   "source": [
    "x.lower() # Makes all letters lowercase"
   ]
  },
  {
   "cell_type": "code",
   "execution_count": 30,
   "id": "7b58055a",
   "metadata": {},
   "outputs": [
    {
     "data": {
      "text/plain": [
       "'HELLO'"
      ]
     },
     "execution_count": 30,
     "metadata": {},
     "output_type": "execute_result"
    }
   ],
   "source": [
    "x.upper() # Makes all letters uppercase"
   ]
  },
  {
   "cell_type": "code",
   "execution_count": 31,
   "id": "a9d996a7",
   "metadata": {},
   "outputs": [
    {
     "data": {
      "text/plain": [
       "2"
      ]
     },
     "execution_count": 31,
     "metadata": {},
     "output_type": "execute_result"
    }
   ],
   "source": [
    "x.count('l') # Counts number of a particular string"
   ]
  },
  {
   "cell_type": "code",
   "execution_count": 32,
   "id": "fe35b5e9",
   "metadata": {},
   "outputs": [
    {
     "data": {
      "text/plain": [
       "1"
      ]
     },
     "execution_count": 32,
     "metadata": {},
     "output_type": "execute_result"
    }
   ],
   "source": [
    "x.count('ll')"
   ]
  },
  {
   "cell_type": "code",
   "execution_count": 33,
   "id": "6077ea21",
   "metadata": {},
   "outputs": [
    {
     "data": {
      "text/plain": [
       "'Hello'"
      ]
     },
     "execution_count": 33,
     "metadata": {},
     "output_type": "execute_result"
    }
   ],
   "source": [
    "z = ' Hello'\n",
    "z.strip() # Remove leading and trailing whitespace."
   ]
  },
  {
   "cell_type": "markdown",
   "id": "19d5a395",
   "metadata": {},
   "source": [
    "One of our facorite (and most frequently used) string methods is `replace()`. It substitutes all occurrences of a particular pattern with a different pattern. For the variable `test` below, use the `replace` method to change the `c` to a `d`. (*Hint.* Type `test.replace?` to get some help for how to use the method replace.)"
   ]
  },
  {
   "cell_type": "code",
   "execution_count": 34,
   "id": "1694e373",
   "metadata": {},
   "outputs": [],
   "source": [
    "test = 'abc'\n",
    "# Your answers here!"
   ]
  },
  {
   "cell_type": "markdown",
   "id": "cde27181",
   "metadata": {},
   "source": [
    "Suppose you are working with price data and encounter the value `'$6.50'`. We recognize this as being a number representing the quantity \"six dollars and fifty cents\". However, Python interprets the value as the string `'$6.50'`. Here, your task is to convert the variable `price` below into a number."
   ]
  },
  {
   "cell_type": "code",
   "execution_count": 35,
   "id": "256e7f68",
   "metadata": {},
   "outputs": [],
   "source": [
    "price = '$6.50'\n",
    "\n",
    "# Your answers here!"
   ]
  },
  {
   "cell_type": "markdown",
   "id": "fff06e37",
   "metadata": {},
   "source": [
    "### String Formatting"
   ]
  },
  {
   "cell_type": "markdown",
   "id": "55e5f293",
   "metadata": {},
   "source": [
    "Sometimes we’d like to reuse some portion of a string repeatedly, but still make some relatively small changes at each usage. We can do this with **string formatting**, which done by using `{}` as a placeholder where we’d like to change the string, with a variable name or expression.\n",
    "\n",
    "Let’s look at an example."
   ]
  },
  {
   "cell_type": "code",
   "execution_count": 36,
   "id": "a85661dd",
   "metadata": {},
   "outputs": [
    {
     "name": "stdout",
     "output_type": "stream",
     "text": [
      "Vietnam had $223.9 billion GDP in 2017\n"
     ]
    }
   ],
   "source": [
    "country = \"Vietnam\"\n",
    "GDP = 223.9\n",
    "year = 2017\n",
    "my_string = f\"{country} had ${GDP} billion GDP in {year}\"\n",
    "print(my_string)"
   ]
  },
  {
   "cell_type": "markdown",
   "id": "8598c4ee",
   "metadata": {},
   "source": [
    "Rather than just substituting a variable name, you can use a calculation or expression."
   ]
  },
  {
   "cell_type": "code",
   "execution_count": 37,
   "id": "dc801860",
   "metadata": {},
   "outputs": [
    {
     "name": "stdout",
     "output_type": "stream",
     "text": [
      "5**2 = 25\n"
     ]
    }
   ],
   "source": [
    "print(f\"{5}**2 = {5**2}\")"
   ]
  },
  {
   "cell_type": "markdown",
   "id": "b54517ab",
   "metadata": {},
   "source": [
    "Or, using our previous example"
   ]
  },
  {
   "cell_type": "code",
   "execution_count": 38,
   "id": "61f56152",
   "metadata": {},
   "outputs": [
    {
     "name": "stdout",
     "output_type": "stream",
     "text": [
      "Vietnam had $223900000.0 GDP in 2017\n"
     ]
    }
   ],
   "source": [
    "my_string = f\"{country} had ${GDP * 1_000_000} GDP in {year}\"\n",
    "print(my_string)"
   ]
  },
  {
   "cell_type": "markdown",
   "id": "88539889",
   "metadata": {},
   "source": [
    "In these cases, the `f` in front of the string causes Python interpolate any valid expression within the `{}` braces."
   ]
  },
  {
   "cell_type": "markdown",
   "id": "75fd4ee1",
   "metadata": {},
   "source": [
    "Now, lookup a country in [World Bank database](https://data.worldbank.org/), and format a string showing the growth rate of GDP over the last 2 years."
   ]
  },
  {
   "cell_type": "code",
   "execution_count": 39,
   "id": "59e6e5c1",
   "metadata": {},
   "outputs": [],
   "source": [
    "# Your answers here"
   ]
  },
  {
   "cell_type": "markdown",
   "id": "39ca78b8",
   "metadata": {},
   "source": [
    "Alternatively, to reuse a formatted string, you can call the `format` method (noting that you do **not** put f in front)."
   ]
  },
  {
   "cell_type": "code",
   "execution_count": 40,
   "id": "174c5021",
   "metadata": {},
   "outputs": [
    {
     "data": {
      "text/plain": [
       "'Vietnam had $223.9 billion in 2017'"
      ]
     },
     "execution_count": 40,
     "metadata": {},
     "output_type": "execute_result"
    }
   ],
   "source": [
    "gdp_string = \"{country} had ${GDP} billion in {year}\"\n",
    "gdp_string.format(country = \"Vietnam\", GDP = 223.9, year = 2017)"
   ]
  },
  {
   "cell_type": "markdown",
   "id": "e2e1095b",
   "metadata": {},
   "source": [
    "Let's practice! Instead of hard-coding the values above, try to use the `country`, `GDP` and `year` variables you previously defined."
   ]
  },
  {
   "cell_type": "code",
   "execution_count": 41,
   "id": "ca47db8f",
   "metadata": {},
   "outputs": [],
   "source": [
    "# Your answers here."
   ]
  },
  {
   "cell_type": "markdown",
   "id": "c64fc072",
   "metadata": {},
   "source": [
    "Create a new string and **use formatting** to produce each of the following statements\n",
    "- “The 1st quarter revenue was 110M”\n",
    "- “The 2nd quarter revenue was 95M”\n",
    "- “The 3rd quarter revenue was 100M”\n",
    "- “The 4th quarter revenue was 130M”"
   ]
  },
  {
   "cell_type": "code",
   "execution_count": 43,
   "id": "2f680784",
   "metadata": {},
   "outputs": [],
   "source": [
    "# Your answers here."
   ]
  },
  {
   "cell_type": "markdown",
   "id": "4d0571c5",
   "metadata": {},
   "source": [
    "## Logical Expressions and Operators"
   ]
  },
  {
   "cell_type": "markdown",
   "id": "5b6d25bb",
   "metadata": {},
   "source": [
    "### Logical Expressions"
   ]
  },
  {
   "cell_type": "markdown",
   "id": "ba4353b7",
   "metadata": {},
   "source": [
    "A **logical expression** is a statement that can either be **true or false**. For example, 'a < b' is a logical expression. It can be true or false depending on what values of a and b are given.\n",
    "\n",
    "Note that this differs from a **mathematical expression** which denotes a truth statement. In the previous example, the mathematical expression 'a < b' means that a is less than b, and values of a and b where a ≥ b are not permitted.\n",
    "\n",
    "Logical expressions form the basis of computing, so for the purposes of this book, **all statements are assumed to be logical rather than mathematical** unless otherwise indicated."
   ]
  },
  {
   "cell_type": "markdown",
   "id": "343493fb",
   "metadata": {},
   "source": [
    "### Booleans"
   ]
  },
  {
   "cell_type": "markdown",
   "id": "04a5fd76",
   "metadata": {},
   "source": [
    "In Python, a logical expression that is true will compute to the value `True`. A false expression will compute to the value `False`. This is a new data type we come across &mdash; **boolean**, which has the built-in values `True` and `False`.\n",
    "\n",
    "For the purpose of this note, **“True” is equivalent to 1**, and **“False” is equivalent to 0**. Distinguishing between the numbers 1 and 0 and the logical values “True” and “False” is beyond the scope of this book, but it is covered in more advanced books on computing.\n",
    "\n",
    "Logical expressions are used to pose questions to Python.\n",
    "- For example, “3 < 4” is equivalent to, “Is 3 less than 4?”\n",
    "- Since this statement is true, Python will compute it as 1.\n",
    "- However, \"3 > 4\" is false, therefore Python will compute it as 0.\n",
    "\n",
    "Let’s start by creating some booleans and looking at them."
   ]
  },
  {
   "cell_type": "code",
   "execution_count": 44,
   "id": "00737f6e",
   "metadata": {},
   "outputs": [
    {
     "data": {
      "text/plain": [
       "bool"
      ]
     },
     "execution_count": 44,
     "metadata": {},
     "output_type": "execute_result"
    }
   ],
   "source": [
    "x = True\n",
    "y = False\n",
    "\n",
    "type(x)"
   ]
  },
  {
   "cell_type": "code",
   "execution_count": 45,
   "id": "3d2d12ac",
   "metadata": {},
   "outputs": [
    {
     "data": {
      "text/plain": [
       "True"
      ]
     },
     "execution_count": 45,
     "metadata": {},
     "output_type": "execute_result"
    }
   ],
   "source": [
    "x"
   ]
  },
  {
   "cell_type": "code",
   "execution_count": 46,
   "id": "4fb4f082",
   "metadata": {},
   "outputs": [
    {
     "data": {
      "text/plain": [
       "False"
      ]
     },
     "execution_count": 46,
     "metadata": {},
     "output_type": "execute_result"
    }
   ],
   "source": [
    "y"
   ]
  },
  {
   "cell_type": "markdown",
   "id": "4a299e32",
   "metadata": {},
   "source": [
    "### Comparison Operators"
   ]
  },
  {
   "cell_type": "markdown",
   "id": "e497e059",
   "metadata": {},
   "source": [
    "**Comparison operators** compare the value of two numbers, and they are used to build logical expressions. Python reserves the symbols `>`, `>=`, `<`, `<=`, `!=`, `==`, to denote “greater than”, “greater than or equal”, “less than”, “less than or equal”, “not equal”, and “equal”, respectively.\n",
    "\n",
    "Let’s start with an example `a = 4`, `b = 2`, and see the following table:\n",
    "\n",
    "<center>\n",
    "\n",
    "| Operator | Meanings | Example | Output |\n",
    "| --- | --- | --- | --- |\n",
    "| == | equal | `a == b` | `False` |\n",
    "| != | not equal | `a != b` | `True` |\n",
    "| > | greater than | `a > b` | `True` |\n",
    "| >= | greater than or equal | `a >= b` | `True` |\n",
    "| < | less than | `a < b` | `False` |\n",
    "| <= | less than or equal | `a <= b` | `False` |\n",
    "\n",
    "</center>"
   ]
  },
  {
   "cell_type": "markdown",
   "id": "4d1fa117",
   "metadata": {},
   "source": [
    "We demonstrate this as below:"
   ]
  },
  {
   "cell_type": "code",
   "execution_count": 47,
   "id": "568e097d",
   "metadata": {},
   "outputs": [
    {
     "name": "stdout",
     "output_type": "stream",
     "text": [
      "a > b is True\n",
      "a < b is False\n",
      "a == b is False\n",
      "a >= b is True\n",
      "a <= b is False\n"
     ]
    }
   ],
   "source": [
    "a = 4\n",
    "b = 2\n",
    "\n",
    "print(\"a > b\", \"is\", a > b)\n",
    "print(\"a < b\", \"is\", a < b)\n",
    "print(\"a == b\", \"is\", a == b)\n",
    "print(\"a >= b\", \"is\", a >= b)\n",
    "print(\"a <= b\", \"is\", a <= b)"
   ]
  },
  {
   "cell_type": "markdown",
   "id": "c6965bae",
   "metadata": {},
   "source": [
    "### Logical Operators"
   ]
  },
  {
   "cell_type": "markdown",
   "id": "c7053f88",
   "metadata": {},
   "source": [
    "**Logical operators** are operations between two logical expressions that, for the sake of discussion, we call P and Q. The fundamental logical operators we will use herein are **and**, **or**, and **not**.\n",
    "\n",
    "The **truth table** of a logical operator or expression gives the result of every truth combination of P and Q. The truth tables for “and”, “or”, and “not” are given in the following figure.\n",
    "\n",
    "<center>\n",
    "\n",
    "| P | Q | P and Q | P or Q | not P |\n",
    "| --- | --- | --- | --- | --- |\n",
    "| True | True | True | True | False |\n",
    "| True | False | False | True | False |\n",
    "| False | True | False | True | True |\n",
    "| False | False | False | False | True |\n",
    "\n",
    "</center>"
   ]
  },
  {
   "cell_type": "markdown",
   "id": "97553241",
   "metadata": {},
   "source": [
    "Occasionally, **determining whether a statement is “not true” or “not false” is more convenient than simply “true” or “false”***. This is known as **negating** a statement. In Python, we can negate a boolean using the word `not`."
   ]
  },
  {
   "cell_type": "code",
   "execution_count": 48,
   "id": "f1f8619b",
   "metadata": {},
   "outputs": [
    {
     "data": {
      "text/plain": [
       "True"
      ]
     },
     "execution_count": 48,
     "metadata": {},
     "output_type": "execute_result"
    }
   ],
   "source": [
    "not False"
   ]
  },
  {
   "cell_type": "code",
   "execution_count": 49,
   "id": "da1e1dc3",
   "metadata": {},
   "outputs": [
    {
     "data": {
      "text/plain": [
       "False"
      ]
     },
     "execution_count": 49,
     "metadata": {},
     "output_type": "execute_result"
    }
   ],
   "source": [
    "not True"
   ]
  },
  {
   "cell_type": "markdown",
   "id": "9c04e254",
   "metadata": {},
   "source": [
    "#### Multiple Comparisons: Conjunction `and` and Disjunction `or`"
   ]
  },
  {
   "cell_type": "markdown",
   "id": "54cfd941",
   "metadata": {},
   "source": [
    "Sometimes we need to evaluate multiple comparisons at once. This is done by using the words `and` and `or`.\n",
    "\n",
    "However, these are the “mathematical” *and*s and *or*s – so they don’t carry the same meaning as you’d use them in colloquial English.\n",
    "- `a and b` is true only when **both** `a` and `b` are true.\n",
    "- `a or b` is true whenever **at least one** of `a` or `b` is true.\n",
    "\n",
    "For example,\n",
    "- The statement “I will accept the new job if the salary is higher *and* I receive more vacation days” means that you would only accept the new job if you both receive a higher salary and are given more vacation days.\n",
    "- The statement “I will accept the new job if the salary is higher *or* I receive more vacation days” means that you would accept the job if (1) they raised your salary, (2) you are given more vacation days, or (3) they raise your salary and give you more vacation days.\n",
    "\n",
    "Let’s see some examples."
   ]
  },
  {
   "cell_type": "code",
   "execution_count": 50,
   "id": "924c9c9f",
   "metadata": {},
   "outputs": [
    {
     "data": {
      "text/plain": [
       "True"
      ]
     },
     "execution_count": 50,
     "metadata": {},
     "output_type": "execute_result"
    }
   ],
   "source": [
    "True and True"
   ]
  },
  {
   "cell_type": "code",
   "execution_count": 51,
   "id": "58fe5f0f",
   "metadata": {},
   "outputs": [
    {
     "data": {
      "text/plain": [
       "False"
      ]
     },
     "execution_count": 51,
     "metadata": {},
     "output_type": "execute_result"
    }
   ],
   "source": [
    "True and False"
   ]
  },
  {
   "cell_type": "code",
   "execution_count": 52,
   "id": "a8028340",
   "metadata": {},
   "outputs": [
    {
     "data": {
      "text/plain": [
       "True"
      ]
     },
     "execution_count": 52,
     "metadata": {},
     "output_type": "execute_result"
    }
   ],
   "source": [
    "False or True"
   ]
  },
  {
   "cell_type": "code",
   "execution_count": 53,
   "id": "b3958675",
   "metadata": {},
   "outputs": [
    {
     "data": {
      "text/plain": [
       "False"
      ]
     },
     "execution_count": 53,
     "metadata": {},
     "output_type": "execute_result"
    }
   ],
   "source": [
    "False or False"
   ]
  },
  {
   "cell_type": "markdown",
   "id": "5f622d33",
   "metadata": {},
   "source": [
    "Just as with arithmetic operators, logical operators have an **order of operations** relative to each other and in relation to arithmetic operators. **All arithmetic operations will be executed before comparison operations**, which will be **executed before logical operations**. \n",
    "\n",
    "**Parentheses** can be used to change the order of operations."
   ]
  },
  {
   "cell_type": "code",
   "execution_count": 54,
   "id": "89165bf2",
   "metadata": {},
   "outputs": [
    {
     "data": {
      "text/plain": [
       "False"
      ]
     },
     "execution_count": 54,
     "metadata": {},
     "output_type": "execute_result"
    }
   ],
   "source": [
    "1 + 3 > 2 + 5"
   ]
  },
  {
   "cell_type": "markdown",
   "id": "fbd3e166",
   "metadata": {},
   "source": [
    "Even when the order of operations is known, it is usually **helpful for you and those reading your code to use parentheses to make your intentions clearer**. In the preceding example `(1 + 3) > (2 + 5)` is clearer.\n",
    "\n",
    "In Python’s implementation of logic, 1 is used to denote true and 0 for false. However, 1 and 0 are still numbers. Therefore, Python will allow abuses such as: (3 > 2) + (5 > 4), which will resolve to 2."
   ]
  },
  {
   "cell_type": "code",
   "execution_count": 55,
   "id": "d83b1769",
   "metadata": {},
   "outputs": [
    {
     "data": {
      "text/plain": [
       "2"
      ]
     },
     "execution_count": 55,
     "metadata": {},
     "output_type": "execute_result"
    }
   ],
   "source": [
    "(3 > 2) + (5 > 4)"
   ]
  },
  {
   "cell_type": "markdown",
   "id": "be2e90bc",
   "metadata": {},
   "source": [
    "Although in formal logic, 1 is used to denote true and 0 to denote false, Python slightly abuses notation and it will take any number not equal to 0 to mean true when used in a logical operation. For example, 3 and 1 will compute to true.\n",
    "\n",
    "Do not utilize this feature of Python. **Always use 1 to denote a true statement**."
   ]
  },
  {
   "cell_type": "markdown",
   "id": "0307add5",
   "metadata": {},
   "source": [
    "Let's practice now! Without typing the commands, determine whether the following statements are true or false. Once you have evaluated whether the command is `True` or `False`, run the code in Python."
   ]
  },
  {
   "cell_type": "code",
   "execution_count": null,
   "id": "3a6a20ed",
   "metadata": {},
   "outputs": [],
   "source": [
    "x = 2\n",
    "y = 2\n",
    "z = 4\n",
    "\n",
    "# Statement 1\n",
    "x > z\n",
    "\n",
    "# Statement 1\n",
    "x == y\n",
    "\n",
    "# Statement 3\n",
    "(x < y) and (x > y)\n",
    "\n",
    "# Statement 4\n",
    "(x < y) or (x > y)\n",
    "\n",
    "# Statement 5\n",
    "(x <= y) and (x >= y)\n",
    "\n",
    "# Statement 6\n",
    "True and ((x < z) or (x < y))"
   ]
  },
  {
   "cell_type": "markdown",
   "id": "78a1f168",
   "metadata": {},
   "source": [
    "### Quantifiers"
   ]
  },
  {
   "cell_type": "markdown",
   "id": "8f039865",
   "metadata": {},
   "source": [
    "We have seen how we can use the words `and` and `or` to process two booleans at a time. The functions `all` and `any` allow us to process an unlimited number of booleans at once."
   ]
  },
  {
   "cell_type": "markdown",
   "id": "69af33c1",
   "metadata": {},
   "source": [
    "#### Universal Quantifiers"
   ]
  },
  {
   "cell_type": "markdown",
   "id": "f3969938",
   "metadata": {},
   "source": [
    "Let $P_1$, $P_2$, $P_3$, $\\cdots$, $P_n$ be statements where we can determine either it is true or false. Then `all([P_1, P_2, ⋯, P_n])` is equivalent to `P_1 and P_2 and ⋯ and P_n`. That is, `all(bools)` will return `True` if and only if all the booleans in `bools` is `True` and returns `False` otherwise."
   ]
  },
  {
   "cell_type": "code",
   "execution_count": 56,
   "id": "83a2788f",
   "metadata": {},
   "outputs": [
    {
     "data": {
      "text/plain": [
       "True"
      ]
     },
     "execution_count": 56,
     "metadata": {},
     "output_type": "execute_result"
    }
   ],
   "source": [
    "all([True, True, True])"
   ]
  },
  {
   "cell_type": "code",
   "execution_count": 57,
   "id": "98bd5bc8",
   "metadata": {},
   "outputs": [
    {
     "data": {
      "text/plain": [
       "False"
      ]
     },
     "execution_count": 57,
     "metadata": {},
     "output_type": "execute_result"
    }
   ],
   "source": [
    "all([False, True, False])"
   ]
  },
  {
   "cell_type": "code",
   "execution_count": 58,
   "id": "fa9cceba",
   "metadata": {},
   "outputs": [
    {
     "data": {
      "text/plain": [
       "False"
      ]
     },
     "execution_count": 58,
     "metadata": {},
     "output_type": "execute_result"
    }
   ],
   "source": [
    "all([False, False, False])"
   ]
  },
  {
   "cell_type": "markdown",
   "id": "d16d0e85",
   "metadata": {},
   "source": [
    "For now, do not worry about what the `[` and `]` mean – they allow us to create lists which we will learn about in an upcoming lecture."
   ]
  },
  {
   "cell_type": "markdown",
   "id": "1a2f57f6",
   "metadata": {},
   "source": [
    "#### Existential Quantifier"
   ]
  },
  {
   "cell_type": "markdown",
   "id": "c1c50709",
   "metadata": {},
   "source": [
    "Let $P_1, P_2, P_3, \\cdots, P_n$ be statements where we can determine either it is true or false. Then `any([P_1, P_2, ⋯, P_n])` is equivalent to `P_1 or P_2 or P_2 or ⋯ or P_n`. That is, `any(bools)` returns `True` whenever one or more of `bools` is `True`."
   ]
  },
  {
   "cell_type": "code",
   "execution_count": 59,
   "id": "e3ad8ac4",
   "metadata": {},
   "outputs": [
    {
     "data": {
      "text/plain": [
       "True"
      ]
     },
     "execution_count": 59,
     "metadata": {},
     "output_type": "execute_result"
    }
   ],
   "source": [
    "any([True, True, True])"
   ]
  },
  {
   "cell_type": "code",
   "execution_count": 60,
   "id": "391355c8",
   "metadata": {},
   "outputs": [
    {
     "data": {
      "text/plain": [
       "True"
      ]
     },
     "execution_count": 60,
     "metadata": {},
     "output_type": "execute_result"
    }
   ],
   "source": [
    "any([False, True, False])"
   ]
  },
  {
   "cell_type": "code",
   "execution_count": 61,
   "id": "755b3520",
   "metadata": {},
   "outputs": [
    {
     "data": {
      "text/plain": [
       "False"
      ]
     },
     "execution_count": 61,
     "metadata": {},
     "output_type": "execute_result"
    }
   ],
   "source": [
    "any([False, False, False])"
   ]
  },
  {
   "cell_type": "markdown",
   "id": "64627a36",
   "metadata": {},
   "source": [
    "## Collections"
   ]
  },
  {
   "cell_type": "markdown",
   "id": "50e1a19d",
   "metadata": {},
   "source": [
    "### Ordered Collections"
   ]
  },
  {
   "cell_type": "markdown",
   "id": "7692585f",
   "metadata": {},
   "source": [
    "#### Lists"
   ]
  },
  {
   "cell_type": "markdown",
   "id": "27b2d3b9",
   "metadata": {},
   "source": [
    "A Python `list` is an **ordered collection of items**. We can create lists using the following syntax:\n",
    "```python\n",
    "[item1, item2, ⋯, itemN]\n",
    "```\n",
    "Each item can be of any type.\n",
    "\n",
    "Let’s create some lists."
   ]
  },
  {
   "cell_type": "code",
   "execution_count": 86,
   "id": "d594d0cf",
   "metadata": {},
   "outputs": [
    {
     "data": {
      "text/plain": [
       "[2.0, 9.1, 12.5]"
      ]
     },
     "execution_count": 86,
     "metadata": {},
     "output_type": "execute_result"
    }
   ],
   "source": [
    "# created, but not assigned to a variable\n",
    "[2.0, 9.1, 12.5]"
   ]
  },
  {
   "cell_type": "code",
   "execution_count": 87,
   "id": "528f389f",
   "metadata": {},
   "outputs": [
    {
     "name": "stdout",
     "output_type": "stream",
     "text": [
      "x has type <class 'list'>\n"
     ]
    },
    {
     "data": {
      "text/plain": [
       "[2.0, 9.1, 12.5]"
      ]
     },
     "execution_count": 87,
     "metadata": {},
     "output_type": "execute_result"
    }
   ],
   "source": [
    "# stored as the variable `x`\n",
    "x = [2.0, 9.1, 12.5]\n",
    "print('x has type', type(x))\n",
    "x"
   ]
  },
  {
   "cell_type": "markdown",
   "id": "d03c5375",
   "metadata": {},
   "source": [
    "#### What can we do with lists?"
   ]
  },
  {
   "cell_type": "markdown",
   "id": "1d0af523",
   "metadata": {},
   "source": [
    "We can **access items in a list** called `mylist` using `mylist[N]` where `N` is an integer(`int`). Anytime that we use the syntax `x[i]` we are doing what is called **indexing** – it means that we are **selecting a particular element of a collection** `x`."
   ]
  },
  {
   "cell_type": "code",
   "execution_count": 88,
   "id": "31a941b8",
   "metadata": {},
   "outputs": [
    {
     "data": {
      "text/plain": [
       "9.1"
      ]
     },
     "execution_count": 88,
     "metadata": {},
     "output_type": "execute_result"
    }
   ],
   "source": [
    "x[1]"
   ]
  },
  {
   "cell_type": "markdown",
   "id": "1d0e1ce6",
   "metadata": {},
   "source": [
    "Wait? Why did `x[1]` return `9.1` when the first element in x is actually `2.0`? This happened because Python starts counting at zero! Lets repeat that one more time for emphasis **Python starts counting at zero!** \n",
    "\n",
    "To access the first element of x we must use `x[0]`:"
   ]
  },
  {
   "cell_type": "code",
   "execution_count": 89,
   "id": "e4e6c8eb",
   "metadata": {},
   "outputs": [
    {
     "data": {
      "text/plain": [
       "2.0"
      ]
     },
     "execution_count": 89,
     "metadata": {},
     "output_type": "execute_result"
    }
   ],
   "source": [
    "x[0]"
   ]
  },
  {
   "cell_type": "markdown",
   "id": "68c516f8",
   "metadata": {},
   "source": [
    "We can also determine **how many items are in a list** using the `len()` function."
   ]
  },
  {
   "cell_type": "code",
   "execution_count": 90,
   "id": "c417212b",
   "metadata": {},
   "outputs": [
    {
     "data": {
      "text/plain": [
       "3"
      ]
     },
     "execution_count": 90,
     "metadata": {},
     "output_type": "execute_result"
    }
   ],
   "source": [
    "len(x)"
   ]
  },
  {
   "cell_type": "markdown",
   "id": "cb4dc3e3",
   "metadata": {},
   "source": [
    "What happens if we try to index with a number higher than the number of items in a list?"
   ]
  },
  {
   "cell_type": "code",
   "execution_count": 91,
   "id": "3ed92672",
   "metadata": {},
   "outputs": [
    {
     "ename": "IndexError",
     "evalue": "list index out of range",
     "output_type": "error",
     "traceback": [
      "\u001b[0;31m---------------------------------------------------------------------------\u001b[0m",
      "\u001b[0;31mIndexError\u001b[0m                                Traceback (most recent call last)",
      "Cell \u001b[0;32mIn[91], line 1\u001b[0m\n\u001b[0;32m----> 1\u001b[0m x[\u001b[38;5;241m4\u001b[39m]\n",
      "\u001b[0;31mIndexError\u001b[0m: list index out of range"
     ]
    }
   ],
   "source": [
    "x[4]"
   ]
  },
  {
   "cell_type": "markdown",
   "id": "b1b9606a",
   "metadata": {},
   "source": [
    "We can check **if a list contains an element** using the `in` keyword."
   ]
  },
  {
   "cell_type": "code",
   "execution_count": 92,
   "id": "afd4a31a",
   "metadata": {},
   "outputs": [
    {
     "data": {
      "text/plain": [
       "True"
      ]
     },
     "execution_count": 92,
     "metadata": {},
     "output_type": "execute_result"
    }
   ],
   "source": [
    "2.0 in x"
   ]
  },
  {
   "cell_type": "code",
   "execution_count": 93,
   "id": "8ca158ad",
   "metadata": {},
   "outputs": [
    {
     "data": {
      "text/plain": [
       "False"
      ]
     },
     "execution_count": 93,
     "metadata": {},
     "output_type": "execute_result"
    }
   ],
   "source": [
    "1.5 in x"
   ]
  },
  {
   "cell_type": "markdown",
   "id": "e60be635",
   "metadata": {},
   "source": [
    "For our list x, there are other common operations we might want to do."
   ]
  },
  {
   "cell_type": "code",
   "execution_count": 94,
   "id": "45ee58d1",
   "metadata": {},
   "outputs": [
    {
     "data": {
      "text/plain": [
       "[12.5, 9.1, 2.0]"
      ]
     },
     "execution_count": 94,
     "metadata": {},
     "output_type": "execute_result"
    }
   ],
   "source": [
    "x.reverse()\n",
    "x"
   ]
  },
  {
   "cell_type": "code",
   "execution_count": 96,
   "id": "ca2ae421",
   "metadata": {},
   "outputs": [
    {
     "name": "stdout",
     "output_type": "stream",
     "text": [
      "[10, 25, 42, 1.0]\n",
      "[1.0, 10, 25, 42]\n"
     ]
    }
   ],
   "source": [
    "number_list = [10, 25, 42, 1.0]\n",
    "print(number_list)\n",
    "\n",
    "number_list.sort() # Sort elements in ascending or descending manner.\n",
    "print(number_list)"
   ]
  },
  {
   "cell_type": "markdown",
   "id": "57f80cf6",
   "metadata": {},
   "source": [
    "Note that in order to sort, we had to have all elements in our list be numbers (`int` and `float`), more on this below. We could actually do the same with a list of strings. In this case, sort will put the items in alphabetical order."
   ]
  },
  {
   "cell_type": "code",
   "execution_count": 97,
   "id": "befaff04",
   "metadata": {},
   "outputs": [
    {
     "name": "stdout",
     "output_type": "stream",
     "text": [
      "['NY', 'AZ', 'TX']\n",
      "['AZ', 'NY', 'TX']\n"
     ]
    }
   ],
   "source": [
    "str_list = [\"NY\", \"AZ\", \"TX\"]\n",
    "print(str_list)\n",
    "\n",
    "str_list.sort()\n",
    "print(str_list)"
   ]
  },
  {
   "cell_type": "markdown",
   "id": "902ff0ce",
   "metadata": {},
   "source": [
    "The `append` method **adds an element to the end of existing list**."
   ]
  },
  {
   "cell_type": "code",
   "execution_count": 98,
   "id": "70754033",
   "metadata": {},
   "outputs": [
    {
     "name": "stdout",
     "output_type": "stream",
     "text": [
      "[10, 25, 42, 8]\n",
      "[10, 25, 42, 8, 10]\n"
     ]
    }
   ],
   "source": [
    "num_list = [10, 25, 42, 8]\n",
    "print(num_list)\n",
    "\n",
    "num_list.append(10)\n",
    "print(num_list)"
   ]
  },
  {
   "cell_type": "markdown",
   "id": "8e42ef09",
   "metadata": {},
   "source": [
    "However, if you call `append` with a list, it adds a `list` to the end, rather than the numbers in that list."
   ]
  },
  {
   "cell_type": "code",
   "execution_count": 99,
   "id": "ff353933",
   "metadata": {},
   "outputs": [
    {
     "name": "stdout",
     "output_type": "stream",
     "text": [
      "[10, 25, 42, 8]\n",
      "[10, 25, 42, 8, [20, 4]]\n"
     ]
    }
   ],
   "source": [
    "num_list = [10, 25, 42, 8]\n",
    "print(num_list)\n",
    "\n",
    "num_list.append([20, 4]) # 리스트 속 원소가 아닌 리스트 자를 원소로서 추가한다.\n",
    "print(num_list)"
   ]
  },
  {
   "cell_type": "markdown",
   "id": "e288e4d1",
   "metadata": {},
   "source": [
    "To combine the lists instead…"
   ]
  },
  {
   "cell_type": "code",
   "execution_count": 100,
   "id": "461ebb10",
   "metadata": {},
   "outputs": [
    {
     "name": "stdout",
     "output_type": "stream",
     "text": [
      "[10, 25, 42, 8]\n",
      "[10, 25, 42, 8, 20, 4]\n"
     ]
    }
   ],
   "source": [
    "num_list = [10, 25, 42, 8]\n",
    "print(num_list)\n",
    "num_list.extend([20, 4])\n",
    "print(num_list)"
   ]
  },
  {
   "cell_type": "markdown",
   "id": "21b37e6e",
   "metadata": {},
   "source": [
    "Let's practice! In the first cell, try `y.append(z)`.In the second cell try `y.extend(z)`. Explain the behavior."
   ]
  },
  {
   "cell_type": "code",
   "execution_count": 101,
   "id": "f1784681",
   "metadata": {},
   "outputs": [
    {
     "name": "stdout",
     "output_type": "stream",
     "text": [
      "['a', 'b', 'c']\n"
     ]
    }
   ],
   "source": [
    "y = [\"a\", \"b\", \"c\"]\n",
    "z = [1, 2, 3]\n",
    "\n",
    "# Your answers here.\n",
    "\n",
    "print(y)"
   ]
  },
  {
   "cell_type": "code",
   "execution_count": 102,
   "id": "1fb6c965",
   "metadata": {},
   "outputs": [
    {
     "name": "stdout",
     "output_type": "stream",
     "text": [
      "['a', 'b', 'c']\n"
     ]
    }
   ],
   "source": [
    "y = [\"a\", \"b\", \"c\"]\n",
    "z = [1, 2, 3]\n",
    "\n",
    "# Your answers here.\n",
    "\n",
    "print(y)"
   ]
  },
  {
   "cell_type": "markdown",
   "id": "008d69da",
   "metadata": {},
   "source": [
    "#### Lists of Different Types"
   ]
  },
  {
   "cell_type": "markdown",
   "id": "7508de77",
   "metadata": {},
   "source": [
    "While most examples above have all used a `list` with a single type of variable, this is not required. Let’s carefully make a small change to the first example: replace `2.0` with `2`"
   ]
  },
  {
   "cell_type": "code",
   "execution_count": 103,
   "id": "3b10567b",
   "metadata": {},
   "outputs": [],
   "source": [
    "x = [2, 9.1, 12.5]"
   ]
  },
  {
   "cell_type": "markdown",
   "id": "6756510b",
   "metadata": {},
   "source": [
    "This behavior is identical for many operations you might apply to a list. Below we have also introduced a new module, Numpy, which provides many functions for working with numeric data."
   ]
  },
  {
   "cell_type": "code",
   "execution_count": 104,
   "id": "a94505ec",
   "metadata": {},
   "outputs": [
    {
     "data": {
      "text/plain": [
       "True"
      ]
     },
     "execution_count": 104,
     "metadata": {},
     "output_type": "execute_result"
    }
   ],
   "source": [
    "import numpy as np\n",
    "\n",
    "x = [2, 9.1, 12.5]\n",
    "\n",
    "np.mean(x) == sum(x)/len(x)"
   ]
  },
  {
   "cell_type": "markdown",
   "id": "59a6448a",
   "metadata": {},
   "source": [
    "Taking this further, we can **put completely different types of elements** inside of a list."
   ]
  },
  {
   "cell_type": "code",
   "execution_count": 105,
   "id": "268c4782",
   "metadata": {},
   "outputs": [
    {
     "name": "stdout",
     "output_type": "stream",
     "text": [
      "x has type <class 'list'>\n"
     ]
    },
    {
     "data": {
      "text/plain": [
       "[2, 'hello', 3.0]"
      ]
     },
     "execution_count": 105,
     "metadata": {},
     "output_type": "execute_result"
    }
   ],
   "source": [
    "# stored as the variable `x`\n",
    "x = [2, \"hello\", 3.0]\n",
    "print(\"x has type\", type(x))\n",
    "x"
   ]
  },
  {
   "cell_type": "markdown",
   "id": "66609575",
   "metadata": {},
   "source": [
    "To see the types of individual elements in the list:"
   ]
  },
  {
   "cell_type": "code",
   "execution_count": 106,
   "id": "d6a47a33",
   "metadata": {},
   "outputs": [
    {
     "name": "stdout",
     "output_type": "stream",
     "text": [
      "type(x[0]) = <class 'int'>, type(x[1]) = <class 'str'>, type(x[2]) = <class 'float'>\n"
     ]
    }
   ],
   "source": [
    "print(f\"type(x[0]) = {type(x[0])}, type(x[1]) = {type(x[1])}, type(x[2]) = {type(x[2])}\")"
   ]
  },
  {
   "cell_type": "markdown",
   "id": "9319dd26",
   "metadata": {},
   "source": [
    "While no programming limitations prevent this, you should be **careful if you write code with different numeric and non-numeric types in the same list**.\n",
    "- For example, if the types within the list cannot be compared, then how could you sort the elements of the list?\n",
    "- i.e. How do you determine whether the string “hello” is less than the integer 2, “hello” < 2?"
   ]
  },
  {
   "cell_type": "code",
   "execution_count": 107,
   "id": "bf5a2e67",
   "metadata": {},
   "outputs": [
    {
     "ename": "TypeError",
     "evalue": "'<' not supported between instances of 'str' and 'int'",
     "output_type": "error",
     "traceback": [
      "\u001b[0;31m---------------------------------------------------------------------------\u001b[0m",
      "\u001b[0;31mTypeError\u001b[0m                                 Traceback (most recent call last)",
      "Cell \u001b[0;32mIn[107], line 2\u001b[0m\n\u001b[1;32m      1\u001b[0m x \u001b[38;5;241m=\u001b[39m [\u001b[38;5;241m2\u001b[39m, \u001b[38;5;124m\"\u001b[39m\u001b[38;5;124mhello\u001b[39m\u001b[38;5;124m\"\u001b[39m, \u001b[38;5;241m3.0\u001b[39m]\n\u001b[0;32m----> 2\u001b[0m x\u001b[38;5;241m.\u001b[39msort()\n",
      "\u001b[0;31mTypeError\u001b[0m: '<' not supported between instances of 'str' and 'int'"
     ]
    }
   ],
   "source": [
    "x = [2, \"hello\", 3.0]\n",
    "x.sort()"
   ]
  },
  {
   "cell_type": "markdown",
   "id": "ccecb2a3",
   "metadata": {},
   "source": [
    "A few key exceptions to this general rule are:\n",
    "- Lists with **both integers and floating points are less error-prone**(since mathematical code using the list would work with both types).\n",
    "- When working with lists and data, you may want to **represent missing values with a different type than the existing values**."
   ]
  },
  {
   "cell_type": "markdown",
   "id": "56464093",
   "metadata": {},
   "source": [
    "#### The `range` Function"
   ]
  },
  {
   "cell_type": "markdown",
   "id": "c42b2061",
   "metadata": {},
   "source": [
    "One function you will see often in Python is the `range` function.\n",
    "It has three versions:\n",
    "1. `range(N)`: goes from 0 to N-1\n",
    "2. `range(a, N)`: goes from a to N-1\n",
    "3. `range(a, N, d)`: goes from a to N-1, counting by d\n",
    "\n",
    "When we call the `range` function, we get back something that has type `range:"
   ]
  },
  {
   "cell_type": "code",
   "execution_count": 108,
   "id": "7629fd8f",
   "metadata": {},
   "outputs": [
    {
     "name": "stdout",
     "output_type": "stream",
     "text": [
      "type(r) <class 'range'>\n"
     ]
    }
   ],
   "source": [
    "r = range(5)\n",
    "print(\"type(r)\", type(r))"
   ]
  },
  {
   "cell_type": "markdown",
   "id": "499e7114",
   "metadata": {},
   "source": [
    "To turn the range into a list:"
   ]
  },
  {
   "cell_type": "code",
   "execution_count": 109,
   "id": "3baf1a9e",
   "metadata": {},
   "outputs": [
    {
     "data": {
      "text/plain": [
       "[0, 1, 2, 3, 4]"
      ]
     },
     "execution_count": 109,
     "metadata": {},
     "output_type": "execute_result"
    }
   ],
   "source": [
    "list(r)"
   ]
  },
  {
   "cell_type": "code",
   "execution_count": 110,
   "id": "956bdbe2",
   "metadata": {},
   "outputs": [],
   "source": [
    "# try list(range(a, N)) -- you pick `a` and `N`\n"
   ]
  },
  {
   "cell_type": "code",
   "execution_count": 111,
   "id": "ff14ab2b",
   "metadata": {},
   "outputs": [],
   "source": [
    "# try list(range(a, N, d)) -- you pick `a`, `N`, and `d`\n"
   ]
  },
  {
   "cell_type": "markdown",
   "id": "8ad6b24e",
   "metadata": {},
   "source": [
    "Let's practice! Experiment with the other two versions of the `range` function."
   ]
  },
  {
   "cell_type": "markdown",
   "id": "23b99635",
   "metadata": {},
   "source": [
    "#### Tuples"
   ]
  },
  {
   "cell_type": "markdown",
   "id": "1a7cd259",
   "metadata": {},
   "source": [
    "Tuples are very similar to lists and hold ordered collections of items. However, tuples and lists have three main differences:\n",
    "1. Tuples are created using parenthesis — `(` and `)` — instead of square brackets — `[` and `]`.\n",
    "2. Tuples are **immutable**, which is a fancy computer science word meaning that **they can’t be changed or altered after they are created**.\n",
    "3. Tuples and multiple return values from functions are tightly connected, as we will see in functions. "
   ]
  },
  {
   "cell_type": "code",
   "execution_count": 112,
   "id": "cdfd6276",
   "metadata": {},
   "outputs": [
    {
     "name": "stdout",
     "output_type": "stream",
     "text": [
      "t is a <class 'tuple'>\n"
     ]
    },
    {
     "data": {
      "text/plain": [
       "(1, 'hello', 3.0)"
      ]
     },
     "execution_count": 112,
     "metadata": {},
     "output_type": "execute_result"
    }
   ],
   "source": [
    "t = (1, \"hello\", 3.0)\n",
    "print(\"t is a\", type(t))\n",
    "t"
   ]
  },
  {
   "cell_type": "markdown",
   "id": "fb87e5e1",
   "metadata": {},
   "source": [
    "We can convert a list to a tuple by calling the `tuple` function on a list."
   ]
  },
  {
   "cell_type": "code",
   "execution_count": 113,
   "id": "3e3621db",
   "metadata": {},
   "outputs": [
    {
     "name": "stdout",
     "output_type": "stream",
     "text": [
      "x is a <class 'list'>\n",
      "tuple(x) is a <class 'tuple'>\n"
     ]
    },
    {
     "data": {
      "text/plain": [
       "(2, 'hello', 3.0)"
      ]
     },
     "execution_count": 113,
     "metadata": {},
     "output_type": "execute_result"
    }
   ],
   "source": [
    "print(\"x is a\", type(x))\n",
    "print(\"tuple(x) is a\", type(tuple(x)))\n",
    "tuple(x)"
   ]
  },
  {
   "cell_type": "markdown",
   "id": "7188057b",
   "metadata": {},
   "source": [
    "We can also convert a tuple to a list using the `list` function."
   ]
  },
  {
   "cell_type": "code",
   "execution_count": 114,
   "id": "e857baa3",
   "metadata": {},
   "outputs": [
    {
     "data": {
      "text/plain": [
       "[1, 'hello', 3.0]"
      ]
     },
     "execution_count": 114,
     "metadata": {},
     "output_type": "execute_result"
    }
   ],
   "source": [
    "list(t)"
   ]
  },
  {
   "cell_type": "markdown",
   "id": "ca2279cb",
   "metadata": {},
   "source": [
    "As with a list, we access items in a tuple `t` using `t[N]` where N is an int."
   ]
  },
  {
   "cell_type": "code",
   "execution_count": 115,
   "id": "3c92716f",
   "metadata": {},
   "outputs": [
    {
     "data": {
      "text/plain": [
       "1"
      ]
     },
     "execution_count": 115,
     "metadata": {},
     "output_type": "execute_result"
    }
   ],
   "source": [
    "t[0]  # still start counting at 0"
   ]
  },
  {
   "cell_type": "code",
   "execution_count": 116,
   "id": "af6b722b",
   "metadata": {},
   "outputs": [
    {
     "data": {
      "text/plain": [
       "3.0"
      ]
     },
     "execution_count": 116,
     "metadata": {},
     "output_type": "execute_result"
    }
   ],
   "source": [
    "t[2]"
   ]
  },
  {
   "cell_type": "markdown",
   "id": "5d861421",
   "metadata": {},
   "source": [
    "Verify that tuples are indeed immutable by attempting the following:\n",
    "- Changing the first element of `t` to be 100\n",
    "- Appending a new element `\"!!\"` to the end of `t` (remember with a list `x` we would use `x.append(\"!!\")` to do this)\n",
    "- Sorting `t`\n",
    "- Reversing `t`"
   ]
  },
  {
   "cell_type": "code",
   "execution_count": null,
   "id": "64ad43c8",
   "metadata": {},
   "outputs": [],
   "source": [
    "# change first element of t"
   ]
  },
  {
   "cell_type": "code",
   "execution_count": null,
   "id": "7c7b681c",
   "metadata": {},
   "outputs": [],
   "source": [
    "# appending to t"
   ]
  },
  {
   "cell_type": "code",
   "execution_count": null,
   "id": "d46c02e6",
   "metadata": {},
   "outputs": [],
   "source": [
    "# sorting t"
   ]
  },
  {
   "cell_type": "code",
   "execution_count": 117,
   "id": "92388581",
   "metadata": {},
   "outputs": [],
   "source": [
    "# reversing t"
   ]
  },
  {
   "cell_type": "markdown",
   "id": "4248216f",
   "metadata": {},
   "source": [
    "#### Lists vs. Tuples"
   ]
  },
  {
   "cell_type": "markdown",
   "id": "5dc4a781",
   "metadata": {},
   "source": [
    "Should you use a list or tuple? This depends on what you are storing, whether you might **need to reorder the elements**, or **whether you’d add new elements without a complete reinterpretation of the underlying data**. \n",
    "\n",
    "For example, take data representing the GDP (in trillions) and population (in billions) for China in 2015."
   ]
  },
  {
   "cell_type": "code",
   "execution_count": 118,
   "id": "39a6b86f",
   "metadata": {},
   "outputs": [
    {
     "name": "stdout",
     "output_type": "stream",
     "text": [
      "('China', 2015, 11.06, 1.371)\n"
     ]
    }
   ],
   "source": [
    "china_data_2015 = (\"China\", 2015, 11.06, 1.371)\n",
    "print(china_data_2015)"
   ]
  },
  {
   "cell_type": "markdown",
   "id": "785d73bf",
   "metadata": {},
   "source": [
    "In this case, we have used a tuple since:\n",
    "- (a) ordering would be meaningless; and\n",
    "- (b) adding more data would require a reinterpretation of the whole data structure.\n",
    "\n",
    "On the other hand, consider a list of GDP in China between 2013 and 2015."
   ]
  },
  {
   "cell_type": "code",
   "execution_count": 119,
   "id": "50492401",
   "metadata": {},
   "outputs": [
    {
     "name": "stdout",
     "output_type": "stream",
     "text": [
      "[9.607, 10.48, 11.06]\n"
     ]
    }
   ],
   "source": [
    "gdp_data = [9.607, 10.48, 11.06]\n",
    "print(gdp_data)"
   ]
  },
  {
   "cell_type": "markdown",
   "id": "677f024c",
   "metadata": {},
   "source": [
    "In this case, we have used a list, since adding on a new element to the end of the list for GDP in 2016 would make complete sense. Along these lines, collecting data on China for different years may make sense as a list of tuples (e.g. year, GDP, and population – although we will see better ways to store this sort of data in the Pandas section)."
   ]
  },
  {
   "cell_type": "code",
   "execution_count": 120,
   "id": "94606c02",
   "metadata": {},
   "outputs": [
    {
     "name": "stdout",
     "output_type": "stream",
     "text": [
      "[(2015, 11.06, 1.371), (2014, 10.48, 1.364), (2013, 9.607, 1.357)]\n"
     ]
    }
   ],
   "source": [
    "china_data = [(2015, 11.06, 1.371), (2014, 10.48, 1.364), (2013, 9.607, 1.357)]\n",
    "print(china_data)"
   ]
  },
  {
   "cell_type": "markdown",
   "id": "f508da8f",
   "metadata": {},
   "source": [
    "In general, a rule of thumb is to use a list unless you need to use a tuple. Key criteria for tuple use are when you want to:\n",
    "- ensure **the order of elements can’t change**\n",
    "- ensure **the actual values of the elements can’t change**\n",
    "- **use the collection as a key in a `dict`** (we will learn what this means soon)"
   ]
  },
  {
   "cell_type": "markdown",
   "id": "6f47f373",
   "metadata": {},
   "source": [
    "#### `zip` and `enumerate`"
   ]
  },
  {
   "cell_type": "markdown",
   "id": "4d9ed930",
   "metadata": {},
   "source": [
    "Two functions that can be extremely useful are `zip` and `enumerate`. Both of these functions are best understood by example, so let’s see them in action and then talk about what they do."
   ]
  },
  {
   "cell_type": "code",
   "execution_count": 121,
   "id": "5b6fcde6",
   "metadata": {},
   "outputs": [
    {
     "name": "stdout",
     "output_type": "stream",
     "text": [
      "type(z) <class 'zip'>\n"
     ]
    }
   ],
   "source": [
    "gdp_data = [9.607, 10.48, 11.06]\n",
    "years = [2013, 2014, 2015]\n",
    "z = zip(years, gdp_data)\n",
    "print(\"type(z)\", type(z))"
   ]
  },
  {
   "cell_type": "markdown",
   "id": "6686e49f",
   "metadata": {},
   "source": [
    "To see what is inside `z`, let’s convert it to a list."
   ]
  },
  {
   "cell_type": "code",
   "execution_count": 122,
   "id": "430af0e2",
   "metadata": {},
   "outputs": [
    {
     "data": {
      "text/plain": [
       "[(2013, 9.607), (2014, 10.48), (2015, 11.06)]"
      ]
     },
     "execution_count": 122,
     "metadata": {},
     "output_type": "execute_result"
    }
   ],
   "source": [
    "list(z)"
   ]
  },
  {
   "cell_type": "markdown",
   "id": "2a10cde8",
   "metadata": {},
   "source": [
    "Notice that we now have a list where each item is a tuple. Within each tuple, we have one item from each of the collections we passed to the `zip` function. In particular, the first item in z contains the first item from `[2013, 2014, 2015]` and the first item from `[9.607, 10.48, 11.06]`. The second item in `z` contains the second item from each collection and so on.\n",
    "\n",
    "We can **access an element in this** and then **unpack the resulting tuple directly into variables**."
   ]
  },
  {
   "cell_type": "code",
   "execution_count": 123,
   "id": "c80ffaa6",
   "metadata": {},
   "outputs": [
    {
     "name": "stdout",
     "output_type": "stream",
     "text": [
      "year = 2013, GDP = 9.607\n"
     ]
    }
   ],
   "source": [
    "l = list(zip(years, gdp_data))\n",
    "x, y = l[0] # unpack the first element of `l`\n",
    "print(f\"year = {x}, GDP = {y}\")"
   ]
  },
  {
   "cell_type": "markdown",
   "id": "40295f4a",
   "metadata": {},
   "source": [
    "Now let’s experiment with `enumerate`."
   ]
  },
  {
   "cell_type": "code",
   "execution_count": 124,
   "id": "dde461ef",
   "metadata": {},
   "outputs": [
    {
     "name": "stdout",
     "output_type": "stream",
     "text": [
      "type(e) <class 'enumerate'>\n"
     ]
    },
    {
     "data": {
      "text/plain": [
       "<enumerate at 0x117b144f0>"
      ]
     },
     "execution_count": 124,
     "metadata": {},
     "output_type": "execute_result"
    }
   ],
   "source": [
    "e = enumerate([\"a\", \"b\", \"c\"])\n",
    "print(\"type(e)\", type(e))\n",
    "e"
   ]
  },
  {
   "cell_type": "markdown",
   "id": "fc3df596",
   "metadata": {},
   "source": [
    "Again, we call `list(e)` to see what is inside."
   ]
  },
  {
   "cell_type": "code",
   "execution_count": 125,
   "id": "7561398c",
   "metadata": {},
   "outputs": [
    {
     "data": {
      "text/plain": [
       "[(0, 'a'), (1, 'b'), (2, 'c')]"
      ]
     },
     "execution_count": 125,
     "metadata": {},
     "output_type": "execute_result"
    }
   ],
   "source": [
    "list(e)"
   ]
  },
  {
   "cell_type": "markdown",
   "id": "cb3c6721",
   "metadata": {},
   "source": [
    "We again have a list of tuples, but this time, **the first element in each tuple is the index of the second tuple element in the initial collection**. Notice that the third item is `(2, 'c')` because `[\"a\", \"b\", \"c\"][2]` is `'c'`"
   ]
  },
  {
   "cell_type": "markdown",
   "id": "b5bf332c",
   "metadata": {},
   "source": [
    "For the tuple `foo` below, use a combination of `zip`, `range`, and `len` to mimic `enumerate(foo)`. Verify that your proposed solution is correct by converting each to a list and checking equality with `==`."
   ]
  },
  {
   "cell_type": "code",
   "execution_count": 126,
   "id": "2d3148ef",
   "metadata": {},
   "outputs": [],
   "source": [
    "foo = (\"good\", \"luck!\")\n",
    "# Your answers here!"
   ]
  },
  {
   "cell_type": "markdown",
   "id": "935b0269",
   "metadata": {},
   "source": [
    "An important quirk of some iterable types that are not lists (such as the above `zip`) is that you cannot convert the same type to a list twice. This is because `zip`, `enumerate`, and `range` produce what is called a **generator**.\n",
    "\n",
    "A generator will **only produce each of its elements a single time**, so if you **call list on the same generator a second time**, it will not have any elements to iterate over anymore. For more information, refer to the [Python documentation](https://docs.python.org/3/howto/functional.html#generators)."
   ]
  },
  {
   "cell_type": "code",
   "execution_count": 127,
   "id": "49a3ef08",
   "metadata": {},
   "outputs": [
    {
     "name": "stdout",
     "output_type": "stream",
     "text": [
      "[(2013, 9.607), (2014, 10.48), (2015, 11.06)]\n",
      "[]\n"
     ]
    }
   ],
   "source": [
    "gdp_data = [9.607, 10.48, 11.06]\n",
    "years = [2013, 2014, 2015]\n",
    "\n",
    "z = zip(years, gdp_data)\n",
    "\n",
    "l = list(z)\n",
    "print(l)\n",
    "\n",
    "m = list(z)\n",
    "print(m)"
   ]
  },
  {
   "cell_type": "markdown",
   "id": "bf4d97ba",
   "metadata": {},
   "source": [
    "### Associative Collections"
   ]
  },
  {
   "cell_type": "markdown",
   "id": "85b4e5b0",
   "metadata": {},
   "source": [
    "#### Dictionaries"
   ]
  },
  {
   "cell_type": "markdown",
   "id": "7618e3a5",
   "metadata": {},
   "source": [
    "A **dictionary (or dict)** associates `key`s with `value`s. It will feel similar to a dictionary for words, where the keys are words and the values are the associated definitions. \n",
    "\n",
    "The most common way to create a `dict` is to use curly braces — `{` and `}` — like this:\n",
    "```python\n",
    "{\"key1\": value1, \"key2\": value2, ..., \"keyN\": valueN}\n",
    "```\n",
    "\n",
    "The crucial part of the syntax is that **each key-value pair is written `key: value`** and that **these pairs are separated by commas — `,`**. Let’s see an example using our aggregate data on China in 2015."
   ]
  },
  {
   "cell_type": "code",
   "execution_count": 128,
   "id": "445d2eda",
   "metadata": {},
   "outputs": [
    {
     "name": "stdout",
     "output_type": "stream",
     "text": [
      "{'country': 'China', 'year': 2015, 'GDP': 11.06, 'population': 1.371}\n"
     ]
    }
   ],
   "source": [
    "china_data = {\"country\": \"China\", \"year\": 2015, \"GDP\" : 11.06, \"population\": 1.371}\n",
    "print(china_data)"
   ]
  },
  {
   "cell_type": "markdown",
   "id": "8e761535",
   "metadata": {},
   "source": [
    "Unlike our above example using a `tuple`, a `dict` allows us to associate a name with each field, rather than having to remember the order within the tuple. Often, code that makes a dict is easier to read if we put each `key: value` pair on its own line. (Recall our earlier comment on using whitespace effectively to improve readability!)\n",
    "\n",
    "The code below is equivalent to what we saw above."
   ]
  },
  {
   "cell_type": "code",
   "execution_count": 129,
   "id": "04e40a28",
   "metadata": {},
   "outputs": [],
   "source": [
    "china_data = {\n",
    "    \"country\": \"China\",\n",
    "    \"year\": 2015,\n",
    "    \"GDP\" : 11.06,\n",
    "    \"population\": 1.371\n",
    "}"
   ]
  },
  {
   "cell_type": "markdown",
   "id": "57f2346e",
   "metadata": {},
   "source": [
    "Most often, the keys (e.g. “country”, “year”, “GDP”, and “population”) will be strings, but we could also use numbers (`int`, or `float`) or even `tuple`s(or, rarely, a combination of types). The values can be **any** type and **different** from each other."
   ]
  },
  {
   "cell_type": "markdown",
   "id": "c62f75e4",
   "metadata": {},
   "source": [
    "Create a new dict which associates stock tickers(주식종목코드) with its stock price.\n",
    "Here are some tickers and a price.\n",
    "- AAPL: 175.96\n",
    "- GOOGL: 1047.43\n",
    "- TVIX: 8.38"
   ]
  },
  {
   "cell_type": "code",
   "execution_count": 130,
   "id": "a8469cc3",
   "metadata": {},
   "outputs": [],
   "source": [
    "# Your answers here!"
   ]
  },
  {
   "cell_type": "markdown",
   "id": "e719742f",
   "metadata": {},
   "source": [
    "This next example is meant to emphasize how values can be anything – including another dictionary."
   ]
  },
  {
   "cell_type": "code",
   "execution_count": 131,
   "id": "20205321",
   "metadata": {},
   "outputs": [
    {
     "name": "stdout",
     "output_type": "stream",
     "text": [
      "{'AAPL': {'bid': 175.96, 'ask': 175.98}, 'GE': {'bid': 1047.03, 'ask': 1048.4}, 'TVIX': {'bid': 8.38, 'ask': 8.4}}\n"
     ]
    }
   ],
   "source": [
    "companies = {\"AAPL\": {\"bid\": 175.96, \"ask\": 175.98},\n",
    "             \"GE\": {\"bid\": 1047.03, \"ask\": 1048.40},\n",
    "             \"TVIX\": {\"bid\": 8.38, \"ask\": 8.40}}\n",
    "print(companies)"
   ]
  },
  {
   "cell_type": "markdown",
   "id": "c466699f",
   "metadata": {},
   "source": [
    "#### Getting, Setting, and Updating `dict` items"
   ]
  },
  {
   "cell_type": "markdown",
   "id": "f8e42b7a",
   "metadata": {},
   "source": [
    "We can now ask Python to tell us the value for a particular key by using the syntax `d[k]`, where `d` is our `dict` and `k` is the key for which we want to find the value. For example,"
   ]
  },
  {
   "cell_type": "code",
   "execution_count": 132,
   "id": "3d7577ca",
   "metadata": {},
   "outputs": [
    {
     "name": "stdout",
     "output_type": "stream",
     "text": [
      "2015\n",
      "country = China, population = 1.371\n"
     ]
    }
   ],
   "source": [
    "print(china_data[\"year\"])\n",
    "print(f\"country = {china_data['country']}, population = {china_data['population']}\")"
   ]
  },
  {
   "cell_type": "markdown",
   "id": "f752a1d1",
   "metadata": {},
   "source": [
    "When inside of a formatting string, you can use `'` instead of `\"` as above to ensure the formatting still works with the embedded code. If we ask for the value of a key that is not in the dict, we will get an error."
   ]
  },
  {
   "cell_type": "code",
   "execution_count": 133,
   "id": "b4fba9d9",
   "metadata": {},
   "outputs": [
    {
     "ename": "KeyError",
     "evalue": "'inflation'",
     "output_type": "error",
     "traceback": [
      "\u001b[0;31m---------------------------------------------------------------------------\u001b[0m",
      "\u001b[0;31mKeyError\u001b[0m                                  Traceback (most recent call last)",
      "Cell \u001b[0;32mIn[133], line 1\u001b[0m\n\u001b[0;32m----> 1\u001b[0m china_data[\u001b[38;5;124m\"\u001b[39m\u001b[38;5;124minflation\u001b[39m\u001b[38;5;124m\"\u001b[39m]\n",
      "\u001b[0;31mKeyError\u001b[0m: 'inflation'"
     ]
    }
   ],
   "source": [
    "china_data[\"inflation\"]"
   ]
  },
  {
   "cell_type": "markdown",
   "id": "fe98a7af",
   "metadata": {},
   "source": [
    "We can also **add new items to a dict** using the syntax `d[new_key] = new_value`. Let’s see some examples."
   ]
  },
  {
   "cell_type": "code",
   "execution_count": 134,
   "id": "c5a6cac7",
   "metadata": {},
   "outputs": [
    {
     "name": "stdout",
     "output_type": "stream",
     "text": [
      "{'country': 'China', 'year': 2015, 'GDP': 11.06, 'population': 1.371}\n",
      "{'country': 'China', 'year': 2015, 'GDP': 11.06, 'population': 1.371, 'unemployment': '4.05%'}\n"
     ]
    }
   ],
   "source": [
    "print(china_data)\n",
    "china_data[\"unemployment\"] = \"4.05%\"\n",
    "print(china_data)"
   ]
  },
  {
   "cell_type": "markdown",
   "id": "3559e587",
   "metadata": {},
   "source": [
    "To **update the value**, we use assignment in the same way (which will create the key and value as required)."
   ]
  },
  {
   "cell_type": "code",
   "execution_count": 135,
   "id": "7f2353b6",
   "metadata": {},
   "outputs": [
    {
     "name": "stdout",
     "output_type": "stream",
     "text": [
      "{'country': 'China', 'year': 2015, 'GDP': 11.06, 'population': 1.371, 'unemployment': '4.05%'}\n",
      "{'country': 'China', 'year': 2015, 'GDP': 11.06, 'population': 1.371, 'unemployment': '4.051%'}\n"
     ]
    }
   ],
   "source": [
    "print(china_data)\n",
    "china_data[\"unemployment\"] = \"4.051%\"\n",
    "print(china_data)"
   ]
  },
  {
   "cell_type": "markdown",
   "id": "12655ff7",
   "metadata": {},
   "source": [
    "Or we could **change the type**."
   ]
  },
  {
   "cell_type": "code",
   "execution_count": 136,
   "id": "85d0547d",
   "metadata": {},
   "outputs": [
    {
     "name": "stdout",
     "output_type": "stream",
     "text": [
      "{'country': 'China', 'year': 2015, 'GDP': 11.06, 'population': 1.371, 'unemployment': 4.051}\n"
     ]
    }
   ],
   "source": [
    "china_data[\"unemployment\"] = 4.051\n",
    "print(china_data)"
   ]
  },
  {
   "cell_type": "markdown",
   "id": "571f5c31",
   "metadata": {},
   "source": [
    "Look at [the World Factbook for Australia](https://www.cia.gov/the-world-factbook/countries/australia/) and create a dictionary with data containing the following types: float, string, integer, list, and dict. Choose any data you wish. To confirm, you should have a dictionary that you identified via a key."
   ]
  },
  {
   "cell_type": "code",
   "execution_count": 137,
   "id": "1da370ae",
   "metadata": {},
   "outputs": [],
   "source": [
    "# Your answers here!"
   ]
  },
  {
   "cell_type": "markdown",
   "id": "add14a8b",
   "metadata": {},
   "source": [
    "#### Common `dict` Functionality"
   ]
  },
  {
   "cell_type": "markdown",
   "id": "a241e007",
   "metadata": {},
   "source": [
    "We can do some common things with dicts. We will demonstrate them with examples below."
   ]
  },
  {
   "cell_type": "code",
   "execution_count": 138,
   "id": "c9c3bc79",
   "metadata": {},
   "outputs": [
    {
     "data": {
      "text/plain": [
       "5"
      ]
     },
     "execution_count": 138,
     "metadata": {},
     "output_type": "execute_result"
    }
   ],
   "source": [
    "# number of key-value pairs in a dict\n",
    "len(china_data)"
   ]
  },
  {
   "cell_type": "code",
   "execution_count": 139,
   "id": "40ae8ce2",
   "metadata": {},
   "outputs": [
    {
     "data": {
      "text/plain": [
       "['country', 'year', 'GDP', 'population', 'unemployment']"
      ]
     },
     "execution_count": 139,
     "metadata": {},
     "output_type": "execute_result"
    }
   ],
   "source": [
    "# Get a list of all the keys.\n",
    "list(china_data.keys())"
   ]
  },
  {
   "cell_type": "code",
   "execution_count": 140,
   "id": "16014a40",
   "metadata": {},
   "outputs": [
    {
     "data": {
      "text/plain": [
       "['China', 2015, 11.06, 1.371, 4.051]"
      ]
     },
     "execution_count": 140,
     "metadata": {},
     "output_type": "execute_result"
    }
   ],
   "source": [
    "# Get a list of all the values\n",
    "list(china_data.values())"
   ]
  },
  {
   "cell_type": "code",
   "execution_count": null,
   "id": "4ec3273c",
   "metadata": {},
   "outputs": [
    {
     "data": {
      "text/plain": [
       "{'country': 'China',\n",
       " 'year': 2015,\n",
       " 'GDP': 11.06,\n",
       " 'population': 1.371,\n",
       " 'unemployment': 4.051,\n",
       " 'irrigated_land': 690070,\n",
       " 'top_religions': {'buddhist': 18.2, 'christian': 5.1, 'muslim': 1.8}}"
      ]
     },
     "execution_count": 141,
     "metadata": {},
     "output_type": "execute_result"
    }
   ],
   "source": [
    "more_china_data = {\"irrigated_land\": 690_070, \"top_religions\": {\"buddhist\": 18.2, \"christian\" : 5.1, \"muslim\": 1.8}}\n",
    "\n",
    "# Add all key-value pairs in mydict2 to mydict.\n",
    "# If the key already appears in mydict, overwrite the value with the value in mydict2\n",
    "china_data.update(more_china_data)\n",
    "china_data"
   ]
  },
  {
   "cell_type": "code",
   "execution_count": 142,
   "id": "28d216fd",
   "metadata": {},
   "outputs": [
    {
     "data": {
      "text/plain": [
       "690070"
      ]
     },
     "execution_count": 142,
     "metadata": {},
     "output_type": "execute_result"
    }
   ],
   "source": [
    "# Get the value associated with a key or return a default value.\n",
    "# Use this to avoid the NameError we saw above if you have a reasonable efault value.\n",
    "china_data.get(\"irrigated_land\", \"Data Not Available\")"
   ]
  },
  {
   "cell_type": "code",
   "execution_count": 143,
   "id": "d99cb36f",
   "metadata": {},
   "outputs": [
    {
     "data": {
      "text/plain": [
       "'Data Not Available'"
      ]
     },
     "execution_count": 143,
     "metadata": {},
     "output_type": "execute_result"
    }
   ],
   "source": [
    "china_data.get(\"death_rate\", \"Data Not Available\") # print \"Data Not Available\" if there is no key named \"death_rate\""
   ]
  },
  {
   "cell_type": "markdown",
   "id": "5f8e3251",
   "metadata": {},
   "source": [
    "Use Jupyter’s help facilities to learn how to use the `pop` method to remove the key `\"irrigated_land\"` (and its value) from the dict."
   ]
  },
  {
   "cell_type": "code",
   "execution_count": 146,
   "id": "2b284736",
   "metadata": {},
   "outputs": [],
   "source": [
    "# Your answers here."
   ]
  },
  {
   "cell_type": "markdown",
   "id": "c6afc44e",
   "metadata": {},
   "source": [
    "Explain what happens to the value you popped. Experiment with calling `pop` twice."
   ]
  },
  {
   "cell_type": "code",
   "execution_count": 147,
   "id": "7e1d740f",
   "metadata": {},
   "outputs": [],
   "source": [
    "# Your answers here."
   ]
  },
  {
   "cell_type": "markdown",
   "id": "df0dadb0",
   "metadata": {},
   "source": [
    "### Sets"
   ]
  },
  {
   "cell_type": "markdown",
   "id": "11264b80",
   "metadata": {},
   "source": [
    "Python has an additional way to represent collections of items: **sets**. Sets come up infrequently, but you should be aware of them. \n",
    "\n",
    "If you are familiar with the mathematical concept of sets, then you will understand the majority of Python sets already. If you don’t know the math behind sets, don’t worry: we’ll cover the basics of Python’s sets here.\n",
    "\n",
    "A set is **an unordered collection of unique elements**. The syntax for creating a set uses curly bracket `{` and `}`.\n",
    "```python\n",
    "{item1, item2, ..., itemN}\n",
    "```\n",
    "\n",
    "Here is an example"
   ]
  },
  {
   "cell_type": "code",
   "execution_count": 148,
   "id": "a6b7ceeb",
   "metadata": {},
   "outputs": [
    {
     "name": "stdout",
     "output_type": "stream",
     "text": [
      "s has type <class 'set'>\n"
     ]
    },
    {
     "data": {
      "text/plain": [
       "{1, 3.0, 'hello'}"
      ]
     },
     "execution_count": 148,
     "metadata": {},
     "output_type": "execute_result"
    }
   ],
   "source": [
    "s = {1, \"hello\", 3.0}\n",
    "print(\"s has type\", type(s))\n",
    "s"
   ]
  },
  {
   "cell_type": "markdown",
   "id": "be1c7026",
   "metadata": {},
   "source": [
    "Try creating a set with repeated elements (e.g. {1, 2, 1, 2, 1, 2}). What happens? Why?"
   ]
  },
  {
   "cell_type": "code",
   "execution_count": 149,
   "id": "ffbfd7de",
   "metadata": {},
   "outputs": [],
   "source": [
    "# Your answers here."
   ]
  },
  {
   "cell_type": "markdown",
   "id": "adeebd0a",
   "metadata": {},
   "source": [
    "As with lists and tuples, we can check if something is in the set and check the set’s length:"
   ]
  },
  {
   "cell_type": "code",
   "execution_count": 150,
   "id": "b829c1f8",
   "metadata": {},
   "outputs": [
    {
     "name": "stdout",
     "output_type": "stream",
     "text": [
      "len(s) = 3\n"
     ]
    },
    {
     "data": {
      "text/plain": [
       "True"
      ]
     },
     "execution_count": 150,
     "metadata": {},
     "output_type": "execute_result"
    }
   ],
   "source": [
    "print(\"len(s) =\", len(s))\n",
    "\"hello\" in s"
   ]
  },
  {
   "cell_type": "markdown",
   "id": "722ab825",
   "metadata": {},
   "source": [
    "Unlike lists and tuples, we can’t extract elements of a set `s` using `s[N]` where N is a number."
   ]
  },
  {
   "cell_type": "code",
   "execution_count": 151,
   "id": "409c16fe",
   "metadata": {},
   "outputs": [
    {
     "ename": "TypeError",
     "evalue": "'set' object is not subscriptable",
     "output_type": "error",
     "traceback": [
      "\u001b[0;31m---------------------------------------------------------------------------\u001b[0m",
      "\u001b[0;31mTypeError\u001b[0m                                 Traceback (most recent call last)",
      "Cell \u001b[0;32mIn[151], line 1\u001b[0m\n\u001b[0;32m----> 1\u001b[0m s[\u001b[38;5;241m1\u001b[39m]\n",
      "\u001b[0;31mTypeError\u001b[0m: 'set' object is not subscriptable"
     ]
    }
   ],
   "source": [
    "s[1]"
   ]
  },
  {
   "cell_type": "markdown",
   "id": "617cc543",
   "metadata": {},
   "source": [
    "This is because sets are **not ordered**, so the notion of getting the second element (`s[1]`) is not well defined.\n",
    "\n",
    "We add elements to a set `s` using `s.add`."
   ]
  },
  {
   "cell_type": "code",
   "execution_count": 152,
   "id": "05356bdc",
   "metadata": {},
   "outputs": [
    {
     "data": {
      "text/plain": [
       "{1, 100, 3.0, 'hello'}"
      ]
     },
     "execution_count": 152,
     "metadata": {},
     "output_type": "execute_result"
    }
   ],
   "source": [
    "s.add(100)\n",
    "s"
   ]
  },
  {
   "cell_type": "code",
   "execution_count": 153,
   "id": "d1a9b43d",
   "metadata": {},
   "outputs": [
    {
     "data": {
      "text/plain": [
       "{1, 100, 3.0, 'hello'}"
      ]
     },
     "execution_count": 153,
     "metadata": {},
     "output_type": "execute_result"
    }
   ],
   "source": [
    "s.add(\"hello\") # nothing happens, why?\n",
    "s"
   ]
  },
  {
   "cell_type": "markdown",
   "id": "bc04f0ca",
   "metadata": {},
   "source": [
    "We can also do **set operations**. Consider the set s from above and the set s2 = {\"hello\", \"world\"}.\n",
    "- `s.union(s2)`: returns a set with all elements in either s or s2 (합집합)\n",
    "- `s.intersection(s2)`: returns a set with all elements in both s and s2 (교집합)\n",
    "- `s.difference(s2)`: returns a set with all elements in s that aren’t in s2 (차집합)\n",
    "- `s.symmetric_difference(s2)`: returns a set with all elements in only one of s and s2 (대칭차집합)"
   ]
  },
  {
   "cell_type": "markdown",
   "id": "a94483dd",
   "metadata": {},
   "source": [
    "Test out two of the operations described above using the original set we created, `s`, and the set created below `s2`."
   ]
  },
  {
   "cell_type": "code",
   "execution_count": 154,
   "id": "5a9aac9a",
   "metadata": {},
   "outputs": [],
   "source": [
    "s2 = {\"hello\", \"world\"}"
   ]
  },
  {
   "cell_type": "code",
   "execution_count": 155,
   "id": "c5f58bfd",
   "metadata": {},
   "outputs": [],
   "source": [
    "# Operation 1; Please write your code here!"
   ]
  },
  {
   "cell_type": "code",
   "execution_count": 156,
   "id": "380c9b98",
   "metadata": {},
   "outputs": [],
   "source": [
    "# Operation 2; Please write your code here!"
   ]
  },
  {
   "cell_type": "markdown",
   "id": "43270dbb",
   "metadata": {},
   "source": [
    "As with tuples and lists, a set function can convert other collections to sets."
   ]
  },
  {
   "cell_type": "code",
   "execution_count": 157,
   "id": "b41eecb4",
   "metadata": {},
   "outputs": [
    {
     "data": {
      "text/plain": [
       "{1, 2, 3}"
      ]
     },
     "execution_count": 157,
     "metadata": {},
     "output_type": "execute_result"
    }
   ],
   "source": [
    "x = [1, 2, 3, 1]\n",
    "set(x)"
   ]
  },
  {
   "cell_type": "code",
   "execution_count": 158,
   "id": "7a0feee9",
   "metadata": {},
   "outputs": [
    {
     "data": {
      "text/plain": [
       "{1, 2, 3}"
      ]
     },
     "execution_count": 158,
     "metadata": {},
     "output_type": "execute_result"
    }
   ],
   "source": [
    "t = (1, 2, 3, 1)\n",
    "set(t)"
   ]
  },
  {
   "cell_type": "markdown",
   "id": "6d84b60a",
   "metadata": {},
   "source": [
    "Likewise, we can convert sets to lists and tuples."
   ]
  },
  {
   "cell_type": "code",
   "execution_count": 159,
   "id": "944adeee",
   "metadata": {},
   "outputs": [
    {
     "data": {
      "text/plain": [
       "[1, 'hello', 3.0, 100]"
      ]
     },
     "execution_count": 159,
     "metadata": {},
     "output_type": "execute_result"
    }
   ],
   "source": [
    "list(s)"
   ]
  },
  {
   "cell_type": "code",
   "execution_count": 160,
   "id": "9ba7e95a",
   "metadata": {},
   "outputs": [
    {
     "data": {
      "text/plain": [
       "(1, 'hello', 3.0, 100)"
      ]
     },
     "execution_count": 160,
     "metadata": {},
     "output_type": "execute_result"
    }
   ],
   "source": [
    "tuple(s)"
   ]
  },
  {
   "cell_type": "markdown",
   "id": "bf07fbe7",
   "metadata": {},
   "source": [
    "### Other Useful Collections"
   ]
  },
  {
   "cell_type": "markdown",
   "id": "6bb19513",
   "metadata": {},
   "source": [
    "[Namedtuple](https://www.geeksforgeeks.org/python/namedtuple-in-python/)"
   ]
  },
  {
   "cell_type": "markdown",
   "id": "b238d860",
   "metadata": {},
   "source": [
    "## Control Flow"
   ]
  },
  {
   "cell_type": "markdown",
   "id": "a84100db",
   "metadata": {},
   "source": [
    "### Net Preset Values and Asset Pricing"
   ]
  },
  {
   "cell_type": "markdown",
   "id": "2ebc1a17",
   "metadata": {},
   "source": [
    "In **`6.3`**, we’ll introduce two related topics from economics:\n",
    "- Net present valuations\n",
    "- Asset pricing\n",
    "\n",
    "These topics will motivate some of the programming we do in following sections."
   ]
  },
  {
   "cell_type": "markdown",
   "id": "e7d46a9a",
   "metadata": {},
   "source": [
    "#### Discount Rate"
   ]
  },
  {
   "cell_type": "markdown",
   "id": "12bb4e50",
   "metadata": {},
   "source": [
    "In economics and finance, **“assets” provide a stream of payoffs**. These “assets” can be concrete or abstract:\n",
    "- a stock pays dividends over time,\n",
    "- a bond pays interest,\n",
    "- an apple tree provides apples,\n",
    "- a job pays wages, and\n",
    "- an education provides possible jobs (which, in turn, pay wages).\n",
    "When **deciding the price to pay for an asset** or how to choose between different alternatives, we need to take into account that **most people would prefer to receive 1 today vs. 1 next year.** This reflection on consumer preferences leads to the notion of a **discount rate(할인율)**. If you are indifferent between receiving 1.00 today and 1.10 next year, then the discount rate over the next year is $r = 0.10$ (=10%).\n",
    "\n",
    "If we assume that an individuals preferences are consistent over time, then we can apply that same discount rate to valuing assets further into the future.\n",
    "- For example, we would expect that the consumer would be indifferent between consuming 1.00 today and $(1+r)(1+r)=1.21$ dollars two years from now (i.e. discount twice).\n",
    "\n",
    "Inverting this formula, 1 delivered two years from now is equivalent to $\\frac{1}{(1+r)^2}$ today. (2년 후의 1의 가치와 현재의 $\\frac{1}{(1+r)^2}$의 가치가 동일하다.)"
   ]
  },
  {
   "cell_type": "markdown",
   "id": "811ada27",
   "metadata": {},
   "source": [
    "Government bonds are often issued as **zero-coupon bonds(무이표채)**, meaning that they make no payments throughout the entire time that they are held, but, rather make a single payment at the time of maturity. How much should you be willing to pay for a zero-coupon bond that paid 100 in 10 years with an interest rate of 5%?"
   ]
  },
  {
   "cell_type": "code",
   "execution_count": 162,
   "id": "eb2e174b",
   "metadata": {},
   "outputs": [],
   "source": [
    "# Your answers here."
   ]
  },
  {
   "cell_type": "markdown",
   "id": "fc174e94",
   "metadata": {},
   "source": [
    "#### Net Present Value"
   ]
  },
  {
   "cell_type": "markdown",
   "id": "df525acb",
   "metadata": {},
   "source": [
    "If an asset pays a stream of payoffs over multiple time periods, then we can use a discount rate to calculate the value to the consumer of a entire sequence of payoffs. Most generally, we enumerate each discrete time period (e.g. year, month, day) by the index $t$ where today is $t=0$ and the asset lives for $T$ periods.\n",
    "\n",
    "List the payoff at each time period as $y_t$, which we will assume, for now, is known in advance. Then if the discount factor is $r \\ge 0$, the consumer “values” the payoff $y_t$ delivered at time $t$ as $\\frac{1}{(1+r)^t}y_t$ where we note that if\n",
    "$t = 0$, the value is just the current payoff $y_0$.\n",
    "\n",
    "Using this logic, we can write an expression for the value of the entire sequence of payoffs with a sum. $$ P_0 = \\sum^{T}_{t=0} \\left( \\frac{1}{1+r} \\right)^t y_t \\tag{1}$$\n",
    "\n",
    "If $y_t$ is a constant, then we can compute this sum with a simple formula! Below, we present some useful formulas that come from infinite series that we will use to get our net present value formula. ($y_t$가 상수이면 $y_t$가 시그마 밖으로 빠져나가게 되고, 결국 등비급수의 합을 구하는 문제가 된다.) For any constant $0 < \\beta < 1$ and integer value $\\tau > 0$,\n",
    "\n",
    "$$ \\sum^{∞}_{t=0} \\beta^t = \\frac{1}{1-\\beta} $$\n",
    "\n",
    "$$ \\sum^{\\tau}_{t=0} \\beta^t = \\frac{1-\\beta^{\\tau+1}}{1-\\beta} \\tag{2}$$\n",
    "\n",
    "$$ \\sum^{∞}_{t=\\tau} \\beta^t = \\frac{\\beta^{\\tau}}{1-\\beta} $$\n",
    "\n",
    "In the case of an asset which pays one dollar until time $T$, we can use these formulas, taking $\\beta = \\frac{1}{1+r}$ and $T=\\tau$, to find\n",
    "\n",
    "$$ P_0 = \\sum^{\\tau}_{t=0} \\left( \\frac{1}{1+r} \\right)^t = \\frac{1-(\\frac{1}{1+r})^{\\tau+1}}{1-\\frac{1}{1+r}} = \\frac{1+r}{r} - \\frac{1}{r} \\left(\\frac{1}{1+r}\\right)^{\\tau} $$\n",
    "\n",
    "Note that we can also consider an asset that lives and pays forever if $T=\\infty$, and from (2), the value of an asset which pays 1 forever is $\\frac{1+r}{r}$."
   ]
  },
  {
   "cell_type": "markdown",
   "id": "a5cb3439",
   "metadata": {},
   "source": [
    "### Conditionals"
   ]
  },
  {
   "cell_type": "markdown",
   "id": "dbb42ee6",
   "metadata": {},
   "source": [
    "#### `if` or `if-else`"
   ]
  },
  {
   "cell_type": "markdown",
   "id": "3e4050e0",
   "metadata": {},
   "source": [
    "Sometimes, we will only want to execute some piece of code if a certain condition is met. These conditions can be anything.\n",
    "- For example, we might add to total sales if the transaction value is positive, but add to total returns if the value is negative.\n",
    "- Or, we might want to add up all incurred costs, only if the transaction happened before a certain date.\n",
    "\n",
    "We use conditionals **to run particular pieces of code when certain criterion are met**. (즉 **조건(condition)이 참일 때 그 아래 코드조각을 실행한다.**) **Conditionals are closely tied to booleans**, so if you don’t remember what those are, go back to **`3`** for a refresher. The basic syntax for conditionals is\n",
    "```python\n",
    "if condition:\n",
    "    # code to run when condition is True\n",
    "else:\n",
    "    # code to run if no conditions above are True\n",
    "```\n",
    "\n",
    "Note that immediately following the condition, **there is a colon(`:`)** and that the next line begins with blank spaces (which are called indentation). **Using 4 spaces is a very strong convention for indentation**, so that is what we do — we recommend that you do the same. Also note that the `else` clause is optional.\n",
    "\n",
    "Let’s see some simple examples."
   ]
  },
  {
   "cell_type": "code",
   "execution_count": 163,
   "id": "75001ffe",
   "metadata": {},
   "outputs": [
    {
     "name": "stdout",
     "output_type": "stream",
     "text": [
      "This is where `True` code is run\n"
     ]
    }
   ],
   "source": [
    "if True:\n",
    "    print(\"This is where `True` code is run\")"
   ]
  },
  {
   "cell_type": "markdown",
   "id": "42896345",
   "metadata": {},
   "source": [
    "The example below is equivalent to just typing the print statement."
   ]
  },
  {
   "cell_type": "code",
   "execution_count": null,
   "id": "bd77b469",
   "metadata": {},
   "outputs": [
    {
     "name": "stdout",
     "output_type": "stream",
     "text": [
      "This is where `True` code is run\n"
     ]
    }
   ],
   "source": [
    "if 1 < 2:\n",
    "    print(\"This is where `True` code is run\")"
   ]
  },
  {
   "cell_type": "markdown",
   "id": "3296addc",
   "metadata": {},
   "source": [
    "Now, it is not equivalent to just typing the print statement."
   ]
  },
  {
   "cell_type": "code",
   "execution_count": null,
   "id": "635ff191",
   "metadata": {},
   "outputs": [],
   "source": [
    "if False:\n",
    "    print(\"This is where `True` code is run\") "
   ]
  },
  {
   "cell_type": "code",
   "execution_count": 166,
   "id": "8c06b111",
   "metadata": {},
   "outputs": [],
   "source": [
    "if 1 > 2:\n",
    "    print(\"This is where `True` code is run\")"
   ]
  },
  {
   "cell_type": "markdown",
   "id": "9716d067",
   "metadata": {},
   "source": [
    "Notice that when you run the cells above nothing is printed. That is because **the condition for the if statement was not true, so the code inside the indented block was never run.** This also allows us to demonstrate the role of indentation in determining the “block” of code."
   ]
  },
  {
   "cell_type": "code",
   "execution_count": 167,
   "id": "99f109b7",
   "metadata": {},
   "outputs": [
    {
     "name": "stdout",
     "output_type": "stream",
     "text": [
      "Code runs after 'if' block, regardless of val\n"
     ]
    }
   ],
   "source": [
    "val = False\n",
    "\n",
    "if val is True: # check an expression\n",
    "    print(\"This is where `True` code is run\")\n",
    "    print(\"More code in the if block\")\n",
    "print(\"Code runs after 'if' block, regardless of val\") "
   ]
  },
  {
   "cell_type": "markdown",
   "id": "8f57a5da",
   "metadata": {},
   "source": [
    "Run the following two variations on the code with only a single change in the indentation. After, modify the `x` to print `3` and then `2`, `3` instead."
   ]
  },
  {
   "cell_type": "code",
   "execution_count": 169,
   "id": "4578200b",
   "metadata": {},
   "outputs": [
    {
     "name": "stdout",
     "output_type": "stream",
     "text": [
      "1\n",
      "2\n",
      "3\n"
     ]
    }
   ],
   "source": [
    "x = 1\n",
    "\n",
    "if x > 0:\n",
    "    print(\"1\")\n",
    "    print(\"2\")\n",
    "print(\"3\")"
   ]
  },
  {
   "cell_type": "code",
   "execution_count": 170,
   "id": "cc5079f4",
   "metadata": {},
   "outputs": [
    {
     "name": "stdout",
     "output_type": "stream",
     "text": [
      "1\n",
      "2\n",
      "3\n"
     ]
    }
   ],
   "source": [
    "x = 1\n",
    "\n",
    "if x > 0:\n",
    "    print(\"1\")\n",
    "print(\"2\") # changed the indentation\n",
    "print(\"3\")"
   ]
  },
  {
   "cell_type": "markdown",
   "id": "8e1646bb",
   "metadata": {},
   "source": [
    "The next example shows us how `else` works."
   ]
  },
  {
   "cell_type": "code",
   "execution_count": 171,
   "id": "179df6b8",
   "metadata": {},
   "outputs": [
    {
     "name": "stdout",
     "output_type": "stream",
     "text": [
      "This is where `False` code is run\n",
      "More else code\n",
      "Code runs after 'if' block, regardless of val\n"
     ]
    }
   ],
   "source": [
    "val = (2 == 4)  # returns False\n",
    "\n",
    "if val is True:\n",
    "    print(\"This is where `True` code is run\")\n",
    "else:\n",
    "    print(\"This is where `False` code is run\")\n",
    "    print(\"More else code\")\n",
    "\n",
    "print(\"Code runs after 'if' block, regardless of val\")"
   ]
  },
  {
   "cell_type": "markdown",
   "id": "199cee1c",
   "metadata": {},
   "source": [
    "The `if False: ...` part of this example is the same as the example before, but now, we added an `else:` clause. In this case, **because the conditional for the `if` statement was not `True`, the if code block was not executed, but the `else` block was.** Finally, the `Condition is True` is assumed in the `if` statement, and is often left out.\n",
    "\n",
    "For example, the following are identical:"
   ]
  },
  {
   "cell_type": "code",
   "execution_count": 172,
   "id": "5fcdb6d6",
   "metadata": {},
   "outputs": [
    {
     "name": "stdout",
     "output_type": "stream",
     "text": [
      "1 < 2\n",
      "1 < 2\n"
     ]
    }
   ],
   "source": [
    "if (1 < 2) is True:\n",
    "    print(\"1 < 2\")\n",
    "\n",
    "if 1 < 2:\n",
    "    print(\"1 < 2\")"
   ]
  },
  {
   "cell_type": "markdown",
   "id": "4f69d88f",
   "metadata": {},
   "source": [
    "Using the code cell below as a start, print `\"Good afternoon\"` if the `current_time` is past noon. Otherwise, do nothing. (*Hint.* Write some conditional based on `current_time.hour`.)"
   ]
  },
  {
   "cell_type": "code",
   "execution_count": 174,
   "id": "8a19962a",
   "metadata": {},
   "outputs": [],
   "source": [
    "import datetime\n",
    "current_time = datetime.datetime.now()\n",
    "\n",
    "# Your answers here!"
   ]
  },
  {
   "cell_type": "markdown",
   "id": "914c2621",
   "metadata": {},
   "source": [
    "In this example, you will generate a random number between 0 and 1 and then display “x > 0.5” or “x < 0.5” depending on the value of the number. This also introduces a new package `numpy.random` for drawing random numbers."
   ]
  },
  {
   "cell_type": "code",
   "execution_count": 175,
   "id": "d966d604",
   "metadata": {},
   "outputs": [
    {
     "name": "stdout",
     "output_type": "stream",
     "text": [
      "x = 0.08575712006944569\n"
     ]
    }
   ],
   "source": [
    "import numpy as np\n",
    "x = np.random.random() # 0부터 1 사이의 난수 하나를 `x`에 할당합니다.\n",
    "print(f\"x = {x}\")\n",
    "\n",
    "# Your answers here."
   ]
  },
  {
   "cell_type": "markdown",
   "id": "e6a3c6ff",
   "metadata": {},
   "source": [
    "#### `if-elif-else` Statement"
   ]
  },
  {
   "cell_type": "markdown",
   "id": "498475b5",
   "metadata": {},
   "source": [
    "Sometimes, you have more than one condition you want to check.\n",
    "- For example, you might want to run a different set of code based on which quarter a particular transaction took place in.\n",
    "- In this case you could check whether the date is in Q1(1분기), or in Q2(2분기), or in Q3(3분기), or if not any of these it must be in Q4(4분기).\n",
    "\n",
    "The way to express this type of conditional is to use one or more `elif` clause in addition to the `if` and the `else`.\n",
    "\n",
    "The syntax is:\n",
    "```python\n",
    "if condition1:\n",
    "    # code to run when condition1 is True\n",
    "elif condition2:\n",
    "    # code to run when condition2 is True\n",
    "elif condition3:\n",
    "    # code to run when condition3 is True\n",
    "else:\n",
    "    # code to run when none of the above are true\n",
    "```\n",
    "\n",
    "You can **include as many `elif` clauses as you want**. As before, the **`else` part is optional**. Here’s how we might express the quarter example referred to above."
   ]
  },
  {
   "cell_type": "code",
   "execution_count": 176,
   "id": "0761a928",
   "metadata": {},
   "outputs": [
    {
     "name": "stdout",
     "output_type": "stream",
     "text": [
      "Halloween is in Q4\n"
     ]
    }
   ],
   "source": [
    "import datetime\n",
    "halloween = datetime.date(2017, 10, 31) # 할로윈 날짜를 변수에 할당합니다.\n",
    "\n",
    "if halloween.month > 9:\n",
    "    print(\"Halloween is in Q4\")\n",
    "elif halloween.month > 6:\n",
    "    print(\"Halloween is in Q3\")\n",
    "elif halloween.month > 3:\n",
    "    print(\"Halloween is in Q2\")\n",
    "else:\n",
    "    print(\"Halloween is in Q1\")"
   ]
  },
  {
   "cell_type": "markdown",
   "id": "4923bc0e",
   "metadata": {},
   "source": [
    "Note that when there are multiple `if` or `elif` conditions, **only the code corresponding to the first true clause is run**. (가장 먼저 조건이 참인 코드블럭만 실행 후 해당 `if-elif-else` 문의 나머지 코드블럭은 무시하고 넘어간다.) We saw this in action above.\n",
    "- We know that when `halloween.month > 9` is true, then **`halloween.month > 6` and `alloween.month > 3` must also be true, but only the code block associated with `halloween.month > 9` was printed.**"
   ]
  },
  {
   "cell_type": "markdown",
   "id": "c8b8c2d5",
   "metadata": {},
   "source": [
    "### Iterations"
   ]
  },
  {
   "cell_type": "markdown",
   "id": "c35433ef",
   "metadata": {},
   "source": [
    "When doing computations or analyzing data, we often need to **repeat certain operations a finite number of times** or **until some condition is met**. Examples include:\n",
    "- processing all data files in a directory (folder),\n",
    "- aggregating revenues and costs for every period in a year, or\n",
    "- computing the net present value of certain assets.\n",
    "\n",
    "These are all examples of a programming concept called **iteration**. We feel the concept is best understood through example, so we will present a contrived example and then discuss the details behind doing iteration in Python."
   ]
  },
  {
   "cell_type": "markdown",
   "id": "f84318e6",
   "metadata": {},
   "source": [
    "#### A Contrived Example"
   ]
  },
  {
   "cell_type": "markdown",
   "id": "55155e57",
   "metadata": {},
   "source": [
    "Suppose we wanted to print out the first 10 integers and their squares. We could do something like this."
   ]
  },
  {
   "cell_type": "code",
   "execution_count": 178,
   "id": "f5ccdfb2",
   "metadata": {},
   "outputs": [
    {
     "name": "stdout",
     "output_type": "stream",
     "text": [
      "1**2 = 1\n",
      "2**2 = 4\n",
      "3**2 = 9\n",
      "4**2 = 16\n"
     ]
    }
   ],
   "source": [
    "print(f\"1**2 = {1**2}\")\n",
    "print(f\"2**2 = {2**2}\")\n",
    "print(f\"3**2 = {3**2}\")\n",
    "print(f\"4**2 = {4**2}\")\n",
    "# .. and so on until 10"
   ]
  },
  {
   "cell_type": "markdown",
   "id": "caaa92c7",
   "metadata": {},
   "source": [
    "As you can see, the code above is repetitive. For each integer, the code is exactly the same except for the two places where the “current” integer appears.\n",
    "\n",
    "Suppose that I asked you to write the same print statement for an int stored in a variable named `i`. You might write the following code:\n",
    "```python\n",
    "print(f\"{i}**2 = {i**2}\")\n",
    "```\n",
    "\n",
    "This more general version of the operation suggests a strategy for achieving our goal with less repetition of code:\n",
    "- have a variable `i` take on the values 1 through 10 (Quiz: How can we use `range` to create the numbers 1 to 10? Answer: `range(1, 11)`) and run the line of code above for each new value of i.\n",
    "\n",
    "This can be accomplished with a `for` loop!"
   ]
  },
  {
   "cell_type": "code",
   "execution_count": 179,
   "id": "71a40289",
   "metadata": {},
   "outputs": [
    {
     "name": "stdout",
     "output_type": "stream",
     "text": [
      "1**2 = 1\n",
      "2**2 = 4\n",
      "3**2 = 9\n",
      "4**2 = 16\n",
      "5**2 = 25\n",
      "6**2 = 36\n",
      "7**2 = 49\n",
      "8**2 = 64\n",
      "9**2 = 81\n",
      "10**2 = 100\n"
     ]
    }
   ],
   "source": [
    "for i in range(1, 11):\n",
    "     print(f\"{i}**2 = {i**2}\")"
   ]
  },
  {
   "cell_type": "markdown",
   "id": "c814b9a1",
   "metadata": {},
   "source": [
    "Whoa😮, what just happened? The integer `i` took on the values in `range(1, 11)` one by one and for each new value it did the operations in the indented block (here just one line that called the `print` function)."
   ]
  },
  {
   "cell_type": "markdown",
   "id": "4b4958dd",
   "metadata": {},
   "source": [
    "#### `for` Loops"
   ]
  },
  {
   "cell_type": "markdown",
   "id": "db6754c5",
   "metadata": {},
   "source": [
    "The general structure of a standard `for` loop is as follows.\n",
    "```python\n",
    "for item in iterable:\n",
    "        # operation 1 with item\n",
    "        # operation 2 with item\n",
    "        # ...\n",
    "        # operation N with item\n",
    "```\n",
    "\n",
    "`iterable` is anything capable of producing one item at a time (see [here](https://docs.python.org/3/glossary.html#term-iterable) for official definition from the Python team). We’ve actually already seen some of the most common iterables!\n",
    "- Lists, tuples, dicts, and range/zip/enumerate objects are all iterables.\n",
    "\n",
    "Note that we can have as many operations as we want inside the indented block. We will **refer to the indented block as the “body” of the loop.** **When the for loop is executed, `item` will take on one value from `iterable` at a time and execute the loop body for each value.**"
   ]
  },
  {
   "cell_type": "markdown",
   "id": "cfa12c97",
   "metadata": {},
   "source": [
    "In economics, when **an individual has some knowledge, skills, or education which provides them with a source of future income**, we call it [human capital](https://en.wikipedia.org/wiki/Human_capital).\n",
    "\n",
    "When a student graduating from high school is considering whether to continue with post-secondary education, they may consider that it gives them higher paying jobs in the future, but requires that they don’t begin working until after graduation. Consider the simplified example where a student has perfectly forecastable employment and is given two choices:\n",
    "1. Begin working immediately and make 40,000 a year until they retire 40 years later.\n",
    "2. Pay 5,000 a year for the next 4 years to attend university, then get a job paying 50,000 a year until they retire 40 years after making the college attendance decision.\n",
    "\n",
    "Should the student enroll in school if the discount rate is $r = 0.05$?"
   ]
  },
  {
   "cell_type": "code",
   "execution_count": 180,
   "id": "45447133",
   "metadata": {},
   "outputs": [],
   "source": [
    "# Discount rate\n",
    "r = 0.05\n",
    "\n",
    "# High school wage\n",
    "w_hs = 40_000\n",
    "\n",
    "# College wage and cost of college\n",
    "c_college = 5_000\n",
    "w_college = 50_000\n",
    "\n",
    "# Compute npv of being a hs worker; Please write your code here!\n",
    "\n",
    "\n",
    "# Compute npv of attending college; Please write your code here!\n",
    "\n",
    "\n",
    "# Compute npv of being a college worker; Please write your code here!\n",
    "\n",
    "\n",
    "# Is npv_collegeworker - npv_collegecost > npv_hsworker; Please write your code here!\n",
    "\n"
   ]
  },
  {
   "cell_type": "markdown",
   "id": "d435725e",
   "metadata": {},
   "source": [
    "When iterating, each `item` in `iterable` might actually contain more than one value. Recall that tuples (and lists) can be unpacked directly into variables."
   ]
  },
  {
   "cell_type": "code",
   "execution_count": 181,
   "id": "b2e57d7d",
   "metadata": {},
   "outputs": [
    {
     "name": "stdout",
     "output_type": "stream",
     "text": [
      "i = 4, x = test, tup = (4, 'test')\n"
     ]
    }
   ],
   "source": [
    "tup = (4, \"test\")\n",
    "i, x = tup\n",
    "print(f\"i = {i}, x = {x}, tup = {tup}\")"
   ]
  },
  {
   "cell_type": "markdown",
   "id": "1359a67f",
   "metadata": {},
   "source": [
    "Also, recall that the value of a `enumerate(iterable)` is a tuple of the form `(i, x)` where `iterable[i] == x`. When we use `enumerate` in a for loop, we can “unpack” both values at the same time as follows:"
   ]
  },
  {
   "cell_type": "code",
   "execution_count": 182,
   "id": "6e9af50f",
   "metadata": {},
   "outputs": [
    {
     "name": "stdout",
     "output_type": "stream",
     "text": [
      "quarter 0 revenue is $5.12 million\n",
      "quarter 1 revenue is $5.2 million\n",
      "quarter 2 revenue is $5.5 million\n",
      "quarter 3 revenue is $6.5 million\n"
     ]
    }
   ],
   "source": [
    "# revenue by quarter\n",
    "company_revenue = [5.12, 5.20, 5.50, 6.50]\n",
    "\n",
    "for index, value in enumerate(company_revenue):\n",
    "    print(f\"quarter {index} revenue is ${value} million\")"
   ]
  },
  {
   "cell_type": "markdown",
   "id": "47b1c67d",
   "metadata": {},
   "source": [
    "Similarly, the index can be used to access another vector."
   ]
  },
  {
   "cell_type": "code",
   "execution_count": 183,
   "id": "e52fdf1b",
   "metadata": {},
   "outputs": [
    {
     "name": "stdout",
     "output_type": "stream",
     "text": [
      "Phoenix is in Arizona\n",
      "Austin is in Texas\n",
      "San Diego is in California\n",
      "New York is in New York\n"
     ]
    }
   ],
   "source": [
    "cities = [\"Phoenix\", \"Austin\", \"San Diego\", \"New York\"]\n",
    "states = [\"Arizona\", \"Texas\", \"California\", \"New York\"]\n",
    "\n",
    "for index, city in enumerate(cities):\n",
    "    state = states[index]\n",
    "    print(f\"{city} is in {state}\")"
   ]
  },
  {
   "cell_type": "markdown",
   "id": "e2885cc5",
   "metadata": {},
   "source": [
    "Instead of the above, write a for loop that uses the lists of cities and states below to print the same “{city} is in {state}” using a `zip()` instead of an `enumerate()`."
   ]
  },
  {
   "cell_type": "code",
   "execution_count": 184,
   "id": "5835b3e0",
   "metadata": {},
   "outputs": [],
   "source": [
    "cities = [\"Phoenix\", \"Austin\", \"San Diego\", \"New York\"]\n",
    "states = [\"Arizona\", \"Texas\", \"California\", \"New York\"]\n",
    "\n",
    "# Please write your code here!"
   ]
  },
  {
   "cell_type": "markdown",
   "id": "bf184075",
   "metadata": {},
   "source": [
    "#### `while` Loops"
   ]
  },
  {
   "cell_type": "markdown",
   "id": "86fb8d1b",
   "metadata": {},
   "source": [
    "A related but slightly different form of iteration is to **repeat something until some condition is met.** This is typically achieved using a `while` loop.\n",
    "\n",
    "The structure of a while loop is:\n",
    "```python\n",
    "while True_condition:\n",
    "    # repeat these steps\n",
    "```\n",
    "\n",
    "`True_condition` is some conditional statement that should **evaluate to True when iterations should continue and False when Python should stop iterating**. For example, suppose we wanted to know the smallest N such that $\\sum\\limits^N_{i=0}i > 1000$.\n",
    "\n",
    "We figure this out using a while loop as follows."
   ]
  },
  {
   "cell_type": "code",
   "execution_count": 185,
   "id": "06f73209",
   "metadata": {},
   "outputs": [
    {
     "name": "stdout",
     "output_type": "stream",
     "text": [
      "The answer is 45\n"
     ]
    }
   ],
   "source": [
    "total = 0\n",
    "i = 0\n",
    "while total <= 1000:\n",
    "    i = i + 1\n",
    "    total = total + i\n",
    "\n",
    "print(\"The answer is\", i)"
   ]
  },
  {
   "cell_type": "markdown",
   "id": "aee28bc2",
   "metadata": {},
   "source": [
    "Let’s check our work. "
   ]
  },
  {
   "cell_type": "code",
   "execution_count": 186,
   "id": "f371ad36",
   "metadata": {},
   "outputs": [
    {
     "data": {
      "text/plain": [
       "990"
      ]
     },
     "execution_count": 186,
     "metadata": {},
     "output_type": "execute_result"
    }
   ],
   "source": [
    "# Should be just less than 1000 because range(45) goes from 0 to 44\n",
    "sum(range(45))"
   ]
  },
  {
   "cell_type": "code",
   "execution_count": 187,
   "id": "77769fd9",
   "metadata": {},
   "outputs": [
    {
     "data": {
      "text/plain": [
       "1035"
      ]
     },
     "execution_count": 187,
     "metadata": {},
     "output_type": "execute_result"
    }
   ],
   "source": [
    "# should be between 990 + 45 = 1035\n",
    "sum(range(46))"
   ]
  },
  {
   "cell_type": "markdown",
   "id": "86e5fbc7",
   "metadata": {},
   "source": [
    "A warning: one common programming error with while loops is to forget to **set the variable you use in the condition prior to executing**. For example, take the following code which correctly sets a counter."
   ]
  },
  {
   "cell_type": "code",
   "execution_count": 188,
   "id": "6ac37fcd",
   "metadata": {},
   "outputs": [],
   "source": [
    "i = 0"
   ]
  },
  {
   "cell_type": "markdown",
   "id": "0d0c7326",
   "metadata": {},
   "source": [
    "And then executes a while loop"
   ]
  },
  {
   "cell_type": "code",
   "execution_count": 189,
   "id": "b1a3f2b4",
   "metadata": {},
   "outputs": [
    {
     "name": "stdout",
     "output_type": "stream",
     "text": [
      "0\n",
      "1\n",
      "2\n",
      "done\n"
     ]
    }
   ],
   "source": [
    "while i < 3:\n",
    "    print(i)\n",
    "    i = i + 1\n",
    "print(\"done\")"
   ]
  },
  {
   "cell_type": "markdown",
   "id": "d036f2b1",
   "metadata": {},
   "source": [
    "No problems. But if you were to execute the above cell again, or another cell, the `i = 3` remains, and code is never executed (since `i < 3` begins as False)."
   ]
  },
  {
   "cell_type": "markdown",
   "id": "e7c02a49",
   "metadata": {},
   "source": [
    "Companies often invest in training their employees to raise their productivity. Economists sometimes wonder why companies spend this money when this incentivizes other companies to hire their employees away with higher salaries since employees gain human capital from training?\n",
    "\n",
    "Let’s say that it costs a company 25,000 dollars to teach their employees Python, but it raises their output by 2,500 per month. How many months would an employee need to stay for the company to find it profitable to pay for their employees to learn Python if their discount rate is r = 0.01?"
   ]
  },
  {
   "cell_type": "code",
   "execution_count": 190,
   "id": "904e0f0f",
   "metadata": {},
   "outputs": [],
   "source": [
    "# Define cost of teaching python\n",
    "cost = 25_000\n",
    "r = 0.01\n",
    "\n",
    "# Per month value\n",
    "added_value = 2500\n",
    "\n",
    "n_months = 0\n",
    "total_npv = 0.0\n",
    "\n",
    "# Put condition below here: 아래를 잘보고 코드를 수정해주세요.\n",
    "while False: # (replace False with your condition here)\n",
    "    n_months = n_months + 1  # Increment how many months they've worked\n",
    "\n",
    "    # Increase total_npv"
   ]
  },
  {
   "cell_type": "markdown",
   "id": "5d4e4675",
   "metadata": {},
   "source": [
    "#### `break` and `continue`"
   ]
  },
  {
   "cell_type": "markdown",
   "id": "11f6e67d",
   "metadata": {},
   "source": [
    "Sometimes we want to stop a loop early if some condition is met. Let’s revisit the example of finding the smallest N such that $\\sum\\limits^N_{i=0}i > 1000$.\n",
    "\n",
    "Clearly `N` must be less than 1000, so we know we will find the answer if we start with a for loop over all items in `range(1001)`. Then, we can keep a running total as we proceed and tell Python to stop iterating through our range once total goes above 1000."
   ]
  },
  {
   "cell_type": "code",
   "execution_count": 191,
   "id": "1d89fb45",
   "metadata": {},
   "outputs": [
    {
     "name": "stdout",
     "output_type": "stream",
     "text": [
      "The answer is 45\n"
     ]
    }
   ],
   "source": [
    "total = 0\n",
    "for i in range(1001):\n",
    "    total = total + i\n",
    "    if total > 1000:\n",
    "        break\n",
    "\n",
    "print(\"The answer is\", i)"
   ]
  },
  {
   "cell_type": "markdown",
   "id": "fd558bce",
   "metadata": {},
   "source": [
    "Try to find the index of the first value in `x` that is greater than 0.999 using a for loop and `break`. (*Hint.* Try iterating over range(len(x)).)"
   ]
  },
  {
   "cell_type": "code",
   "execution_count": 192,
   "id": "4054acae",
   "metadata": {},
   "outputs": [],
   "source": [
    "x = np.random.rand(10_000)\n",
    "# Your answers here."
   ]
  },
  {
   "cell_type": "markdown",
   "id": "9da9b0dc",
   "metadata": {},
   "source": [
    "Sometimes we might want to **stop the body of a loop early if a condition is met.** To do this we can use the `continue` keyword. The basic syntax for doing this is:\n",
    "```python\n",
    "for item in iterable:\n",
    "      # always do these operations\n",
    "      if condition:\n",
    "          continue\n",
    "\n",
    "      # only do these operations if condition is False\n",
    "```\n",
    "\n",
    "Inside the loop body, Python will **stop that loop iteration of the loop and continue directly to the next iteration** when it encounters the `continue ` statement. For example, suppose I ask you to loop over the numbers 1 to 10 and print out the message “{i} An odd number!” whenever the number `i` is odd, and do nothing otherwise.\n",
    "\n",
    "You can use `continue` to do this as follows:"
   ]
  },
  {
   "cell_type": "code",
   "execution_count": 193,
   "id": "8632c82a",
   "metadata": {},
   "outputs": [
    {
     "name": "stdout",
     "output_type": "stream",
     "text": [
      "1 is an odd number!\n",
      "3 is an odd number!\n",
      "5 is an odd number!\n",
      "7 is an odd number!\n",
      "9 is an odd number!\n"
     ]
    }
   ],
   "source": [
    "for i in range(1, 11):\n",
    "    if i % 2 == 0:  # an even number... This is modulus division\n",
    "        continue\n",
    "\n",
    "    print(i, \"is an odd number!\")"
   ]
  },
  {
   "cell_type": "markdown",
   "id": "7d4ae6a8",
   "metadata": {},
   "source": [
    "Write a for loop that adds up all values in `x` that are greater than or equal to 0.5. Use the `continue` word to end the body of the loop early for all values of `x` that are less than 0.5. (*Hint.* Try starting your loop with for value in `x`: instead of iterating over the indices of `x`.)"
   ]
  },
  {
   "cell_type": "code",
   "execution_count": 194,
   "id": "edc95aa4",
   "metadata": {},
   "outputs": [],
   "source": [
    "x = np.random.rand(10_000)\n",
    "# Write your answers here."
   ]
  },
  {
   "cell_type": "markdown",
   "id": "8fcbd15d",
   "metadata": {},
   "source": [
    "#### Comprehension"
   ]
  },
  {
   "cell_type": "markdown",
   "id": "67beac0c",
   "metadata": {},
   "source": [
    "Often, we will want to **perform a very simple operation for every element of some iterable** and **create a new iterable** with these values. This could be done by writing a for loop and saving each value, but often using what is called a **comprehension** is more readable. \n",
    "\n",
    "Like many Python concepts, a comprehension is easiest to understand through example. Imagine that we have a list `x` with a list of numbers.\n",
    "- We would like to create a list `x2` which has the squared values of `x`."
   ]
  },
  {
   "cell_type": "code",
   "execution_count": 195,
   "id": "6af0f2ef",
   "metadata": {},
   "outputs": [
    {
     "name": "stdout",
     "output_type": "stream",
     "text": [
      "[0, 1, 4, 9]\n",
      "[0, 1, 4, 9]\n"
     ]
    }
   ],
   "source": [
    "x = list(range(4)) # a list of numbers\n",
    "\n",
    "# [Solution 1] Create squared values with a loop\n",
    "x2_loop = []\n",
    "for x_val in x:\n",
    "    x2_loop.append(x_val**2)\n",
    "\n",
    "# [Solution 2] Create squared values with a comprehension\n",
    "x2_comp = [x_val**2 for x_val in x]\n",
    "\n",
    "print(x2_loop)\n",
    "print(x2_comp)"
   ]
  },
  {
   "cell_type": "markdown",
   "id": "4ea9ef5b",
   "metadata": {},
   "source": [
    "Notice that much of the same text appears when we do the operation in the loop and when we do the operation with the comprehension. We need to specify what we are iterating over – in both cases, this is for `x_val` in `x`. We need to square each element `x_val**2`. It needs to be stored somewhere – **(Solution 1)** in `x2_loop`, this is done by appending each element to a list, and **(Solution 2)** in x2_comp, this is done automatically because the operation is enclosed in a list. \n",
    "\n",
    "**We can do comprehension with many different types of iterables**, so we demonstrate a few more below.\n",
    "\n",
    "Create a dictionary with tickers for keys and corresponding stock price for values."
   ]
  },
  {
   "cell_type": "code",
   "execution_count": 196,
   "id": "c79fbeb2",
   "metadata": {},
   "outputs": [
    {
     "data": {
      "text/plain": [
       "{'AAPL': 175.96, 'GOOGL': 1047.43, 'TVIX': 8.38}"
      ]
     },
     "execution_count": 196,
     "metadata": {},
     "output_type": "execute_result"
    }
   ],
   "source": [
    "# Create a dictionary from lists\n",
    "tickers = [\"AAPL\", \"GOOGL\", \"TVIX\"]\n",
    "prices = [175.96, 1047.43, 8.38]\n",
    "\n",
    "d = {key: value for key, value in zip(tickers, prices)}\n",
    "d"
   ]
  },
  {
   "cell_type": "markdown",
   "id": "2f8db2e8",
   "metadata": {},
   "source": [
    "Define a list that contains HQ addresses from the dictionary."
   ]
  },
  {
   "cell_type": "code",
   "execution_count": 197,
   "id": "7a3008a1",
   "metadata": {},
   "outputs": [
    {
     "data": {
      "text/plain": [
       "['Seattle', 'Zurich', 'Cupertino']"
      ]
     },
     "execution_count": 197,
     "metadata": {},
     "output_type": "execute_result"
    }
   ],
   "source": [
    "# Create a list from a dictionary\n",
    "d = {\"AMZN\": \"Seattle\", \"TVIX\": \"Zurich\", \"AAPL\": \"Cupertino\"}\n",
    "\n",
    "hq_cities = [d[ticker] for ticker in d.keys()]\n",
    "hq_cities"
   ]
  },
  {
   "cell_type": "markdown",
   "id": "82021ee2",
   "metadata": {},
   "source": [
    "Create a list of values of sine functions with arguments from 0 to 10."
   ]
  },
  {
   "cell_type": "code",
   "execution_count": 198,
   "id": "ece66c68",
   "metadata": {},
   "outputs": [
    {
     "data": {
      "text/plain": [
       "[0.0,\n",
       " 0.8414709848078965,\n",
       " 0.9092974268256817,\n",
       " 0.1411200080598672,\n",
       " -0.7568024953079283,\n",
       " -0.9589242746631385,\n",
       " -0.27941549819892586,\n",
       " 0.6569865987187891,\n",
       " 0.9893582466233818,\n",
       " 0.4121184852417566]"
      ]
     },
     "execution_count": 198,
     "metadata": {},
     "output_type": "execute_result"
    }
   ],
   "source": [
    "import math\n",
    "\n",
    "# List from list\n",
    "x = range(10)\n",
    "\n",
    "sin_x = [math.sin(x_val) for x_val in x]\n",
    "sin_x"
   ]
  },
  {
   "cell_type": "markdown",
   "id": "ad40f10a",
   "metadata": {},
   "source": [
    "Returning to our previous example: print “{city} is in {state}” for each combination using a `zip` and a comprehension."
   ]
  },
  {
   "cell_type": "code",
   "execution_count": 199,
   "id": "5de08df8",
   "metadata": {},
   "outputs": [],
   "source": [
    "cities = [\"Phoenix\", \"Austin\", \"San Diego\", \"New York\"]\n",
    "states = [\"Arizona\", \"Texas\", \"California\", \"New York\"]\n",
    "\n",
    "# Please write your code here"
   ]
  },
  {
   "cell_type": "markdown",
   "id": "10bd2e74",
   "metadata": {},
   "source": [
    "Finally, we can use this approach to build complicated nested dictionaries."
   ]
  },
  {
   "cell_type": "code",
   "execution_count": 201,
   "id": "62f32173",
   "metadata": {},
   "outputs": [
    {
     "name": "stdout",
     "output_type": "stream",
     "text": [
      "{2013: {'gdp': 9.607, 'exports': {'manufacturing': 2.4, 'agriculture': 1.5, 'services': 0.5}}, 2014: {'gdp': 10.48, 'exports': {'manufacturing': 2.5, 'agriculture': 1.4, 'services': 0.9}}, 2015: {'gdp': 11.06, 'exports': {'manufacturing': 2.7, 'agriculture': 1.4, 'services': 1.5}}}\n"
     ]
    },
    {
     "data": {
      "text/plain": [
       "[0.5, 0.9, 1.5]"
      ]
     },
     "execution_count": 201,
     "metadata": {},
     "output_type": "execute_result"
    }
   ],
   "source": [
    "gdp_data = [9.607, 10.48, 11.06]\n",
    "years = [2013, 2014, 2015]\n",
    "exports = [ {\"manufacturing\": 2.4, \"agriculture\": 1.5, \"services\": 0.5},\n",
    "            {\"manufacturing\": 2.5, \"agriculture\": 1.4, \"services\": 0.9},\n",
    "            {\"manufacturing\": 2.7, \"agriculture\": 1.4, \"services\": 1.5}]\n",
    "\n",
    "# Merge data defined above.\n",
    "data = zip(years, gdp_data,exports)\n",
    "data_dict = {year : {\"gdp\" : gdp, \"exports\": exports} for year, gdp, exports in data} # comprehension\n",
    "print(data_dict)\n",
    "\n",
    "# total exports by year\n",
    "[data_dict[year][\"exports\"][\"services\"] for year in data_dict.keys()]"
   ]
  },
  {
   "cell_type": "markdown",
   "id": "9e6ed6b2",
   "metadata": {},
   "source": [
    "This is it for Day 1! See you tomorrow. Don't forget to review the notes!"
   ]
  }
 ],
 "metadata": {
  "kernelspec": {
   "display_name": "base",
   "language": "python",
   "name": "python3"
  },
  "language_info": {
   "codemirror_mode": {
    "name": "ipython",
    "version": 3
   },
   "file_extension": ".py",
   "mimetype": "text/x-python",
   "name": "python",
   "nbconvert_exporter": "python",
   "pygments_lexer": "ipython3",
   "version": "3.12.7"
  }
 },
 "nbformat": 4,
 "nbformat_minor": 5
}
