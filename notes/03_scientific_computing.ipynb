{
 "cells": [
  {
   "cell_type": "markdown",
   "id": "a8a34970",
   "metadata": {},
   "source": [
    "<div class=\"alert alert-block alert-warning\">\n",
    "    <b>Warning:</b> The content of the note may contain copyrighted material. Do not distribute.\n",
    "</div>"
   ]
  },
  {
   "cell_type": "markdown",
   "id": "90d2f0e1",
   "metadata": {},
   "source": [
    "# Scientific Computing\n",
    "\n",
    "Seho Jeong, Sogang University\n",
    "\n",
    "**References**\n",
    "- HI."
   ]
  },
  {
   "cell_type": "markdown",
   "id": "eb65681d",
   "metadata": {},
   "source": [
    "## NumPy"
   ]
  },
  {
   "cell_type": "markdown",
   "id": "6a89b8bd",
   "metadata": {},
   "source": [
    "## SciPy"
   ]
  },
  {
   "cell_type": "markdown",
   "id": "2c0a242f",
   "metadata": {},
   "source": [
    "## High-Performance Computing"
   ]
  },
  {
   "cell_type": "markdown",
   "id": "1973b4dc",
   "metadata": {},
   "source": []
  }
 ],
 "metadata": {
  "language_info": {
   "name": "python"
  }
 },
 "nbformat": 4,
 "nbformat_minor": 5
}
