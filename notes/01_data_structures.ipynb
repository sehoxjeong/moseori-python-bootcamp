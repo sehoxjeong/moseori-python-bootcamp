{
 "cells": [
  {
   "cell_type": "markdown",
   "id": "87a6c94f",
   "metadata": {},
   "source": [
    "<div class=\"alert alert-block alert-warning\">\n",
    "    <b>Warning:</b> The content of the note may contain copyrighted material. Do not distribute.\n",
    "</div>"
   ]
  },
  {
   "cell_type": "markdown",
   "id": "a03fbbc6",
   "metadata": {},
   "source": [
    "# Data Structures\n",
    "\n",
    "Seho Jeong, Sogang University\n",
    "\n",
    "**References**\n",
    "- HI."
   ]
  },
  {
   "cell_type": "markdown",
   "id": "2f065f61",
   "metadata": {},
   "source": [
    "Welcome all! For five days including today, we will learn basic Python programming for economics research. The aim of this mini course is to teach you how to ask and understand answers by ChatGPT (or other LLMs) while you are working on data analysis. The more you know, the more precise and good answers you will get from AI! "
   ]
  },
  {
   "cell_type": "code",
   "execution_count": null,
   "id": "5683907c",
   "metadata": {},
   "outputs": [],
   "source": []
  },
  {
   "cell_type": "markdown",
   "id": "fed180d5",
   "metadata": {},
   "source": [
    "## Basic Programming Concepts"
   ]
  },
  {
   "cell_type": "markdown",
   "id": "fdca7539",
   "metadata": {},
   "source": [
    "### Variable Assignment"
   ]
  },
  {
   "cell_type": "markdown",
   "id": "cbd36dba",
   "metadata": {},
   "source": [
    "### Variable Names"
   ]
  },
  {
   "cell_type": "markdown",
   "id": "cb0d602f",
   "metadata": {},
   "source": [
    "### List of Variables"
   ]
  },
  {
   "cell_type": "markdown",
   "id": "7d94c0c4",
   "metadata": {},
   "source": [
    "### Code Comments"
   ]
  },
  {
   "cell_type": "markdown",
   "id": "4686b0e1",
   "metadata": {},
   "source": [
    "### Built-In Functions"
   ]
  },
  {
   "cell_type": "markdown",
   "id": "038122a5",
   "metadata": {},
   "source": [
    "### Getting Help"
   ]
  },
  {
   "cell_type": "markdown",
   "id": "ed8ee97f",
   "metadata": {},
   "source": [
    "### Objects and Types"
   ]
  },
  {
   "cell_type": "markdown",
   "id": "71a367b8",
   "metadata": {},
   "source": [
    "#### Objects"
   ]
  },
  {
   "cell_type": "markdown",
   "id": "f73254cd",
   "metadata": {},
   "source": [
    "#### Types"
   ]
  },
  {
   "cell_type": "markdown",
   "id": "fef22030",
   "metadata": {},
   "source": [
    "### Modules"
   ]
  },
  {
   "cell_type": "markdown",
   "id": "0e5c0b32",
   "metadata": {},
   "source": [
    "### Good Code Habits"
   ]
  },
  {
   "cell_type": "markdown",
   "id": "e957f0b7",
   "metadata": {},
   "source": [
    "## Strings"
   ]
  },
  {
   "cell_type": "markdown",
   "id": "499d67d0",
   "metadata": {},
   "source": [
    "### Generating a String"
   ]
  },
  {
   "cell_type": "markdown",
   "id": "38eb13e4",
   "metadata": {},
   "source": [
    "### String Operations"
   ]
  },
  {
   "cell_type": "markdown",
   "id": "91cb25c6",
   "metadata": {},
   "source": [
    "### String Methods"
   ]
  },
  {
   "cell_type": "markdown",
   "id": "fff06e37",
   "metadata": {},
   "source": [
    "### String Formatting"
   ]
  },
  {
   "cell_type": "markdown",
   "id": "c4f8c536",
   "metadata": {},
   "source": [
    "## Numbers, Dates, and Times"
   ]
  },
  {
   "cell_type": "markdown",
   "id": "ae7252c4",
   "metadata": {},
   "source": [
    "### Integers, Floating Point Numbers, Complex Numbers"
   ]
  },
  {
   "cell_type": "markdown",
   "id": "82d8a7a6",
   "metadata": {},
   "source": [
    "### Python as a Calculator"
   ]
  },
  {
   "cell_type": "markdown",
   "id": "eb2d417a",
   "metadata": {},
   "source": [
    "### Other Math Functions"
   ]
  },
  {
   "cell_type": "markdown",
   "id": "d061de20",
   "metadata": {},
   "source": [
    "### Floor/Modulus Division Operators"
   ]
  },
  {
   "cell_type": "markdown",
   "id": "22ecad30",
   "metadata": {},
   "source": [
    "### Other Numbers"
   ]
  },
  {
   "cell_type": "markdown",
   "id": "a6a604f9",
   "metadata": {},
   "source": [
    "### Dates and Times"
   ]
  },
  {
   "cell_type": "markdown",
   "id": "4d0571c5",
   "metadata": {},
   "source": [
    "## Logical Expressions and Operators"
   ]
  },
  {
   "cell_type": "markdown",
   "id": "5b6d25bb",
   "metadata": {},
   "source": [
    "### Logical Expressions"
   ]
  },
  {
   "cell_type": "markdown",
   "id": "343493fb",
   "metadata": {},
   "source": [
    "### Booleans"
   ]
  },
  {
   "cell_type": "markdown",
   "id": "4a299e32",
   "metadata": {},
   "source": [
    "### Comparison Operators"
   ]
  },
  {
   "cell_type": "markdown",
   "id": "c6965bae",
   "metadata": {},
   "source": [
    "### Logical Operators"
   ]
  },
  {
   "cell_type": "markdown",
   "id": "78a1f168",
   "metadata": {},
   "source": [
    "### Quantifiers"
   ]
  },
  {
   "cell_type": "markdown",
   "id": "64627a36",
   "metadata": {},
   "source": [
    "## Collections"
   ]
  },
  {
   "cell_type": "markdown",
   "id": "50e1a19d",
   "metadata": {},
   "source": [
    "### Ordered Collections"
   ]
  },
  {
   "cell_type": "markdown",
   "id": "bf4d97ba",
   "metadata": {},
   "source": [
    "### Associative Collections"
   ]
  },
  {
   "cell_type": "markdown",
   "id": "df0dadb0",
   "metadata": {},
   "source": [
    "### Sets"
   ]
  },
  {
   "cell_type": "markdown",
   "id": "bf07fbe7",
   "metadata": {},
   "source": [
    "### Other Useful Collections"
   ]
  },
  {
   "cell_type": "markdown",
   "id": "b238d860",
   "metadata": {},
   "source": [
    "## Control Flow"
   ]
  },
  {
   "cell_type": "markdown",
   "id": "a84100db",
   "metadata": {},
   "source": [
    "### Net Preset Values and Asset Pricing"
   ]
  },
  {
   "cell_type": "markdown",
   "id": "a5cb3439",
   "metadata": {},
   "source": [
    "### Conditionals"
   ]
  },
  {
   "cell_type": "markdown",
   "id": "c8b8c2d5",
   "metadata": {},
   "source": [
    "### Iterations"
   ]
  },
  {
   "cell_type": "markdown",
   "id": "c35433ef",
   "metadata": {},
   "source": []
  }
 ],
 "metadata": {
  "language_info": {
   "name": "python"
  }
 },
 "nbformat": 4,
 "nbformat_minor": 5
}
