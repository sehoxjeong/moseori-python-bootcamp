{
 "cells": [
  {
   "cell_type": "markdown",
   "id": "ff40c290",
   "metadata": {},
   "source": [
    "<div class=\"alert alert-block alert-warning\">\n",
    "    <b>Warning:</b> The content of the note may contain copyrighted material. Do not distribute.\n",
    "</div>"
   ]
  },
  {
   "cell_type": "markdown",
   "id": "049b2835",
   "metadata": {},
   "source": [
    "# Functions and Object Oriented Programming\n",
    "\n",
    "Seho Jeong, Sogang University\n",
    "\n",
    "**References**\n",
    "- HI."
   ]
  },
  {
   "cell_type": "markdown",
   "id": "bb3bc3f6",
   "metadata": {},
   "source": [
    "## Functions"
   ]
  },
  {
   "cell_type": "markdown",
   "id": "1d7e2954",
   "metadata": {},
   "source": [
    "### Application: Production Functions"
   ]
  },
  {
   "cell_type": "markdown",
   "id": "a19ede58",
   "metadata": {},
   "source": [
    "### What are Functions of Python?"
   ]
  },
  {
   "cell_type": "markdown",
   "id": "cf37d01d",
   "metadata": {},
   "source": [
    "### How to Define Functions (in Python)?"
   ]
  },
  {
   "cell_type": "markdown",
   "id": "2f7a9ba8",
   "metadata": {},
   "source": [
    "### More on Scope"
   ]
  },
  {
   "cell_type": "markdown",
   "id": "91eba772",
   "metadata": {},
   "source": [
    "### Positional Arguments and Keyword Arguments"
   ]
  },
  {
   "cell_type": "markdown",
   "id": "e549ee32",
   "metadata": {},
   "source": [
    "### Decorators"
   ]
  },
  {
   "cell_type": "markdown",
   "id": "681cfc3f",
   "metadata": {},
   "source": [
    "## Object Oriented Programming"
   ]
  },
  {
   "cell_type": "markdown",
   "id": "b14d3bde",
   "metadata": {},
   "source": []
  }
 ],
 "metadata": {
  "language_info": {
   "name": "python"
  }
 },
 "nbformat": 4,
 "nbformat_minor": 5
}
