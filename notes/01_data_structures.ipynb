{
 "cells": [
  {
   "cell_type": "markdown",
   "id": "87a6c94f",
   "metadata": {},
   "source": [
    "<div class=\"alert alert-block alert-warning\">\n",
    "    <b>Warning:</b> The content of the note may contain copyrighted material. Do not distribute.\n",
    "</div>"
   ]
  },
  {
   "cell_type": "markdown",
   "id": "a03fbbc6",
   "metadata": {},
   "source": [
    "# Data Structures\n",
    "\n",
    "Seho Jeong, Sogang University\n",
    "\n",
    "**References**\n",
    "- **Coleman, Chase, Spencer Lyon, and Jesse Perla. n.d.** \"Introduction to Economic Modeling and Data Science.\" QuantEcon. https://datascience.quantecon.org/.\n",
    "- **Sargent, Thomas J., and John Stachurski. n.d.** \"Python Programming for Economics and Finance.\" QuantEcon. https://python-programming.quantecon.org/intro.html.\n",
    "\n",
    "In this note, we begin with the basics. We learn about core concepts of programming like variables and data structures. We will become familiar with the core data types built into Python, some standard functions we will frequently use, and learn how to define our own functions. By the end, you should have a solid grasp on core Python concepts, be prepared to study the next notes on programming structures and numerical programming, and feel comfortable handling data."
   ]
  },
  {
   "cell_type": "markdown",
   "id": "8eefb72f",
   "metadata": {},
   "source": [
    "### Contents\n",
    "\n",
    "1. [Basic Programming Concepts](#basic-programming-concepts)\n",
    "2. [Strings](#strings)\n",
    "3. [Numbers, Dates, and Times](#numbers-dates-and-times)\n",
    "4. [Logical Expressions and Operators](#logical-expressions-and-operators)\n",
    "5. [Collections](#collections)\n",
    "6. [Control Flow](#control-flow)"
   ]
  },
  {
   "cell_type": "markdown",
   "id": "fed180d5",
   "metadata": {},
   "source": [
    "## Basic Programming Concepts"
   ]
  },
  {
   "cell_type": "markdown",
   "id": "0e629dbf",
   "metadata": {},
   "source": [
    "In this section, we will learn some basic concepts of programming and where to search for help."
   ]
  },
  {
   "cell_type": "markdown",
   "id": "fdca7539",
   "metadata": {},
   "source": [
    "### Variable Assignment"
   ]
  },
  {
   "cell_type": "markdown",
   "id": "cc232464",
   "metadata": {},
   "source": [
    "The very first thing we will learn is the idea of **variable assignment**. Variable assignment associates a value to a variable. Below, we assign the value 'Hello World' to the variable `x`."
   ]
  },
  {
   "cell_type": "code",
   "execution_count": 2,
   "id": "201bb9cf",
   "metadata": {},
   "outputs": [],
   "source": [
    "x = 'Hello world'"
   ]
  },
  {
   "cell_type": "markdown",
   "id": "f5f2adf0",
   "metadata": {},
   "source": [
    "Once we have assigned a value to a variable, Python will remember this variable as long as the current session of Python is still running.\n",
    "\n",
    "Notice how writing `x` into the prompt below outputs the value 'Hello World'."
   ]
  },
  {
   "cell_type": "code",
   "execution_count": 3,
   "id": "d6447ee6",
   "metadata": {},
   "outputs": [
    {
     "data": {
      "text/plain": [
       "'Hello world'"
      ]
     },
     "execution_count": 3,
     "metadata": {},
     "output_type": "execute_result"
    }
   ],
   "source": [
    "x"
   ]
  },
  {
   "cell_type": "markdown",
   "id": "73d44963",
   "metadata": {},
   "source": [
    "However, Python returns an error if we ask it about variables that have not yet been created."
   ]
  },
  {
   "cell_type": "code",
   "execution_count": 4,
   "id": "6fdaac8c",
   "metadata": {},
   "outputs": [
    {
     "ename": "NameError",
     "evalue": "name 'y' is not defined",
     "output_type": "error",
     "traceback": [
      "\u001b[0;31m---------------------------------------------------------------------------\u001b[0m",
      "\u001b[0;31mNameError\u001b[0m                                 Traceback (most recent call last)",
      "Cell \u001b[0;32mIn[4], line 1\u001b[0m\n\u001b[0;32m----> 1\u001b[0m y\n",
      "\u001b[0;31mNameError\u001b[0m: name 'y' is not defined"
     ]
    }
   ],
   "source": [
    "y"
   ]
  },
  {
   "cell_type": "markdown",
   "id": "dd9bb5c4",
   "metadata": {},
   "source": [
    "It is also useful to understand the order in which operations happen. First, the right side of equal sign is computed. Then, that computed value is stored as the variable to the left of the equal sign. For example, what do you think the value of `z` is after running the code below?"
   ]
  },
  {
   "cell_type": "code",
   "execution_count": null,
   "id": "f0a796e4",
   "metadata": {},
   "outputs": [],
   "source": [
    "z = 3\n",
    "z = z + 4\n",
    "print('z is', z)"
   ]
  },
  {
   "cell_type": "markdown",
   "id": "a277408e",
   "metadata": {},
   "source": [
    "Keep in mind that the variable binds a name to a something stored in memory. The name can even be bound to a value of a completely different type."
   ]
  },
  {
   "cell_type": "code",
   "execution_count": 6,
   "id": "5519b63b",
   "metadata": {},
   "outputs": [
    {
     "name": "stdout",
     "output_type": "stream",
     "text": [
      "2 <class 'int'> 4375060272\n",
      "something else <class 'str'> 4616643952\n"
     ]
    }
   ],
   "source": [
    "x = 2\n",
    "print(x, type(x), id(x))\n",
    "x = 'something else'\n",
    "print(x, type(x), id(x))"
   ]
  },
  {
   "cell_type": "markdown",
   "id": "81c736a6",
   "metadata": {},
   "source": [
    "We now know that when the variable assignment code is executed, Python creates an object of type `int` in your computer's memory, containing the value and some associated attributes. But what is `x` itself in the code above? In Python, `x` is called a name, and the statement `x = 2` binds the name `x` to the integer object we have just discussed.\n",
    "\n",
    "Under the hood, this process of binding names to objects is implemented as a dictionary &mdash; more about this in a moment.\n",
    "\n",
    "There is no problem binding two or more names to the one object, regardless of what that object is"
   ]
  },
  {
   "cell_type": "code",
   "execution_count": 7,
   "id": "7b284025",
   "metadata": {},
   "outputs": [
    {
     "data": {
      "text/plain": [
       "True"
      ]
     },
     "execution_count": 7,
     "metadata": {},
     "output_type": "execute_result"
    }
   ],
   "source": [
    "a = 31\n",
    "b = a\n",
    "id(a) == id(b)"
   ]
  },
  {
   "cell_type": "markdown",
   "id": "677505b7",
   "metadata": {},
   "source": [
    "In the first step, a `int` object is created, and the name `a` is bound to it. After binding the name `b` to the same object, we can use it anywhere we could use `a`. "
   ]
  },
  {
   "cell_type": "markdown",
   "id": "cbd36dba",
   "metadata": {},
   "source": [
    "### Variable Names"
   ]
  },
  {
   "cell_type": "markdown",
   "id": "a21c95e1",
   "metadata": {},
   "source": [
    "In Python, variable names must adhere to specific rules for valid syntax and readability.\n",
    "\n",
    "- Start with a letter or underscore\n",
    "- Contain only alphanumeric characters and underscores (maybe not!)\n",
    "- Case-sensitive\n",
    "- Avoid Python keywords\n",
    "\n",
    "Also there are some recommended practice for readable codes:\n",
    "\n",
    "- Use lowercase with underscores (snake_case) (e.g., `total_price`)\n",
    "- Be descriptive\n",
    "- Constants in uppercase (e.g., `API_KEYS`)"
   ]
  },
  {
   "cell_type": "markdown",
   "id": "a2701d75",
   "metadata": {},
   "source": [
    "#### Other Topics"
   ]
  },
  {
   "cell_type": "markdown",
   "id": "7d94c0c4",
   "metadata": {},
   "source": [
    "### Code Comments"
   ]
  },
  {
   "cell_type": "markdown",
   "id": "6ba811c9",
   "metadata": {},
   "source": [
    "Comments are short notes that you leave for yourself and for others who read your code. They should be used to explain what the code does. A comment is made with the `#`. Python ignores everything in a line that follows a `#`.\n",
    "\n",
    "Let's practice making some comments."
   ]
  },
  {
   "cell_type": "code",
   "execution_count": 8,
   "id": "12ef707c",
   "metadata": {},
   "outputs": [
    {
     "data": {
      "text/plain": [
       "3"
      ]
     },
     "execution_count": 8,
     "metadata": {},
     "output_type": "execute_result"
    }
   ],
   "source": [
    "i = 1 # Assign the value 1 to variable i\n",
    "j = 2 # Assign the value 2 to variable j\n",
    "\n",
    "# We add i and j below this line.\n",
    "i + j"
   ]
  },
  {
   "cell_type": "markdown",
   "id": "4686b0e1",
   "metadata": {},
   "source": [
    "### Built-In Functions"
   ]
  },
  {
   "cell_type": "markdown",
   "id": "2374552e",
   "metadata": {},
   "source": [
    "Functions are processes that take an input(s) and produce an output. If we had a function called `f` that took two arguments `x` and `y`, we would write `f(x, y)` to use the function. For example, the function `print` simply prints whatever it is given. recall the variable we created called `x`."
   ]
  },
  {
   "cell_type": "code",
   "execution_count": 9,
   "id": "0b73d5c9",
   "metadata": {},
   "outputs": [
    {
     "name": "stdout",
     "output_type": "stream",
     "text": [
      "something else\n"
     ]
    }
   ],
   "source": [
    "print(x)"
   ]
  },
  {
   "cell_type": "markdown",
   "id": "038122a5",
   "metadata": {},
   "source": [
    "### Getting Help"
   ]
  },
  {
   "cell_type": "markdown",
   "id": "949be4b2",
   "metadata": {},
   "source": [
    "We can figure out what a function does by asking for help. In Jupyter notebooks, this is done by placing a `?` after the function name (without paranthesis) and evaluating the cell. For example, we can ask for help on the `print()` function by writing `print?`."
   ]
  },
  {
   "cell_type": "code",
   "execution_count": 10,
   "id": "eb4bd168",
   "metadata": {},
   "outputs": [
    {
     "name": "stdout",
     "output_type": "stream",
     "text": [
      "\u001b[0;31mSignature:\u001b[0m \u001b[0mprint\u001b[0m\u001b[0;34m(\u001b[0m\u001b[0;34m*\u001b[0m\u001b[0margs\u001b[0m\u001b[0;34m,\u001b[0m \u001b[0msep\u001b[0m\u001b[0;34m=\u001b[0m\u001b[0;34m' '\u001b[0m\u001b[0;34m,\u001b[0m \u001b[0mend\u001b[0m\u001b[0;34m=\u001b[0m\u001b[0;34m'\\n'\u001b[0m\u001b[0;34m,\u001b[0m \u001b[0mfile\u001b[0m\u001b[0;34m=\u001b[0m\u001b[0;32mNone\u001b[0m\u001b[0;34m,\u001b[0m \u001b[0mflush\u001b[0m\u001b[0;34m=\u001b[0m\u001b[0;32mFalse\u001b[0m\u001b[0;34m)\u001b[0m\u001b[0;34m\u001b[0m\u001b[0;34m\u001b[0m\u001b[0m\n",
      "\u001b[0;31mDocstring:\u001b[0m\n",
      "Prints the values to a stream, or to sys.stdout by default.\n",
      "\n",
      "sep\n",
      "  string inserted between values, default a space.\n",
      "end\n",
      "  string appended after the last value, default a newline.\n",
      "file\n",
      "  a file-like object (stream); defaults to the current sys.stdout.\n",
      "flush\n",
      "  whether to forcibly flush the stream.\n",
      "\u001b[0;31mType:\u001b[0m      builtin_function_or_method"
     ]
    }
   ],
   "source": [
    "print?"
   ]
  },
  {
   "cell_type": "markdown",
   "id": "4dbe982d",
   "metadata": {},
   "source": [
    "Now, practice by yourself. Read about what the `len` function does (by writing `len?`). What will it produce if we give it the variable `x`? Check whether you were right by running the code `len(x)`."
   ]
  },
  {
   "cell_type": "code",
   "execution_count": 18,
   "id": "7d8333ce",
   "metadata": {},
   "outputs": [],
   "source": [
    "# Your answers here!"
   ]
  },
  {
   "cell_type": "markdown",
   "id": "ed8ee97f",
   "metadata": {},
   "source": [
    "### Objects and Types"
   ]
  },
  {
   "cell_type": "markdown",
   "id": "71a367b8",
   "metadata": {},
   "source": [
    "#### Objects"
   ]
  },
  {
   "cell_type": "markdown",
   "id": "9b73efd8",
   "metadata": {},
   "source": [
    "Everything in Python is an **object**. Objects are things that contain (1) data and (2) functions that can operate on the data. Sometimes we refer to the functions inside an object as **methods**. We can investigate what data is inside an object and which methods it supports by typing after `.` after that particular variable, then hitting `TAB`. You can scroll down this list by using the up and down arrows. We often refer to this as \"tab completion\" or \"introspection\"."
   ]
  },
  {
   "cell_type": "markdown",
   "id": "f73254cd",
   "metadata": {},
   "source": [
    "#### Types"
   ]
  },
  {
   "cell_type": "markdown",
   "id": "9baecb68",
   "metadata": {},
   "source": [
    "We often want to identify what kind of object some value is– called its “type”. A **type** is an abstraction which defines a set of behavior for any “instance” of that type ,i.e., `2.0` and `3.0` are instances of float, where float has a set of particular common behaviors.\n",
    "\n",
    "In particular, the type determines:\n",
    "- the available data for any “instance” of the type (where each instance may have different values of the data).\n",
    "- the methods that can be applied on the object and its data.\n",
    "\n",
    "We can figure this out by using the `type()` function. The `type()` function takes a single argument and outputs the type of that argument.\n",
    "\n"
   ]
  },
  {
   "cell_type": "code",
   "execution_count": 13,
   "id": "d3a402d3",
   "metadata": {},
   "outputs": [
    {
     "data": {
      "text/plain": [
       "int"
      ]
     },
     "execution_count": 13,
     "metadata": {},
     "output_type": "execute_result"
    }
   ],
   "source": [
    "type(3)"
   ]
  },
  {
   "cell_type": "code",
   "execution_count": 14,
   "id": "0852f126",
   "metadata": {},
   "outputs": [
    {
     "data": {
      "text/plain": [
       "str"
      ]
     },
     "execution_count": 14,
     "metadata": {},
     "output_type": "execute_result"
    }
   ],
   "source": [
    "type('Hello World')"
   ]
  },
  {
   "cell_type": "code",
   "execution_count": 15,
   "id": "32fb1f65",
   "metadata": {},
   "outputs": [
    {
     "data": {
      "text/plain": [
       "list"
      ]
     },
     "execution_count": 15,
     "metadata": {},
     "output_type": "execute_result"
    }
   ],
   "source": [
    "type([1, 2, 3])"
   ]
  },
  {
   "cell_type": "markdown",
   "id": "90799a0e",
   "metadata": {},
   "source": [
    "We will learn more about each of types (and others!) and how to use them soon, so stay tuned!"
   ]
  },
  {
   "cell_type": "markdown",
   "id": "fef22030",
   "metadata": {},
   "source": [
    "### Modules"
   ]
  },
  {
   "cell_type": "markdown",
   "id": "730fa3dd",
   "metadata": {},
   "source": [
    "Python takes a **modular approach** to tools. By this we mean that sets of related tools are bundled together into *packages*. (You may also hear the term modules to describe the same thing.)\n",
    "\n",
    "For example:\n",
    "- `pandas` is a package that implements the tools necessary to do scalable data analysis.\n",
    "- `matplotlib` is a package that implements visualization tools.\n",
    "- `requests` and `urllib` are packages that allow Python to interface with the internet.\n",
    "\n",
    "As we move further into the class, being able to access these packages will become very important. We can bring a package’s functionality into our current Python session by writing\n",
    "\n",
    "\n",
    "```python\n",
    "import package\n",
    "```\n",
    "\n",
    "Once we have done this, any function or object from that package can be accessed by using `package.name`. Here’s an example."
   ]
  },
  {
   "cell_type": "code",
   "execution_count": 17,
   "id": "29a1da2c",
   "metadata": {},
   "outputs": [
    {
     "data": {
      "text/plain": [
       "'3.12.7 | packaged by Anaconda, Inc. | (main, Oct  4 2024, 08:22:19) [Clang 14.0.6 ]'"
      ]
     },
     "execution_count": 17,
     "metadata": {},
     "output_type": "execute_result"
    }
   ],
   "source": [
    "import sys  # for dealing with your computer's system\n",
    "sys.version # information about the Python version in use"
   ]
  },
  {
   "cell_type": "markdown",
   "id": "786fc198",
   "metadata": {},
   "source": [
    "We can use our introspection skills to investigate a package's contents. In the cell below, use the tab completion to find a function from the `time` module that will display the local time. Use `time.FUNC_NAME?` (where `FUNC_NAME` is replaced with the function you found) to see information about that function and then call the function. (*Hint.* Look for something to do with the word `local`.)"
   ]
  },
  {
   "cell_type": "code",
   "execution_count": 19,
   "id": "24cda24c",
   "metadata": {},
   "outputs": [],
   "source": [
    "import time\n",
    "# Your answers here!"
   ]
  },
  {
   "cell_type": "markdown",
   "id": "fcf81da9",
   "metadata": {},
   "source": [
    "#### Module Aliases"
   ]
  },
  {
   "cell_type": "markdown",
   "id": "e276ab65",
   "metadata": {},
   "source": [
    "Some packages have long names (see `matplotlib`, for example) which makes accessing the package functionality somewhat inconvenient. To ease this burden, Python allows us to give aliases or “nicknames” to packages.\n",
    "\n",
    "For example we can write:\n",
    "```python\n",
    "import package as p\n",
    "```\n",
    "\n",
    "This statement allows us to access the packages functionality as `p.function_name` rather than `package.function_name`. Some common aliases for packages are\n",
    "- `import pandas as pd`\n",
    "- `import numpy as np`\n",
    "- `import matplotlib as mpl`\n",
    "- `import datetime as dt`\n",
    "\n",
    "While you can choose any name for an alias, we suggest that you stick to the common ones. You will learn what these common ones are over time.\n",
    "\n"
   ]
  },
  {
   "cell_type": "markdown",
   "id": "63cd8019",
   "metadata": {},
   "source": [
    "Try running `import time as t` in the cell below, then see if you can call the function you identified above. Does it work?"
   ]
  },
  {
   "cell_type": "code",
   "execution_count": null,
   "id": "46c985d0",
   "metadata": {},
   "outputs": [],
   "source": [
    "import time as t"
   ]
  },
  {
   "cell_type": "markdown",
   "id": "0e5c0b32",
   "metadata": {},
   "source": [
    "### Good Code Habits"
   ]
  },
  {
   "cell_type": "markdown",
   "id": "f933859c",
   "metadata": {},
   "source": [
    "A common saying in the software engineering world is:\n",
    "\n",
    "> Always code as if the guy who ends up maintaining your code will be a violent psychopath who knows where you live. **Code for readability.**\n",
    "\n",
    "This might be a dramatic take, but the most important feature of your code after correctness is readability. We encourage you to do everything in your power to make your code as readable as possible. Here are some suggestions for how to do so:\n",
    "\n",
    "- Comment frequently. Leaving short notes not only will help others who use your code, but will also help you interpret your code after some time has passed.\n",
    "- Anytime you use a comma, place a space immediately afterwards.\n",
    "- Whitespace is your friend. Don’t write line after line of code – use blank lines to break it up.\n",
    "- Don’t let your lines run too long. Some people reading your code will be on a laptop, so you want to ensure that they don’t need to scroll horizontally and right to read your code. We recommend no more than 80 characters per line."
   ]
  },
  {
   "cell_type": "markdown",
   "id": "a2fc10cc",
   "metadata": {},
   "source": [
    "## Numbers, Dates, and Times"
   ]
  },
  {
   "cell_type": "markdown",
   "id": "7f556fba",
   "metadata": {},
   "source": [
    "### Integers, Floating Point Numbers, Complex Numbers"
   ]
  },
  {
   "cell_type": "markdown",
   "id": "6c32b7c5",
   "metadata": {},
   "source": [
    "### Python as a Calculator"
   ]
  },
  {
   "cell_type": "markdown",
   "id": "9406216e",
   "metadata": {},
   "source": [
    "### Other Math Functions"
   ]
  },
  {
   "cell_type": "markdown",
   "id": "8075f34e",
   "metadata": {},
   "source": [
    "### Floor/Modulus Division Operators"
   ]
  },
  {
   "cell_type": "markdown",
   "id": "9c8dab36",
   "metadata": {},
   "source": [
    "### Other Numbers"
   ]
  },
  {
   "cell_type": "markdown",
   "id": "6ef16488",
   "metadata": {},
   "source": [
    "### Dates and Times"
   ]
  },
  {
   "cell_type": "markdown",
   "id": "e957f0b7",
   "metadata": {},
   "source": [
    "## Strings"
   ]
  },
  {
   "cell_type": "markdown",
   "id": "499d67d0",
   "metadata": {},
   "source": [
    "### Generating a String"
   ]
  },
  {
   "cell_type": "markdown",
   "id": "61783e94",
   "metadata": {},
   "source": [
    "**Textual information** is stored in a data type called a **string(문자열)**. To denote that you would like something to be stored as a string, you **place it inside of quotation marks**.For example, you can write\n",
    "```python\n",
    "\"this is a string\"    # Notice the quotation marks\n",
    "'this is a string'    # Notice the quotation marks\n",
    "this is not a string  # No quotation marks\n",
    "```\n",
    "\n",
    "You can use either `\"` or `'` to create a string. Just make sure that you **start and end the string with the same one**! Notice that if we ask Python to tell us the type of a string, it abbreviates its answer to `str`."
   ]
  },
  {
   "cell_type": "code",
   "execution_count": 20,
   "id": "384a3599",
   "metadata": {},
   "outputs": [
    {
     "data": {
      "text/plain": [
       "str"
      ]
     },
     "execution_count": 20,
     "metadata": {},
     "output_type": "execute_result"
    }
   ],
   "source": [
    "type(\"this is a string\")"
   ]
  },
  {
   "cell_type": "markdown",
   "id": "8e32f718",
   "metadata": {},
   "source": [
    "The code below is invalid Python code\n",
    "```python\n",
    "x = 'What's wrong with this string'\n",
    "```\n",
    "How can you fix it?"
   ]
  },
  {
   "cell_type": "code",
   "execution_count": 21,
   "id": "9f771e8a",
   "metadata": {},
   "outputs": [],
   "source": [
    "# Your answers here."
   ]
  },
  {
   "cell_type": "markdown",
   "id": "38eb13e4",
   "metadata": {},
   "source": [
    "### String Operations"
   ]
  },
  {
   "cell_type": "markdown",
   "id": "da113597",
   "metadata": {},
   "source": [
    "Some of arithmetic operators we saw in the numbers section also work on strings:\n",
    "\n",
    "- Put two strings together: `x + y`\n",
    "- Repeat the string `x` a total of `n` times: `n * x` (or `x * n`)"
   ]
  },
  {
   "cell_type": "code",
   "execution_count": 22,
   "id": "94770b28",
   "metadata": {},
   "outputs": [],
   "source": [
    "x = 'Hello'\n",
    "y = 'World'"
   ]
  },
  {
   "cell_type": "code",
   "execution_count": 23,
   "id": "885ca3c9",
   "metadata": {},
   "outputs": [
    {
     "data": {
      "text/plain": [
       "'HelloWorld'"
      ]
     },
     "execution_count": 23,
     "metadata": {},
     "output_type": "execute_result"
    }
   ],
   "source": [
    "x + y"
   ]
  },
  {
   "cell_type": "code",
   "execution_count": 24,
   "id": "70304323",
   "metadata": {},
   "outputs": [
    {
     "data": {
      "text/plain": [
       "'HelloHelloHello'"
      ]
     },
     "execution_count": 24,
     "metadata": {},
     "output_type": "execute_result"
    }
   ],
   "source": [
    "3 * x"
   ]
  },
  {
   "cell_type": "markdown",
   "id": "1cac7b53",
   "metadata": {},
   "source": [
    "What happens if we try `*` with two strings, or `-` or `/`? The best way to find out is to try it!"
   ]
  },
  {
   "cell_type": "code",
   "execution_count": 25,
   "id": "007fa3e0",
   "metadata": {},
   "outputs": [
    {
     "ename": "TypeError",
     "evalue": "can't multiply sequence by non-int of type 'str'",
     "output_type": "error",
     "traceback": [
      "\u001b[0;31m---------------------------------------------------------------------------\u001b[0m",
      "\u001b[0;31mTypeError\u001b[0m                                 Traceback (most recent call last)",
      "Cell \u001b[0;32mIn[25], line 4\u001b[0m\n\u001b[1;32m      1\u001b[0m a \u001b[38;5;241m=\u001b[39m \u001b[38;5;124m'\u001b[39m\u001b[38;5;124m1\u001b[39m\u001b[38;5;124m'\u001b[39m\n\u001b[1;32m      2\u001b[0m b \u001b[38;5;241m=\u001b[39m \u001b[38;5;124m'\u001b[39m\u001b[38;5;124m2\u001b[39m\u001b[38;5;124m'\u001b[39m\n\u001b[0;32m----> 4\u001b[0m a \u001b[38;5;241m*\u001b[39m b\n",
      "\u001b[0;31mTypeError\u001b[0m: can't multiply sequence by non-int of type 'str'"
     ]
    }
   ],
   "source": [
    "a = '1'\n",
    "b = '2'\n",
    "\n",
    "a * b"
   ]
  },
  {
   "cell_type": "code",
   "execution_count": 26,
   "id": "7f5151fd",
   "metadata": {},
   "outputs": [
    {
     "ename": "TypeError",
     "evalue": "unsupported operand type(s) for -: 'str' and 'str'",
     "output_type": "error",
     "traceback": [
      "\u001b[0;31m---------------------------------------------------------------------------\u001b[0m",
      "\u001b[0;31mTypeError\u001b[0m                                 Traceback (most recent call last)",
      "Cell \u001b[0;32mIn[26], line 1\u001b[0m\n\u001b[0;32m----> 1\u001b[0m a \u001b[38;5;241m-\u001b[39m b\n",
      "\u001b[0;31mTypeError\u001b[0m: unsupported operand type(s) for -: 'str' and 'str'"
     ]
    }
   ],
   "source": [
    "a - b"
   ]
  },
  {
   "cell_type": "markdown",
   "id": "79dfd116",
   "metadata": {},
   "source": [
    "Now using the variables `x` and `y`, how could you create the sentence `Hello World`? (*Hint.* Think about how to present space as a string.)"
   ]
  },
  {
   "cell_type": "code",
   "execution_count": 27,
   "id": "5630c916",
   "metadata": {},
   "outputs": [],
   "source": [
    "# Your answers here!"
   ]
  },
  {
   "cell_type": "markdown",
   "id": "91cb25c6",
   "metadata": {},
   "source": [
    "### String Methods"
   ]
  },
  {
   "cell_type": "markdown",
   "id": "540eabec",
   "metadata": {},
   "source": [
    "We can use many methods to manipulate strings. We will not be able to cover all of them here, but let's take a look at some of the most useful ones."
   ]
  },
  {
   "cell_type": "code",
   "execution_count": 28,
   "id": "2c3cdcd2",
   "metadata": {},
   "outputs": [
    {
     "data": {
      "text/plain": [
       "'Hello'"
      ]
     },
     "execution_count": 28,
     "metadata": {},
     "output_type": "execute_result"
    }
   ],
   "source": [
    "x"
   ]
  },
  {
   "cell_type": "code",
   "execution_count": 29,
   "id": "20a98679",
   "metadata": {},
   "outputs": [
    {
     "data": {
      "text/plain": [
       "'hello'"
      ]
     },
     "execution_count": 29,
     "metadata": {},
     "output_type": "execute_result"
    }
   ],
   "source": [
    "x.lower() # Makes all letters lowercase"
   ]
  },
  {
   "cell_type": "code",
   "execution_count": 30,
   "id": "7b58055a",
   "metadata": {},
   "outputs": [
    {
     "data": {
      "text/plain": [
       "'HELLO'"
      ]
     },
     "execution_count": 30,
     "metadata": {},
     "output_type": "execute_result"
    }
   ],
   "source": [
    "x.upper() # Makes all letters uppercase"
   ]
  },
  {
   "cell_type": "code",
   "execution_count": 31,
   "id": "a9d996a7",
   "metadata": {},
   "outputs": [
    {
     "data": {
      "text/plain": [
       "2"
      ]
     },
     "execution_count": 31,
     "metadata": {},
     "output_type": "execute_result"
    }
   ],
   "source": [
    "x.count('l') # Counts number of a particular string"
   ]
  },
  {
   "cell_type": "code",
   "execution_count": 32,
   "id": "fe35b5e9",
   "metadata": {},
   "outputs": [
    {
     "data": {
      "text/plain": [
       "1"
      ]
     },
     "execution_count": 32,
     "metadata": {},
     "output_type": "execute_result"
    }
   ],
   "source": [
    "x.count('ll')"
   ]
  },
  {
   "cell_type": "code",
   "execution_count": 33,
   "id": "6077ea21",
   "metadata": {},
   "outputs": [
    {
     "data": {
      "text/plain": [
       "'Hello'"
      ]
     },
     "execution_count": 33,
     "metadata": {},
     "output_type": "execute_result"
    }
   ],
   "source": [
    "z = ' Hello'\n",
    "z.strip() # Remove leading and trailing whitespace."
   ]
  },
  {
   "cell_type": "markdown",
   "id": "19d5a395",
   "metadata": {},
   "source": [
    "One of our facorite (and most frequently used) string methods is `replace()`. It substitutes all occurrences of a particular pattern with a different pattern. For the variable `test` below, use the `replace` method to change the `c` to a `d`. (*Hint.* Type `test.replace?` to get some help for how to use the method replace.)"
   ]
  },
  {
   "cell_type": "code",
   "execution_count": 34,
   "id": "1694e373",
   "metadata": {},
   "outputs": [],
   "source": [
    "test = 'abc'\n",
    "# Your answers here!"
   ]
  },
  {
   "cell_type": "markdown",
   "id": "cde27181",
   "metadata": {},
   "source": [
    "Suppose you are working with price data and encounter the value `'$6.50'`. We recognize this as being a number representing the quantity \"six dollars and fifty cents\". However, Python interprets the value as the string `'$6.50'`. Here, your task is to convert the variable `price` below into a number."
   ]
  },
  {
   "cell_type": "code",
   "execution_count": 35,
   "id": "256e7f68",
   "metadata": {},
   "outputs": [],
   "source": [
    "price = '$6.50'\n",
    "\n",
    "# Your answers here!"
   ]
  },
  {
   "cell_type": "markdown",
   "id": "fff06e37",
   "metadata": {},
   "source": [
    "### String Formatting"
   ]
  },
  {
   "cell_type": "markdown",
   "id": "55e5f293",
   "metadata": {},
   "source": [
    "Sometimes we’d like to reuse some portion of a string repeatedly, but still make some relatively small changes at each usage. We can do this with **string formatting**, which done by using `{}` as a placeholder where we’d like to change the string, with a variable name or expression.\n",
    "\n",
    "Let’s look at an example."
   ]
  },
  {
   "cell_type": "code",
   "execution_count": 36,
   "id": "a85661dd",
   "metadata": {},
   "outputs": [
    {
     "name": "stdout",
     "output_type": "stream",
     "text": [
      "Vietnam had $223.9 billion GDP in 2017\n"
     ]
    }
   ],
   "source": [
    "country = \"Vietnam\"\n",
    "GDP = 223.9\n",
    "year = 2017\n",
    "my_string = f\"{country} had ${GDP} billion GDP in {year}\"\n",
    "print(my_string)"
   ]
  },
  {
   "cell_type": "markdown",
   "id": "8598c4ee",
   "metadata": {},
   "source": [
    "Rather than just substituting a variable name, you can use a calculation or expression."
   ]
  },
  {
   "cell_type": "code",
   "execution_count": 37,
   "id": "dc801860",
   "metadata": {},
   "outputs": [
    {
     "name": "stdout",
     "output_type": "stream",
     "text": [
      "5**2 = 25\n"
     ]
    }
   ],
   "source": [
    "print(f\"{5}**2 = {5**2}\")"
   ]
  },
  {
   "cell_type": "markdown",
   "id": "b54517ab",
   "metadata": {},
   "source": [
    "Or, using our previous example"
   ]
  },
  {
   "cell_type": "code",
   "execution_count": 38,
   "id": "61f56152",
   "metadata": {},
   "outputs": [
    {
     "name": "stdout",
     "output_type": "stream",
     "text": [
      "Vietnam had $223900000.0 GDP in 2017\n"
     ]
    }
   ],
   "source": [
    "my_string = f\"{country} had ${GDP * 1_000_000} GDP in {year}\"\n",
    "print(my_string)"
   ]
  },
  {
   "cell_type": "markdown",
   "id": "88539889",
   "metadata": {},
   "source": [
    "In these cases, the `f` in front of the string causes Python interpolate any valid expression within the `{}` braces."
   ]
  },
  {
   "cell_type": "markdown",
   "id": "75fd4ee1",
   "metadata": {},
   "source": [
    "Now, lookup a country in [World Bank database](https://data.worldbank.org/), and format a string showing the growth rate of GDP over the last 2 years."
   ]
  },
  {
   "cell_type": "code",
   "execution_count": 39,
   "id": "59e6e5c1",
   "metadata": {},
   "outputs": [],
   "source": [
    "# Your answers here"
   ]
  },
  {
   "cell_type": "markdown",
   "id": "39ca78b8",
   "metadata": {},
   "source": [
    "Alternatively, to reuse a formatted string, you can call the `format` method (noting that you do **not** put f in front)."
   ]
  },
  {
   "cell_type": "code",
   "execution_count": 40,
   "id": "174c5021",
   "metadata": {},
   "outputs": [
    {
     "data": {
      "text/plain": [
       "'Vietnam had $223.9 billion in 2017'"
      ]
     },
     "execution_count": 40,
     "metadata": {},
     "output_type": "execute_result"
    }
   ],
   "source": [
    "gdp_string = \"{country} had ${GDP} billion in {year}\"\n",
    "gdp_string.format(country = \"Vietnam\", GDP = 223.9, year = 2017)"
   ]
  },
  {
   "cell_type": "markdown",
   "id": "e2e1095b",
   "metadata": {},
   "source": [
    "Let's practice! Instead of hard-coding the values above, try to use the `country`, `GDP` and `year` variables you previously defined."
   ]
  },
  {
   "cell_type": "code",
   "execution_count": 41,
   "id": "ca47db8f",
   "metadata": {},
   "outputs": [],
   "source": [
    "# Your answers here."
   ]
  },
  {
   "cell_type": "markdown",
   "id": "c64fc072",
   "metadata": {},
   "source": [
    "Create a new string and **use formatting** to produce each of the following statements\n",
    "- “The 1st quarter revenue was 110M”\n",
    "- “The 2nd quarter revenue was 95M”\n",
    "- “The 3rd quarter revenue was 100M”\n",
    "- “The 4th quarter revenue was 130M”"
   ]
  },
  {
   "cell_type": "code",
   "execution_count": 43,
   "id": "2f680784",
   "metadata": {},
   "outputs": [],
   "source": [
    "# Your answers here."
   ]
  },
  {
   "cell_type": "markdown",
   "id": "4d0571c5",
   "metadata": {},
   "source": [
    "## Logical Expressions and Operators"
   ]
  },
  {
   "cell_type": "markdown",
   "id": "5b6d25bb",
   "metadata": {},
   "source": [
    "### Logical Expressions"
   ]
  },
  {
   "cell_type": "markdown",
   "id": "343493fb",
   "metadata": {},
   "source": [
    "### Booleans"
   ]
  },
  {
   "cell_type": "markdown",
   "id": "4a299e32",
   "metadata": {},
   "source": [
    "### Comparison Operators"
   ]
  },
  {
   "cell_type": "markdown",
   "id": "c6965bae",
   "metadata": {},
   "source": [
    "### Logical Operators"
   ]
  },
  {
   "cell_type": "markdown",
   "id": "78a1f168",
   "metadata": {},
   "source": [
    "### Quantifiers"
   ]
  },
  {
   "cell_type": "markdown",
   "id": "64627a36",
   "metadata": {},
   "source": [
    "## Collections"
   ]
  },
  {
   "cell_type": "markdown",
   "id": "50e1a19d",
   "metadata": {},
   "source": [
    "### Ordered Collections"
   ]
  },
  {
   "cell_type": "markdown",
   "id": "bf4d97ba",
   "metadata": {},
   "source": [
    "### Associative Collections"
   ]
  },
  {
   "cell_type": "markdown",
   "id": "df0dadb0",
   "metadata": {},
   "source": [
    "### Sets"
   ]
  },
  {
   "cell_type": "markdown",
   "id": "bf07fbe7",
   "metadata": {},
   "source": [
    "### Other Useful Collections"
   ]
  },
  {
   "cell_type": "markdown",
   "id": "6bb19513",
   "metadata": {},
   "source": [
    "Namedtuple, frozenset"
   ]
  },
  {
   "cell_type": "markdown",
   "id": "b238d860",
   "metadata": {},
   "source": [
    "## Control Flow"
   ]
  },
  {
   "cell_type": "markdown",
   "id": "a84100db",
   "metadata": {},
   "source": [
    "### Net Preset Values and Asset Pricing"
   ]
  },
  {
   "cell_type": "markdown",
   "id": "a5cb3439",
   "metadata": {},
   "source": [
    "### Conditionals"
   ]
  },
  {
   "cell_type": "markdown",
   "id": "c8b8c2d5",
   "metadata": {},
   "source": [
    "### Iterations"
   ]
  },
  {
   "cell_type": "markdown",
   "id": "c35433ef",
   "metadata": {},
   "source": []
  }
 ],
 "metadata": {
  "kernelspec": {
   "display_name": "base",
   "language": "python",
   "name": "python3"
  },
  "language_info": {
   "codemirror_mode": {
    "name": "ipython",
    "version": 3
   },
   "file_extension": ".py",
   "mimetype": "text/x-python",
   "name": "python",
   "nbconvert_exporter": "python",
   "pygments_lexer": "ipython3",
   "version": "3.12.7"
  }
 },
 "nbformat": 4,
 "nbformat_minor": 5
}
